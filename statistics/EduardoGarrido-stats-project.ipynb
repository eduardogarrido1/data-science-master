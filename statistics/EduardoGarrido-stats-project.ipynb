{
 "cells": [
  {
   "cell_type": "code",
   "execution_count": 483,
   "metadata": {},
   "outputs": [],
   "source": [
    "# Importación de librerías y configuraciones necesarias\n",
    "library(ggplot2)\n",
    "library(dplyr)\n",
    "options(repr.plot.height=4,repr.plot.width=6)"
   ]
  },
  {
   "cell_type": "markdown",
   "metadata": {},
   "source": [
    "Cargar los datos en un dataframe llamado: airbnb"
   ]
  },
  {
   "cell_type": "code",
   "execution_count": 484,
   "metadata": {},
   "outputs": [],
   "source": [
    "# Lectura del CSV\n",
    "airbnb<-read.csv('data//airbnb.csv',sep = ',', stringsAsFactors = T)"
   ]
  },
  {
   "cell_type": "markdown",
   "metadata": {},
   "source": [
    "Mostrar las primeras 6 filas del dataframe"
   ]
  },
  {
   "cell_type": "code",
   "execution_count": 485,
   "metadata": {
    "scrolled": true
   },
   "outputs": [
    {
     "data": {
      "text/html": [
       "<table class=\"dataframe\">\n",
       "<caption>A data.frame: 6 × 13</caption>\n",
       "<thead>\n",
       "\t<tr><th></th><th scope=col>Zipcode</th><th scope=col>Neighbourhood.Cleansed</th><th scope=col>Property.Type</th><th scope=col>Room.Type</th><th scope=col>Accommodates</th><th scope=col>Bathrooms</th><th scope=col>Bedrooms</th><th scope=col>Beds</th><th scope=col>Bed.Type</th><th scope=col>Amenities</th><th scope=col>Square.Feet</th><th scope=col>Price</th><th scope=col>Review.Scores.Rating</th></tr>\n",
       "\t<tr><th></th><th scope=col>&lt;fct&gt;</th><th scope=col>&lt;fct&gt;</th><th scope=col>&lt;fct&gt;</th><th scope=col>&lt;fct&gt;</th><th scope=col>&lt;int&gt;</th><th scope=col>&lt;dbl&gt;</th><th scope=col>&lt;int&gt;</th><th scope=col>&lt;int&gt;</th><th scope=col>&lt;fct&gt;</th><th scope=col>&lt;fct&gt;</th><th scope=col>&lt;int&gt;</th><th scope=col>&lt;int&gt;</th><th scope=col>&lt;int&gt;</th></tr>\n",
       "</thead>\n",
       "<tbody>\n",
       "\t<tr><th scope=row>1</th><td>28004</td><td>Universidad</td><td>Apartment</td><td>Private room   </td><td>2</td><td>2</td><td>1</td><td>1</td><td>Real Bed</td><td>TV,Wireless Internet,Kitchen,Pets allowed,Pets live on this property,Buzzer/wireless intercom,Heating,Suitable for events,Washer,First aid kit,Essentials,Lock on bedroom door,Iron                                                                                                                                                                             </td><td> NA</td><td>35</td><td> NA</td></tr>\n",
       "\t<tr><th scope=row>2</th><td>28004</td><td>Universidad</td><td>Apartment</td><td>Entire home/apt</td><td>6</td><td>1</td><td>3</td><td>5</td><td>Real Bed</td><td>TV,Internet,Wireless Internet,Air conditioning,Kitchen,Indoor fireplace,Heating,Family/kid friendly,Washer,Dryer,Smoke detector,Carbon monoxide detector,Essentials,Shampoo                                                                                                                                                                                     </td><td> NA</td><td>92</td><td> 96</td></tr>\n",
       "\t<tr><th scope=row>3</th><td>28004</td><td>Universidad</td><td>Apartment</td><td>Entire home/apt</td><td>3</td><td>1</td><td>2</td><td>2</td><td>Real Bed</td><td>TV,Internet,Wireless Internet,Air conditioning,Kitchen,Doorman,Heating,Family/kid friendly,Washer,Essentials,Shampoo,Hangers,Hair dryer,Iron,Laptop friendly workspace                                                                                                                                                                                          </td><td> NA</td><td>55</td><td> 91</td></tr>\n",
       "\t<tr><th scope=row>4</th><td>28004</td><td>Universidad</td><td>Loft     </td><td>Entire home/apt</td><td>3</td><td>2</td><td>1</td><td>1</td><td>Real Bed</td><td>TV,Internet,Wireless Internet,Air conditioning,Kitchen,Pets allowed,Breakfast,Elevator in building,Indoor fireplace,Buzzer/wireless intercom,Heating,Washer,Essentials,Shampoo,Hangers,Hair dryer,Iron,Laptop friendly workspace,translation missing: en.hosting_amenity_49,translation missing: en.hosting_amenity_50                                          </td><td> NA</td><td>60</td><td>100</td></tr>\n",
       "\t<tr><th scope=row>5</th><td>28015</td><td>Universidad</td><td>Apartment</td><td>Entire home/apt</td><td>5</td><td>1</td><td>1</td><td>1</td><td>Real Bed</td><td>TV,Wireless Internet,Air conditioning,Kitchen,Smoking allowed,Pets allowed,Elevator in building,Heating,Family/kid friendly,Washer,Essentials,Iron                                                                                                                                                                                                              </td><td>538</td><td>75</td><td> 90</td></tr>\n",
       "\t<tr><th scope=row>6</th><td>28004</td><td>Universidad</td><td>Apartment</td><td>Entire home/apt</td><td>2</td><td>1</td><td>0</td><td>1</td><td>Real Bed</td><td>TV,Cable TV,Internet,Wireless Internet,Air conditioning,Wheelchair accessible,Kitchen,Doorman,Elevator in building,Buzzer/wireless intercom,Heating,Washer,Smoke detector,Carbon monoxide detector,First aid kit,Safety card,Fire extinguisher,Essentials,Shampoo,24-hour check-in,Hangers,Hair dryer,Iron,Laptop friendly workspace,Self Check-In,Doorman Entry</td><td> NA</td><td>55</td><td> 95</td></tr>\n",
       "</tbody>\n",
       "</table>\n"
      ],
      "text/latex": [
       "A data.frame: 6 × 13\n",
       "\\begin{tabular}{r|lllllllllllll}\n",
       "  & Zipcode & Neighbourhood.Cleansed & Property.Type & Room.Type & Accommodates & Bathrooms & Bedrooms & Beds & Bed.Type & Amenities & Square.Feet & Price & Review.Scores.Rating\\\\\n",
       "  & <fct> & <fct> & <fct> & <fct> & <int> & <dbl> & <int> & <int> & <fct> & <fct> & <int> & <int> & <int>\\\\\n",
       "\\hline\n",
       "\t1 & 28004 & Universidad & Apartment & Private room    & 2 & 2 & 1 & 1 & Real Bed & TV,Wireless Internet,Kitchen,Pets allowed,Pets live on this property,Buzzer/wireless intercom,Heating,Suitable for events,Washer,First aid kit,Essentials,Lock on bedroom door,Iron                                                                                                                                                                              &  NA & 35 &  NA\\\\\n",
       "\t2 & 28004 & Universidad & Apartment & Entire home/apt & 6 & 1 & 3 & 5 & Real Bed & TV,Internet,Wireless Internet,Air conditioning,Kitchen,Indoor fireplace,Heating,Family/kid friendly,Washer,Dryer,Smoke detector,Carbon monoxide detector,Essentials,Shampoo                                                                                                                                                                                      &  NA & 92 &  96\\\\\n",
       "\t3 & 28004 & Universidad & Apartment & Entire home/apt & 3 & 1 & 2 & 2 & Real Bed & TV,Internet,Wireless Internet,Air conditioning,Kitchen,Doorman,Heating,Family/kid friendly,Washer,Essentials,Shampoo,Hangers,Hair dryer,Iron,Laptop friendly workspace                                                                                                                                                                                           &  NA & 55 &  91\\\\\n",
       "\t4 & 28004 & Universidad & Loft      & Entire home/apt & 3 & 2 & 1 & 1 & Real Bed & TV,Internet,Wireless Internet,Air conditioning,Kitchen,Pets allowed,Breakfast,Elevator in building,Indoor fireplace,Buzzer/wireless intercom,Heating,Washer,Essentials,Shampoo,Hangers,Hair dryer,Iron,Laptop friendly workspace,translation missing: en.hosting\\_amenity\\_49,translation missing: en.hosting\\_amenity\\_50                                           &  NA & 60 & 100\\\\\n",
       "\t5 & 28015 & Universidad & Apartment & Entire home/apt & 5 & 1 & 1 & 1 & Real Bed & TV,Wireless Internet,Air conditioning,Kitchen,Smoking allowed,Pets allowed,Elevator in building,Heating,Family/kid friendly,Washer,Essentials,Iron                                                                                                                                                                                                               & 538 & 75 &  90\\\\\n",
       "\t6 & 28004 & Universidad & Apartment & Entire home/apt & 2 & 1 & 0 & 1 & Real Bed & TV,Cable TV,Internet,Wireless Internet,Air conditioning,Wheelchair accessible,Kitchen,Doorman,Elevator in building,Buzzer/wireless intercom,Heating,Washer,Smoke detector,Carbon monoxide detector,First aid kit,Safety card,Fire extinguisher,Essentials,Shampoo,24-hour check-in,Hangers,Hair dryer,Iron,Laptop friendly workspace,Self Check-In,Doorman Entry &  NA & 55 &  95\\\\\n",
       "\\end{tabular}\n"
      ],
      "text/markdown": [
       "\n",
       "A data.frame: 6 × 13\n",
       "\n",
       "| <!--/--> | Zipcode &lt;fct&gt; | Neighbourhood.Cleansed &lt;fct&gt; | Property.Type &lt;fct&gt; | Room.Type &lt;fct&gt; | Accommodates &lt;int&gt; | Bathrooms &lt;dbl&gt; | Bedrooms &lt;int&gt; | Beds &lt;int&gt; | Bed.Type &lt;fct&gt; | Amenities &lt;fct&gt; | Square.Feet &lt;int&gt; | Price &lt;int&gt; | Review.Scores.Rating &lt;int&gt; |\n",
       "|---|---|---|---|---|---|---|---|---|---|---|---|---|---|\n",
       "| 1 | 28004 | Universidad | Apartment | Private room    | 2 | 2 | 1 | 1 | Real Bed | TV,Wireless Internet,Kitchen,Pets allowed,Pets live on this property,Buzzer/wireless intercom,Heating,Suitable for events,Washer,First aid kit,Essentials,Lock on bedroom door,Iron                                                                                                                                                                              |  NA | 35 |  NA |\n",
       "| 2 | 28004 | Universidad | Apartment | Entire home/apt | 6 | 1 | 3 | 5 | Real Bed | TV,Internet,Wireless Internet,Air conditioning,Kitchen,Indoor fireplace,Heating,Family/kid friendly,Washer,Dryer,Smoke detector,Carbon monoxide detector,Essentials,Shampoo                                                                                                                                                                                      |  NA | 92 |  96 |\n",
       "| 3 | 28004 | Universidad | Apartment | Entire home/apt | 3 | 1 | 2 | 2 | Real Bed | TV,Internet,Wireless Internet,Air conditioning,Kitchen,Doorman,Heating,Family/kid friendly,Washer,Essentials,Shampoo,Hangers,Hair dryer,Iron,Laptop friendly workspace                                                                                                                                                                                           |  NA | 55 |  91 |\n",
       "| 4 | 28004 | Universidad | Loft      | Entire home/apt | 3 | 2 | 1 | 1 | Real Bed | TV,Internet,Wireless Internet,Air conditioning,Kitchen,Pets allowed,Breakfast,Elevator in building,Indoor fireplace,Buzzer/wireless intercom,Heating,Washer,Essentials,Shampoo,Hangers,Hair dryer,Iron,Laptop friendly workspace,translation missing: en.hosting_amenity_49,translation missing: en.hosting_amenity_50                                           |  NA | 60 | 100 |\n",
       "| 5 | 28015 | Universidad | Apartment | Entire home/apt | 5 | 1 | 1 | 1 | Real Bed | TV,Wireless Internet,Air conditioning,Kitchen,Smoking allowed,Pets allowed,Elevator in building,Heating,Family/kid friendly,Washer,Essentials,Iron                                                                                                                                                                                                               | 538 | 75 |  90 |\n",
       "| 6 | 28004 | Universidad | Apartment | Entire home/apt | 2 | 1 | 0 | 1 | Real Bed | TV,Cable TV,Internet,Wireless Internet,Air conditioning,Wheelchair accessible,Kitchen,Doorman,Elevator in building,Buzzer/wireless intercom,Heating,Washer,Smoke detector,Carbon monoxide detector,First aid kit,Safety card,Fire extinguisher,Essentials,Shampoo,24-hour check-in,Hangers,Hair dryer,Iron,Laptop friendly workspace,Self Check-In,Doorman Entry |  NA | 55 |  95 |\n",
       "\n"
      ],
      "text/plain": [
       "  Zipcode Neighbourhood.Cleansed Property.Type Room.Type       Accommodates\n",
       "1 28004   Universidad            Apartment     Private room    2           \n",
       "2 28004   Universidad            Apartment     Entire home/apt 6           \n",
       "3 28004   Universidad            Apartment     Entire home/apt 3           \n",
       "4 28004   Universidad            Loft          Entire home/apt 3           \n",
       "5 28015   Universidad            Apartment     Entire home/apt 5           \n",
       "6 28004   Universidad            Apartment     Entire home/apt 2           \n",
       "  Bathrooms Bedrooms Beds Bed.Type\n",
       "1 2         1        1    Real Bed\n",
       "2 1         3        5    Real Bed\n",
       "3 1         2        2    Real Bed\n",
       "4 2         1        1    Real Bed\n",
       "5 1         1        1    Real Bed\n",
       "6 1         0        1    Real Bed\n",
       "  Amenities                                                                                                                                                                                                                                                                                                                                                       \n",
       "1 TV,Wireless Internet,Kitchen,Pets allowed,Pets live on this property,Buzzer/wireless intercom,Heating,Suitable for events,Washer,First aid kit,Essentials,Lock on bedroom door,Iron                                                                                                                                                                             \n",
       "2 TV,Internet,Wireless Internet,Air conditioning,Kitchen,Indoor fireplace,Heating,Family/kid friendly,Washer,Dryer,Smoke detector,Carbon monoxide detector,Essentials,Shampoo                                                                                                                                                                                     \n",
       "3 TV,Internet,Wireless Internet,Air conditioning,Kitchen,Doorman,Heating,Family/kid friendly,Washer,Essentials,Shampoo,Hangers,Hair dryer,Iron,Laptop friendly workspace                                                                                                                                                                                          \n",
       "4 TV,Internet,Wireless Internet,Air conditioning,Kitchen,Pets allowed,Breakfast,Elevator in building,Indoor fireplace,Buzzer/wireless intercom,Heating,Washer,Essentials,Shampoo,Hangers,Hair dryer,Iron,Laptop friendly workspace,translation missing: en.hosting_amenity_49,translation missing: en.hosting_amenity_50                                          \n",
       "5 TV,Wireless Internet,Air conditioning,Kitchen,Smoking allowed,Pets allowed,Elevator in building,Heating,Family/kid friendly,Washer,Essentials,Iron                                                                                                                                                                                                              \n",
       "6 TV,Cable TV,Internet,Wireless Internet,Air conditioning,Wheelchair accessible,Kitchen,Doorman,Elevator in building,Buzzer/wireless intercom,Heating,Washer,Smoke detector,Carbon monoxide detector,First aid kit,Safety card,Fire extinguisher,Essentials,Shampoo,24-hour check-in,Hangers,Hair dryer,Iron,Laptop friendly workspace,Self Check-In,Doorman Entry\n",
       "  Square.Feet Price Review.Scores.Rating\n",
       "1  NA         35     NA                 \n",
       "2  NA         92     96                 \n",
       "3  NA         55     91                 \n",
       "4  NA         60    100                 \n",
       "5 538         75     90                 \n",
       "6  NA         55     95                 "
      ]
     },
     "metadata": {},
     "output_type": "display_data"
    }
   ],
   "source": [
    "# Primeros registros del DataFrame (6 primeros)\n",
    "head(airbnb)"
   ]
  },
  {
   "cell_type": "markdown",
   "metadata": {},
   "source": [
    "Renombrar las columnas de la siguiente forma:\n",
    "\n",
    "| Nombre original | Nuevo nombre |\n",
    "| - | - |\n",
    "| Zipcode | CodigoPostal |\n",
    "| Neighbourhood.Cleansed | Barrio |\n",
    "| Property.Type\t| TipoPropiedad |\n",
    "| Room.Type | TipoAlquiler |\n",
    "| Accommodates | MaxOcupantes |\n",
    "| Bathrooms\t| NumBanyos |\n",
    "| Bedrooms\t| NumDormitorios |\n",
    "| Beds\t|  NumCamas |\n",
    "| Bed.Type\t| TipoCama |\n",
    "| Amenities | Comodidades |\n",
    "| Square.Feet | PiesCuadrados |\n",
    "| Price\t| Precio |\n",
    "| Review.Scores.Rating | Puntuacion |"
   ]
  },
  {
   "cell_type": "code",
   "execution_count": 486,
   "metadata": {},
   "outputs": [],
   "source": [
    "# Guardado de palabras en un vector\n",
    "newnames<-c(\"CodigoPostal\",\"Barrio\",\"TipoPropiedad\",\"TipoAlquiler\",\"MaxOcupantes\",\"NumBanyos\",\n",
    "\"NumDormitorios\",\"NumCamas\",\"TipoCama\",\"Comodidades\",\"PiesCuadrados\",\"Precio\",\"Puntuacion\")\n",
    "\n",
    "# Asignación de las palabras del vector como nombres de campos al DataFrame\n",
    "names(airbnb) <- newnames"
   ]
  },
  {
   "cell_type": "code",
   "execution_count": 487,
   "metadata": {},
   "outputs": [
    {
     "data": {
      "text/html": [
       "<style>\n",
       ".list-inline {list-style: none; margin:0; padding: 0}\n",
       ".list-inline>li {display: inline-block}\n",
       ".list-inline>li:not(:last-child)::after {content: \"\\00b7\"; padding: 0 .5ex}\n",
       "</style>\n",
       "<ol class=list-inline><li>'CodigoPostal'</li><li>'Barrio'</li><li>'TipoPropiedad'</li><li>'TipoAlquiler'</li><li>'MaxOcupantes'</li><li>'NumBanyos'</li><li>'NumDormitorios'</li><li>'NumCamas'</li><li>'TipoCama'</li><li>'Comodidades'</li><li>'PiesCuadrados'</li><li>'Precio'</li><li>'Puntuacion'</li></ol>\n"
      ],
      "text/latex": [
       "\\begin{enumerate*}\n",
       "\\item 'CodigoPostal'\n",
       "\\item 'Barrio'\n",
       "\\item 'TipoPropiedad'\n",
       "\\item 'TipoAlquiler'\n",
       "\\item 'MaxOcupantes'\n",
       "\\item 'NumBanyos'\n",
       "\\item 'NumDormitorios'\n",
       "\\item 'NumCamas'\n",
       "\\item 'TipoCama'\n",
       "\\item 'Comodidades'\n",
       "\\item 'PiesCuadrados'\n",
       "\\item 'Precio'\n",
       "\\item 'Puntuacion'\n",
       "\\end{enumerate*}\n"
      ],
      "text/markdown": [
       "1. 'CodigoPostal'\n",
       "2. 'Barrio'\n",
       "3. 'TipoPropiedad'\n",
       "4. 'TipoAlquiler'\n",
       "5. 'MaxOcupantes'\n",
       "6. 'NumBanyos'\n",
       "7. 'NumDormitorios'\n",
       "8. 'NumCamas'\n",
       "9. 'TipoCama'\n",
       "10. 'Comodidades'\n",
       "11. 'PiesCuadrados'\n",
       "12. 'Precio'\n",
       "13. 'Puntuacion'\n",
       "\n",
       "\n"
      ],
      "text/plain": [
       " [1] \"CodigoPostal\"   \"Barrio\"         \"TipoPropiedad\"  \"TipoAlquiler\"  \n",
       " [5] \"MaxOcupantes\"   \"NumBanyos\"      \"NumDormitorios\" \"NumCamas\"      \n",
       " [9] \"TipoCama\"       \"Comodidades\"    \"PiesCuadrados\"  \"Precio\"        \n",
       "[13] \"Puntuacion\"    "
      ]
     },
     "metadata": {},
     "output_type": "display_data"
    }
   ],
   "source": [
    "# Nombres de los campos\n",
    "names(airbnb)"
   ]
  },
  {
   "cell_type": "markdown",
   "metadata": {},
   "source": [
    "Crea una nueva columna llamada MetrosCuadrados a partir de la columna PiesCuadrados.\n",
    "\n",
    "Ayuda: 1 pie cuadrado son 0,092903 metros cuadrdados"
   ]
  },
  {
   "cell_type": "code",
   "execution_count": 488,
   "metadata": {},
   "outputs": [
    {
     "data": {
      "text/html": [
       "<table class=\"dataframe\">\n",
       "<caption>A data.frame: 6 × 14</caption>\n",
       "<thead>\n",
       "\t<tr><th></th><th scope=col>CodigoPostal</th><th scope=col>Barrio</th><th scope=col>TipoPropiedad</th><th scope=col>TipoAlquiler</th><th scope=col>MaxOcupantes</th><th scope=col>NumBanyos</th><th scope=col>NumDormitorios</th><th scope=col>NumCamas</th><th scope=col>TipoCama</th><th scope=col>Comodidades</th><th scope=col>PiesCuadrados</th><th scope=col>Precio</th><th scope=col>Puntuacion</th><th scope=col>MetrosCuadrados</th></tr>\n",
       "\t<tr><th></th><th scope=col>&lt;fct&gt;</th><th scope=col>&lt;fct&gt;</th><th scope=col>&lt;fct&gt;</th><th scope=col>&lt;fct&gt;</th><th scope=col>&lt;int&gt;</th><th scope=col>&lt;dbl&gt;</th><th scope=col>&lt;int&gt;</th><th scope=col>&lt;int&gt;</th><th scope=col>&lt;fct&gt;</th><th scope=col>&lt;fct&gt;</th><th scope=col>&lt;int&gt;</th><th scope=col>&lt;int&gt;</th><th scope=col>&lt;int&gt;</th><th scope=col>&lt;dbl&gt;</th></tr>\n",
       "</thead>\n",
       "<tbody>\n",
       "\t<tr><th scope=row>1</th><td>28004</td><td>Universidad</td><td>Apartment</td><td>Private room   </td><td>2</td><td>2</td><td>1</td><td>1</td><td>Real Bed</td><td>TV,Wireless Internet,Kitchen,Pets allowed,Pets live on this property,Buzzer/wireless intercom,Heating,Suitable for events,Washer,First aid kit,Essentials,Lock on bedroom door,Iron                                                                                                                                                                             </td><td> NA</td><td>35</td><td> NA</td><td>      NA</td></tr>\n",
       "\t<tr><th scope=row>2</th><td>28004</td><td>Universidad</td><td>Apartment</td><td>Entire home/apt</td><td>6</td><td>1</td><td>3</td><td>5</td><td>Real Bed</td><td>TV,Internet,Wireless Internet,Air conditioning,Kitchen,Indoor fireplace,Heating,Family/kid friendly,Washer,Dryer,Smoke detector,Carbon monoxide detector,Essentials,Shampoo                                                                                                                                                                                     </td><td> NA</td><td>92</td><td> 96</td><td>      NA</td></tr>\n",
       "\t<tr><th scope=row>3</th><td>28004</td><td>Universidad</td><td>Apartment</td><td>Entire home/apt</td><td>3</td><td>1</td><td>2</td><td>2</td><td>Real Bed</td><td>TV,Internet,Wireless Internet,Air conditioning,Kitchen,Doorman,Heating,Family/kid friendly,Washer,Essentials,Shampoo,Hangers,Hair dryer,Iron,Laptop friendly workspace                                                                                                                                                                                          </td><td> NA</td><td>55</td><td> 91</td><td>      NA</td></tr>\n",
       "\t<tr><th scope=row>4</th><td>28004</td><td>Universidad</td><td>Loft     </td><td>Entire home/apt</td><td>3</td><td>2</td><td>1</td><td>1</td><td>Real Bed</td><td>TV,Internet,Wireless Internet,Air conditioning,Kitchen,Pets allowed,Breakfast,Elevator in building,Indoor fireplace,Buzzer/wireless intercom,Heating,Washer,Essentials,Shampoo,Hangers,Hair dryer,Iron,Laptop friendly workspace,translation missing: en.hosting_amenity_49,translation missing: en.hosting_amenity_50                                          </td><td> NA</td><td>60</td><td>100</td><td>      NA</td></tr>\n",
       "\t<tr><th scope=row>5</th><td>28015</td><td>Universidad</td><td>Apartment</td><td>Entire home/apt</td><td>5</td><td>1</td><td>1</td><td>1</td><td>Real Bed</td><td>TV,Wireless Internet,Air conditioning,Kitchen,Smoking allowed,Pets allowed,Elevator in building,Heating,Family/kid friendly,Washer,Essentials,Iron                                                                                                                                                                                                              </td><td>538</td><td>75</td><td> 90</td><td>49.98181</td></tr>\n",
       "\t<tr><th scope=row>6</th><td>28004</td><td>Universidad</td><td>Apartment</td><td>Entire home/apt</td><td>2</td><td>1</td><td>0</td><td>1</td><td>Real Bed</td><td>TV,Cable TV,Internet,Wireless Internet,Air conditioning,Wheelchair accessible,Kitchen,Doorman,Elevator in building,Buzzer/wireless intercom,Heating,Washer,Smoke detector,Carbon monoxide detector,First aid kit,Safety card,Fire extinguisher,Essentials,Shampoo,24-hour check-in,Hangers,Hair dryer,Iron,Laptop friendly workspace,Self Check-In,Doorman Entry</td><td> NA</td><td>55</td><td> 95</td><td>      NA</td></tr>\n",
       "</tbody>\n",
       "</table>\n"
      ],
      "text/latex": [
       "A data.frame: 6 × 14\n",
       "\\begin{tabular}{r|llllllllllllll}\n",
       "  & CodigoPostal & Barrio & TipoPropiedad & TipoAlquiler & MaxOcupantes & NumBanyos & NumDormitorios & NumCamas & TipoCama & Comodidades & PiesCuadrados & Precio & Puntuacion & MetrosCuadrados\\\\\n",
       "  & <fct> & <fct> & <fct> & <fct> & <int> & <dbl> & <int> & <int> & <fct> & <fct> & <int> & <int> & <int> & <dbl>\\\\\n",
       "\\hline\n",
       "\t1 & 28004 & Universidad & Apartment & Private room    & 2 & 2 & 1 & 1 & Real Bed & TV,Wireless Internet,Kitchen,Pets allowed,Pets live on this property,Buzzer/wireless intercom,Heating,Suitable for events,Washer,First aid kit,Essentials,Lock on bedroom door,Iron                                                                                                                                                                              &  NA & 35 &  NA &       NA\\\\\n",
       "\t2 & 28004 & Universidad & Apartment & Entire home/apt & 6 & 1 & 3 & 5 & Real Bed & TV,Internet,Wireless Internet,Air conditioning,Kitchen,Indoor fireplace,Heating,Family/kid friendly,Washer,Dryer,Smoke detector,Carbon monoxide detector,Essentials,Shampoo                                                                                                                                                                                      &  NA & 92 &  96 &       NA\\\\\n",
       "\t3 & 28004 & Universidad & Apartment & Entire home/apt & 3 & 1 & 2 & 2 & Real Bed & TV,Internet,Wireless Internet,Air conditioning,Kitchen,Doorman,Heating,Family/kid friendly,Washer,Essentials,Shampoo,Hangers,Hair dryer,Iron,Laptop friendly workspace                                                                                                                                                                                           &  NA & 55 &  91 &       NA\\\\\n",
       "\t4 & 28004 & Universidad & Loft      & Entire home/apt & 3 & 2 & 1 & 1 & Real Bed & TV,Internet,Wireless Internet,Air conditioning,Kitchen,Pets allowed,Breakfast,Elevator in building,Indoor fireplace,Buzzer/wireless intercom,Heating,Washer,Essentials,Shampoo,Hangers,Hair dryer,Iron,Laptop friendly workspace,translation missing: en.hosting\\_amenity\\_49,translation missing: en.hosting\\_amenity\\_50                                           &  NA & 60 & 100 &       NA\\\\\n",
       "\t5 & 28015 & Universidad & Apartment & Entire home/apt & 5 & 1 & 1 & 1 & Real Bed & TV,Wireless Internet,Air conditioning,Kitchen,Smoking allowed,Pets allowed,Elevator in building,Heating,Family/kid friendly,Washer,Essentials,Iron                                                                                                                                                                                                               & 538 & 75 &  90 & 49.98181\\\\\n",
       "\t6 & 28004 & Universidad & Apartment & Entire home/apt & 2 & 1 & 0 & 1 & Real Bed & TV,Cable TV,Internet,Wireless Internet,Air conditioning,Wheelchair accessible,Kitchen,Doorman,Elevator in building,Buzzer/wireless intercom,Heating,Washer,Smoke detector,Carbon monoxide detector,First aid kit,Safety card,Fire extinguisher,Essentials,Shampoo,24-hour check-in,Hangers,Hair dryer,Iron,Laptop friendly workspace,Self Check-In,Doorman Entry &  NA & 55 &  95 &       NA\\\\\n",
       "\\end{tabular}\n"
      ],
      "text/markdown": [
       "\n",
       "A data.frame: 6 × 14\n",
       "\n",
       "| <!--/--> | CodigoPostal &lt;fct&gt; | Barrio &lt;fct&gt; | TipoPropiedad &lt;fct&gt; | TipoAlquiler &lt;fct&gt; | MaxOcupantes &lt;int&gt; | NumBanyos &lt;dbl&gt; | NumDormitorios &lt;int&gt; | NumCamas &lt;int&gt; | TipoCama &lt;fct&gt; | Comodidades &lt;fct&gt; | PiesCuadrados &lt;int&gt; | Precio &lt;int&gt; | Puntuacion &lt;int&gt; | MetrosCuadrados &lt;dbl&gt; |\n",
       "|---|---|---|---|---|---|---|---|---|---|---|---|---|---|---|\n",
       "| 1 | 28004 | Universidad | Apartment | Private room    | 2 | 2 | 1 | 1 | Real Bed | TV,Wireless Internet,Kitchen,Pets allowed,Pets live on this property,Buzzer/wireless intercom,Heating,Suitable for events,Washer,First aid kit,Essentials,Lock on bedroom door,Iron                                                                                                                                                                              |  NA | 35 |  NA |       NA |\n",
       "| 2 | 28004 | Universidad | Apartment | Entire home/apt | 6 | 1 | 3 | 5 | Real Bed | TV,Internet,Wireless Internet,Air conditioning,Kitchen,Indoor fireplace,Heating,Family/kid friendly,Washer,Dryer,Smoke detector,Carbon monoxide detector,Essentials,Shampoo                                                                                                                                                                                      |  NA | 92 |  96 |       NA |\n",
       "| 3 | 28004 | Universidad | Apartment | Entire home/apt | 3 | 1 | 2 | 2 | Real Bed | TV,Internet,Wireless Internet,Air conditioning,Kitchen,Doorman,Heating,Family/kid friendly,Washer,Essentials,Shampoo,Hangers,Hair dryer,Iron,Laptop friendly workspace                                                                                                                                                                                           |  NA | 55 |  91 |       NA |\n",
       "| 4 | 28004 | Universidad | Loft      | Entire home/apt | 3 | 2 | 1 | 1 | Real Bed | TV,Internet,Wireless Internet,Air conditioning,Kitchen,Pets allowed,Breakfast,Elevator in building,Indoor fireplace,Buzzer/wireless intercom,Heating,Washer,Essentials,Shampoo,Hangers,Hair dryer,Iron,Laptop friendly workspace,translation missing: en.hosting_amenity_49,translation missing: en.hosting_amenity_50                                           |  NA | 60 | 100 |       NA |\n",
       "| 5 | 28015 | Universidad | Apartment | Entire home/apt | 5 | 1 | 1 | 1 | Real Bed | TV,Wireless Internet,Air conditioning,Kitchen,Smoking allowed,Pets allowed,Elevator in building,Heating,Family/kid friendly,Washer,Essentials,Iron                                                                                                                                                                                                               | 538 | 75 |  90 | 49.98181 |\n",
       "| 6 | 28004 | Universidad | Apartment | Entire home/apt | 2 | 1 | 0 | 1 | Real Bed | TV,Cable TV,Internet,Wireless Internet,Air conditioning,Wheelchair accessible,Kitchen,Doorman,Elevator in building,Buzzer/wireless intercom,Heating,Washer,Smoke detector,Carbon monoxide detector,First aid kit,Safety card,Fire extinguisher,Essentials,Shampoo,24-hour check-in,Hangers,Hair dryer,Iron,Laptop friendly workspace,Self Check-In,Doorman Entry |  NA | 55 |  95 |       NA |\n",
       "\n"
      ],
      "text/plain": [
       "  CodigoPostal Barrio      TipoPropiedad TipoAlquiler    MaxOcupantes NumBanyos\n",
       "1 28004        Universidad Apartment     Private room    2            2        \n",
       "2 28004        Universidad Apartment     Entire home/apt 6            1        \n",
       "3 28004        Universidad Apartment     Entire home/apt 3            1        \n",
       "4 28004        Universidad Loft          Entire home/apt 3            2        \n",
       "5 28015        Universidad Apartment     Entire home/apt 5            1        \n",
       "6 28004        Universidad Apartment     Entire home/apt 2            1        \n",
       "  NumDormitorios NumCamas TipoCama\n",
       "1 1              1        Real Bed\n",
       "2 3              5        Real Bed\n",
       "3 2              2        Real Bed\n",
       "4 1              1        Real Bed\n",
       "5 1              1        Real Bed\n",
       "6 0              1        Real Bed\n",
       "  Comodidades                                                                                                                                                                                                                                                                                                                                                     \n",
       "1 TV,Wireless Internet,Kitchen,Pets allowed,Pets live on this property,Buzzer/wireless intercom,Heating,Suitable for events,Washer,First aid kit,Essentials,Lock on bedroom door,Iron                                                                                                                                                                             \n",
       "2 TV,Internet,Wireless Internet,Air conditioning,Kitchen,Indoor fireplace,Heating,Family/kid friendly,Washer,Dryer,Smoke detector,Carbon monoxide detector,Essentials,Shampoo                                                                                                                                                                                     \n",
       "3 TV,Internet,Wireless Internet,Air conditioning,Kitchen,Doorman,Heating,Family/kid friendly,Washer,Essentials,Shampoo,Hangers,Hair dryer,Iron,Laptop friendly workspace                                                                                                                                                                                          \n",
       "4 TV,Internet,Wireless Internet,Air conditioning,Kitchen,Pets allowed,Breakfast,Elevator in building,Indoor fireplace,Buzzer/wireless intercom,Heating,Washer,Essentials,Shampoo,Hangers,Hair dryer,Iron,Laptop friendly workspace,translation missing: en.hosting_amenity_49,translation missing: en.hosting_amenity_50                                          \n",
       "5 TV,Wireless Internet,Air conditioning,Kitchen,Smoking allowed,Pets allowed,Elevator in building,Heating,Family/kid friendly,Washer,Essentials,Iron                                                                                                                                                                                                              \n",
       "6 TV,Cable TV,Internet,Wireless Internet,Air conditioning,Wheelchair accessible,Kitchen,Doorman,Elevator in building,Buzzer/wireless intercom,Heating,Washer,Smoke detector,Carbon monoxide detector,First aid kit,Safety card,Fire extinguisher,Essentials,Shampoo,24-hour check-in,Hangers,Hair dryer,Iron,Laptop friendly workspace,Self Check-In,Doorman Entry\n",
       "  PiesCuadrados Precio Puntuacion MetrosCuadrados\n",
       "1  NA           35      NA              NA       \n",
       "2  NA           92      96              NA       \n",
       "3  NA           55      91              NA       \n",
       "4  NA           60     100              NA       \n",
       "5 538           75      90        49.98181       \n",
       "6  NA           55      95              NA       "
      ]
     },
     "metadata": {},
     "output_type": "display_data"
    }
   ],
   "source": [
    "# Añadido del nuevo campo \"PiesCuadrados\" al DataFrame\n",
    "airbnb$MetrosCuadrados <- airbnb$PiesCuadrados * 0.092903\n",
    "\n",
    "# Primeros registros del DataFrame (6 primeros)\n",
    "head(airbnb)"
   ]
  },
  {
   "cell_type": "markdown",
   "metadata": {},
   "source": [
    "Miremos el código postal. Es una variable con entradas erroneas.\n",
    "Hay valores como '', '-'  y '28' que deberían ser considerados como NA.\n",
    "Así mismo también debería ser NA todos los que no compiencen por 28, ya que estamos con códigos postales de Madrid\n",
    "\n",
    "El código postal 28002, 28004 y 28051 tienen entradas repetidas. \n",
    "Por ejemplo las entradas 28002\\n20882 deberían ir dnetro de 28002\n",
    "\n",
    "El codigo 2804 debería ser 28004, 2805 deberia ser 28005 y 2815 juncto con 2815 debería ser 28015\n",
    "\n",
    "Limpia los datos de la columna Codigo Postal"
   ]
  },
  {
   "cell_type": "code",
   "execution_count": 489,
   "metadata": {},
   "outputs": [
    {
     "data": {
      "text/html": [
       "<style>\n",
       ".dl-inline {width: auto; margin:0; padding: 0}\n",
       ".dl-inline>dt, .dl-inline>dd {float: none; width: auto; display: inline-block}\n",
       ".dl-inline>dt::after {content: \":\\0020\"; padding-right: .5ex}\n",
       ".dl-inline>dt:not(:first-of-type) {padding-left: .5ex}\n",
       "</style><dl class=dl-inline><dt>28001</dt><dd>231</dd><dt>28013</dt><dd>1020</dd><dt>28002</dt><dd>171</dd><dt>28003</dt><dd>185</dd><dt>28004</dt><dd>1795</dd><dt>28005</dt><dd>1195</dd><dt>28006</dt><dd>218</dd><dt>28007</dt><dd>206</dd><dt>28008</dt><dd>338</dd><dt>28009</dt><dd>216</dd><dt>28010</dt><dd>384</dd><dt>28011</dt><dd>250</dd><dt>28012</dt><dd>2060</dd><dt>28014</dt><dd>630</dd><dt>28015</dt><dd>601</dd><dt>28016</dt><dd>76</dd><dt>28017</dt><dd>107</dd><dt>28018</dt><dd>43</dd><dt>28019</dt><dd>200</dd><dt>28020</dt><dd>192</dd><dt>28021</dt><dd>58</dd><dt>28022</dt><dd>30</dd><dt>28023</dt><dd>23</dd><dt>28024</dt><dd>44</dd><dt>28025</dt><dd>123</dd><dt>28026</dt><dd>93</dd><dt>28027</dt><dd>122</dd><dt>28028</dt><dd>263</dd><dt>28029</dt><dd>110</dd><dt>28030</dt><dd>73</dd><dt>28031</dt><dd>27</dd><dt>28032</dt><dd>33</dd><dt>28033</dt><dd>89</dd><dt>28034</dt><dd>45</dd><dt>28035</dt><dd>59</dd><dt>28036</dt><dd>67</dd><dt>28037</dt><dd>65</dd><dt>28038</dt><dd>77</dd><dt>28039</dt><dd>160</dd><dt>28040</dt><dd>16</dd><dt>28041</dt><dd>63</dd><dt>28042</dt><dd>90</dd><dt>28043</dt><dd>103</dd><dt>28044</dt><dd>19</dd><dt>28045</dt><dd>495</dd><dt>28046</dt><dd>32</dd><dt>28047</dt><dd>67</dd><dt>28048</dt><dd>1</dd><dt>28049</dt><dd>3</dd><dt>28050</dt><dd>58</dd><dt>28051</dt><dd>17</dd><dt>28052</dt><dd>1</dd><dt>28053</dt><dd>85</dd><dt>28054</dt><dd>12</dd><dt>28055</dt><dd>12</dd><dt>28056</dt><dd>1</dd><dt>28058</dt><dd>1</dd><dt>28060</dt><dd>1</dd><dt>28094</dt><dd>1</dd><dt>28105</dt><dd>1</dd><dt>28850</dt><dd>1</dd><dt>NA's</dt><dd>448</dd></dl>\n"
      ],
      "text/latex": [
       "\\begin{description*}\n",
       "\\item[28001] 231\n",
       "\\item[28013] 1020\n",
       "\\item[28002] 171\n",
       "\\item[28003] 185\n",
       "\\item[28004] 1795\n",
       "\\item[28005] 1195\n",
       "\\item[28006] 218\n",
       "\\item[28007] 206\n",
       "\\item[28008] 338\n",
       "\\item[28009] 216\n",
       "\\item[28010] 384\n",
       "\\item[28011] 250\n",
       "\\item[28012] 2060\n",
       "\\item[28014] 630\n",
       "\\item[28015] 601\n",
       "\\item[28016] 76\n",
       "\\item[28017] 107\n",
       "\\item[28018] 43\n",
       "\\item[28019] 200\n",
       "\\item[28020] 192\n",
       "\\item[28021] 58\n",
       "\\item[28022] 30\n",
       "\\item[28023] 23\n",
       "\\item[28024] 44\n",
       "\\item[28025] 123\n",
       "\\item[28026] 93\n",
       "\\item[28027] 122\n",
       "\\item[28028] 263\n",
       "\\item[28029] 110\n",
       "\\item[28030] 73\n",
       "\\item[28031] 27\n",
       "\\item[28032] 33\n",
       "\\item[28033] 89\n",
       "\\item[28034] 45\n",
       "\\item[28035] 59\n",
       "\\item[28036] 67\n",
       "\\item[28037] 65\n",
       "\\item[28038] 77\n",
       "\\item[28039] 160\n",
       "\\item[28040] 16\n",
       "\\item[28041] 63\n",
       "\\item[28042] 90\n",
       "\\item[28043] 103\n",
       "\\item[28044] 19\n",
       "\\item[28045] 495\n",
       "\\item[28046] 32\n",
       "\\item[28047] 67\n",
       "\\item[28048] 1\n",
       "\\item[28049] 3\n",
       "\\item[28050] 58\n",
       "\\item[28051] 17\n",
       "\\item[28052] 1\n",
       "\\item[28053] 85\n",
       "\\item[28054] 12\n",
       "\\item[28055] 12\n",
       "\\item[28056] 1\n",
       "\\item[28058] 1\n",
       "\\item[28060] 1\n",
       "\\item[28094] 1\n",
       "\\item[28105] 1\n",
       "\\item[28850] 1\n",
       "\\item[NA's] 448\n",
       "\\end{description*}\n"
      ],
      "text/markdown": [
       "28001\n",
       ":   23128013\n",
       ":   102028002\n",
       ":   17128003\n",
       ":   18528004\n",
       ":   179528005\n",
       ":   119528006\n",
       ":   21828007\n",
       ":   20628008\n",
       ":   33828009\n",
       ":   21628010\n",
       ":   38428011\n",
       ":   25028012\n",
       ":   206028014\n",
       ":   63028015\n",
       ":   60128016\n",
       ":   7628017\n",
       ":   10728018\n",
       ":   4328019\n",
       ":   20028020\n",
       ":   19228021\n",
       ":   5828022\n",
       ":   3028023\n",
       ":   2328024\n",
       ":   4428025\n",
       ":   12328026\n",
       ":   9328027\n",
       ":   12228028\n",
       ":   26328029\n",
       ":   11028030\n",
       ":   7328031\n",
       ":   2728032\n",
       ":   3328033\n",
       ":   8928034\n",
       ":   4528035\n",
       ":   5928036\n",
       ":   6728037\n",
       ":   6528038\n",
       ":   7728039\n",
       ":   16028040\n",
       ":   1628041\n",
       ":   6328042\n",
       ":   9028043\n",
       ":   10328044\n",
       ":   1928045\n",
       ":   49528046\n",
       ":   3228047\n",
       ":   6728048\n",
       ":   128049\n",
       ":   328050\n",
       ":   5828051\n",
       ":   1728052\n",
       ":   128053\n",
       ":   8528054\n",
       ":   1228055\n",
       ":   1228056\n",
       ":   128058\n",
       ":   128060\n",
       ":   128094\n",
       ":   128105\n",
       ":   128850\n",
       ":   1NA's\n",
       ":   448\n",
       "\n"
      ],
      "text/plain": [
       "28001 28013 28002 28003 28004 28005 28006 28007 28008 28009 28010 28011 28012 \n",
       "  231  1020   171   185  1795  1195   218   206   338   216   384   250  2060 \n",
       "28014 28015 28016 28017 28018 28019 28020 28021 28022 28023 28024 28025 28026 \n",
       "  630   601    76   107    43   200   192    58    30    23    44   123    93 \n",
       "28027 28028 28029 28030 28031 28032 28033 28034 28035 28036 28037 28038 28039 \n",
       "  122   263   110    73    27    33    89    45    59    67    65    77   160 \n",
       "28040 28041 28042 28043 28044 28045 28046 28047 28048 28049 28050 28051 28052 \n",
       "   16    63    90   103    19   495    32    67     1     3    58    17     1 \n",
       "28053 28054 28055 28056 28058 28060 28094 28105 28850  NA's \n",
       "   85    12    12     1     1     1     1     1     1   448 "
      ]
     },
     "metadata": {},
     "output_type": "display_data"
    }
   ],
   "source": [
    "# Asignación a NA a todos aquellos que están mal estructurados\n",
    "levels(airbnb$CodigoPostal)[levels(airbnb$CodigoPostal) == ''] <- NA\n",
    "levels(airbnb$CodigoPostal)[levels(airbnb$CodigoPostal) == ' '] <- NA\n",
    "levels(airbnb$CodigoPostal)[levels(airbnb$CodigoPostal) == '-'] <- NA\n",
    "levels(airbnb$CodigoPostal)[levels(airbnb$CodigoPostal) == '28'] <- NA\n",
    "levels(airbnb$CodigoPostal)[!startsWith(levels(airbnb$CodigoPostal),'28')] <- NA\n",
    "\n",
    "# Asignación de Valores correspondientes a todos los que están mal estructurados\n",
    "levels(airbnb$CodigoPostal)[levels(airbnb$CodigoPostal) == '28002\\n20882'] <- '28002'\n",
    "levels(airbnb$CodigoPostal)[levels(airbnb$CodigoPostal) == '28051\\n28051'] <- '28051'\n",
    "levels(airbnb$CodigoPostal)[levels(airbnb$CodigoPostal) == '28002\\n28002'] <- '28002'\n",
    "levels(airbnb$CodigoPostal)[levels(airbnb$CodigoPostal) == 'Madrid 28004'] <- '28004'\n",
    "levels(airbnb$CodigoPostal)[levels(airbnb$CodigoPostal) == '280013'] <- '28013'\n",
    "levels(airbnb$CodigoPostal)[levels(airbnb$CodigoPostal) == '2804'] <- '28004'\n",
    "levels(airbnb$CodigoPostal)[levels(airbnb$CodigoPostal) == '2805'] <- '28005'\n",
    "levels(airbnb$CodigoPostal)[levels(airbnb$CodigoPostal) == '2815'] <- '28015'\n",
    "\n",
    "# Resumen campo de Codigos postales\n",
    "summary(airbnb$CodigoPostal)"
   ]
  },
  {
   "cell_type": "markdown",
   "metadata": {},
   "source": [
    "Una vez limpios los datos ¿Cuales son los códigos postales que tenemos? "
   ]
  },
  {
   "cell_type": "code",
   "execution_count": 490,
   "metadata": {},
   "outputs": [
    {
     "data": {
      "text/plain": [
       "\n",
       "28001 28013 28002 28003 28004 28005 28006 28007 28008 28009 28010 28011 28012 \n",
       "  231  1020   171   185  1795  1195   218   206   338   216   384   250  2060 \n",
       "28014 28015 28016 28017 28018 28019 28020 28021 28022 28023 28024 28025 28026 \n",
       "  630   601    76   107    43   200   192    58    30    23    44   123    93 \n",
       "28027 28028 28029 28030 28031 28032 28033 28034 28035 28036 28037 28038 28039 \n",
       "  122   263   110    73    27    33    89    45    59    67    65    77   160 \n",
       "28040 28041 28042 28043 28044 28045 28046 28047 28048 28049 28050 28051 28052 \n",
       "   16    63    90   103    19   495    32    67     1     3    58    17     1 \n",
       "28053 28054 28055 28056 28058 28060 28094 28105 28850 \n",
       "   85    12    12     1     1     1     1     1     1 "
      ]
     },
     "metadata": {},
     "output_type": "display_data"
    }
   ],
   "source": [
    "# Resumen campos de Codigos Postales\n",
    "table(airbnb$CodigoPostal)"
   ]
  },
  {
   "cell_type": "markdown",
   "metadata": {},
   "source": [
    "¿Cuales son los 5 códigos postales con más entradas? ¿Y con menos? ¿Cuantas entradas tienen?"
   ]
  },
  {
   "cell_type": "code",
   "execution_count": 491,
   "metadata": {},
   "outputs": [
    {
     "data": {
      "text/plain": [
       "\n",
       "28012 28004 28005 28013 28014 \n",
       " 2060  1795  1195  1020   630 "
      ]
     },
     "metadata": {},
     "output_type": "display_data"
    },
    {
     "data": {
      "text/plain": [
       "\n",
       "28048 28052 28056 28058 28060 \n",
       "    1     1     1     1     1 "
      ]
     },
     "metadata": {},
     "output_type": "display_data"
    }
   ],
   "source": [
    "# Códigos Postales con mayor cantidad de entradas\n",
    "head(sort(table(airbnb$CodigoPostal), decreasing = TRUE), 5)\n",
    "\n",
    "# Códigos Postales con menor cantidad de entradas\n",
    "head(sort(table(airbnb$CodigoPostal)), 5)"
   ]
  },
  {
   "cell_type": "markdown",
   "metadata": {},
   "source": [
    "¿Cuales son los barrios que hay en el código postal 28012?"
   ]
  },
  {
   "cell_type": "code",
   "execution_count": 492,
   "metadata": {},
   "outputs": [
    {
     "data": {
      "text/html": [
       "<style>\n",
       ".list-inline {list-style: none; margin:0; padding: 0}\n",
       ".list-inline>li {display: inline-block}\n",
       ".list-inline>li:not(:last-child)::after {content: \"\\00b7\"; padding: 0 .5ex}\n",
       "</style>\n",
       "<ol class=list-inline><li>Sol</li><li>Acacias</li><li>Palos de Moguer</li><li>Embajadores</li><li>Cortes</li><li>Palacio</li><li>Universidad</li><li>Delicias</li><li>Arapiles</li><li>Atocha</li><li>Goya</li></ol>\n",
       "\n",
       "<details>\n",
       "\t<summary style=display:list-item;cursor:pointer>\n",
       "\t\t<strong>Levels</strong>:\n",
       "\t</summary>\n",
       "\t<style>\n",
       "\t.list-inline {list-style: none; margin:0; padding: 0}\n",
       "\t.list-inline>li {display: inline-block}\n",
       "\t.list-inline>li:not(:last-child)::after {content: \"\\00b7\"; padding: 0 .5ex}\n",
       "\t</style>\n",
       "\t<ol class=list-inline><li>'Abrantes'</li><li>'Acacias'</li><li>'Adelfas'</li><li>'Aeropuerto'</li><li>'Aguilas'</li><li>'Alameda de Osuna'</li><li>'Almagro'</li><li>'Almenara'</li><li>'Almendrales'</li><li>'Aluche'</li><li>'Ambroz'</li><li>'Amposta'</li><li>'Apostol Santiago'</li><li>'Arapiles'</li><li>'Aravaca'</li><li>'Arcos'</li><li>'Argüelles'</li><li>'Atocha'</li><li>'Bellas Vistas'</li><li>'Berruguete'</li><li>'Buenavista'</li><li>'Butarque'</li><li>'Campamento'</li><li>'Canillas'</li><li>'Canillejas'</li><li>'Cármenes'</li><li>'Casa de Campo'</li><li>'Casco Histórico de Barajas'</li><li>'Casco Histórico de Vallecas'</li><li>'Casco Histórico de Vicálvaro'</li><li>'Castellana'</li><li>'Castilla'</li><li>'Castillejos'</li><li>'Chopera'</li><li>'Ciudad Jardín'</li><li>'Ciudad Universitaria'</li><li>'Colina'</li><li>'Comillas'</li><li>'Concepción'</li><li>'Corralejos'</li><li>'Cortes'</li><li>'Costillares'</li><li>'Cuatro Caminos'</li><li>'Cuatro Vientos'</li><li>'Delicias'</li><li>'El Goloso'</li><li>'El Plantío'</li><li>'El Viso'</li><li>'Embajadores'</li><li>'Entrevías'</li><li>'Estrella'</li><li>'Fontarrón'</li><li>'Fuente del Berro'</li><li>'Fuentelareina'</li><li>'Gaztambide'</li><li>'Goya'</li><li>'Guindalera'</li><li>'Hellín'</li><li>'Hispanoamérica'</li><li>'Ibiza'</li><li>'Imperial'</li><li>'Jerónimos'</li><li>'Justicia'</li><li>'La Paz'</li><li>'Legazpi'</li><li>'Lista'</li><li>'Los Angeles'</li><li>'Los Rosales'</li><li>'Lucero'</li><li>'Marroquina'</li><li>'Media Legua'</li><li>'Mirasierra'</li><li>'Moscardó'</li><li>'Niño Jesús'</li><li>'Nueva España'</li><li>'Numancia'</li><li>'Opañel'</li><li>'Orcasitas'</li><li>'Orcasur'</li><li>'Pacífico'</li><li>'Palacio'</li><li>'Palomas'</li><li>'Palomeras Bajas'</li><li>'Palomeras Sureste'</li><li>'Palos de Moguer'</li><li>'Pavones'</li><li>'Peñagrande'</li><li>'Pilar'</li><li>'Pinar del Rey'</li><li>'Piovera'</li><li>'Portazgo'</li><li>'Pradolongo'</li><li>'Prosperidad'</li><li>'Pueblo Nuevo'</li><li>'Puerta Bonita'</li><li>'Puerta del Angel'</li><li>'Quintana'</li><li>'Recoletos'</li><li>'Rejas'</li><li>'Rios Rosas'</li><li>'Rosas'</li><li>'Salvador'</li><li>'San Andrés'</li><li>'San Cristobal'</li><li>'San Diego'</li><li>'San Fermín'</li><li>'San Isidro'</li><li>'San Juan Bautista'</li><li>'San Pascual'</li><li>'Santa Eugenia'</li><li>'Simancas'</li><li>'Sol'</li><li>'Timón'</li><li>'Trafalgar'</li><li>'Universidad'</li><li>'Valdeacederas'</li><li>'Valdefuentes'</li><li>'Valdemarín'</li><li>'Valdezarza'</li><li>'Vallehermoso'</li><li>'Valverde'</li><li>'Ventas'</li><li>'Vinateros'</li><li>'Vista Alegre'</li><li>'Zofío'</li></ol>\n",
       "</details>"
      ],
      "text/latex": [
       "\\begin{enumerate*}\n",
       "\\item Sol\n",
       "\\item Acacias\n",
       "\\item Palos de Moguer\n",
       "\\item Embajadores\n",
       "\\item Cortes\n",
       "\\item Palacio\n",
       "\\item Universidad\n",
       "\\item Delicias\n",
       "\\item Arapiles\n",
       "\\item Atocha\n",
       "\\item Goya\n",
       "\\end{enumerate*}\n",
       "\n",
       "\\emph{Levels}: \\begin{enumerate*}\n",
       "\\item 'Abrantes'\n",
       "\\item 'Acacias'\n",
       "\\item 'Adelfas'\n",
       "\\item 'Aeropuerto'\n",
       "\\item 'Aguilas'\n",
       "\\item 'Alameda de Osuna'\n",
       "\\item 'Almagro'\n",
       "\\item 'Almenara'\n",
       "\\item 'Almendrales'\n",
       "\\item 'Aluche'\n",
       "\\item 'Ambroz'\n",
       "\\item 'Amposta'\n",
       "\\item 'Apostol Santiago'\n",
       "\\item 'Arapiles'\n",
       "\\item 'Aravaca'\n",
       "\\item 'Arcos'\n",
       "\\item 'Argüelles'\n",
       "\\item 'Atocha'\n",
       "\\item 'Bellas Vistas'\n",
       "\\item 'Berruguete'\n",
       "\\item 'Buenavista'\n",
       "\\item 'Butarque'\n",
       "\\item 'Campamento'\n",
       "\\item 'Canillas'\n",
       "\\item 'Canillejas'\n",
       "\\item 'Cármenes'\n",
       "\\item 'Casa de Campo'\n",
       "\\item 'Casco Histórico de Barajas'\n",
       "\\item 'Casco Histórico de Vallecas'\n",
       "\\item 'Casco Histórico de Vicálvaro'\n",
       "\\item 'Castellana'\n",
       "\\item 'Castilla'\n",
       "\\item 'Castillejos'\n",
       "\\item 'Chopera'\n",
       "\\item 'Ciudad Jardín'\n",
       "\\item 'Ciudad Universitaria'\n",
       "\\item 'Colina'\n",
       "\\item 'Comillas'\n",
       "\\item 'Concepción'\n",
       "\\item 'Corralejos'\n",
       "\\item 'Cortes'\n",
       "\\item 'Costillares'\n",
       "\\item 'Cuatro Caminos'\n",
       "\\item 'Cuatro Vientos'\n",
       "\\item 'Delicias'\n",
       "\\item 'El Goloso'\n",
       "\\item 'El Plantío'\n",
       "\\item 'El Viso'\n",
       "\\item 'Embajadores'\n",
       "\\item 'Entrevías'\n",
       "\\item 'Estrella'\n",
       "\\item 'Fontarrón'\n",
       "\\item 'Fuente del Berro'\n",
       "\\item 'Fuentelareina'\n",
       "\\item 'Gaztambide'\n",
       "\\item 'Goya'\n",
       "\\item 'Guindalera'\n",
       "\\item 'Hellín'\n",
       "\\item 'Hispanoamérica'\n",
       "\\item 'Ibiza'\n",
       "\\item 'Imperial'\n",
       "\\item 'Jerónimos'\n",
       "\\item 'Justicia'\n",
       "\\item 'La Paz'\n",
       "\\item 'Legazpi'\n",
       "\\item 'Lista'\n",
       "\\item 'Los Angeles'\n",
       "\\item 'Los Rosales'\n",
       "\\item 'Lucero'\n",
       "\\item 'Marroquina'\n",
       "\\item 'Media Legua'\n",
       "\\item 'Mirasierra'\n",
       "\\item 'Moscardó'\n",
       "\\item 'Niño Jesús'\n",
       "\\item 'Nueva España'\n",
       "\\item 'Numancia'\n",
       "\\item 'Opañel'\n",
       "\\item 'Orcasitas'\n",
       "\\item 'Orcasur'\n",
       "\\item 'Pacífico'\n",
       "\\item 'Palacio'\n",
       "\\item 'Palomas'\n",
       "\\item 'Palomeras Bajas'\n",
       "\\item 'Palomeras Sureste'\n",
       "\\item 'Palos de Moguer'\n",
       "\\item 'Pavones'\n",
       "\\item 'Peñagrande'\n",
       "\\item 'Pilar'\n",
       "\\item 'Pinar del Rey'\n",
       "\\item 'Piovera'\n",
       "\\item 'Portazgo'\n",
       "\\item 'Pradolongo'\n",
       "\\item 'Prosperidad'\n",
       "\\item 'Pueblo Nuevo'\n",
       "\\item 'Puerta Bonita'\n",
       "\\item 'Puerta del Angel'\n",
       "\\item 'Quintana'\n",
       "\\item 'Recoletos'\n",
       "\\item 'Rejas'\n",
       "\\item 'Rios Rosas'\n",
       "\\item 'Rosas'\n",
       "\\item 'Salvador'\n",
       "\\item 'San Andrés'\n",
       "\\item 'San Cristobal'\n",
       "\\item 'San Diego'\n",
       "\\item 'San Fermín'\n",
       "\\item 'San Isidro'\n",
       "\\item 'San Juan Bautista'\n",
       "\\item 'San Pascual'\n",
       "\\item 'Santa Eugenia'\n",
       "\\item 'Simancas'\n",
       "\\item 'Sol'\n",
       "\\item 'Timón'\n",
       "\\item 'Trafalgar'\n",
       "\\item 'Universidad'\n",
       "\\item 'Valdeacederas'\n",
       "\\item 'Valdefuentes'\n",
       "\\item 'Valdemarín'\n",
       "\\item 'Valdezarza'\n",
       "\\item 'Vallehermoso'\n",
       "\\item 'Valverde'\n",
       "\\item 'Ventas'\n",
       "\\item 'Vinateros'\n",
       "\\item 'Vista Alegre'\n",
       "\\item 'Zofío'\n",
       "\\end{enumerate*}\n"
      ],
      "text/markdown": [
       "1. Sol\n",
       "2. Acacias\n",
       "3. Palos de Moguer\n",
       "4. Embajadores\n",
       "5. Cortes\n",
       "6. Palacio\n",
       "7. Universidad\n",
       "8. Delicias\n",
       "9. Arapiles\n",
       "10. Atocha\n",
       "11. Goya\n",
       "\n",
       "\n",
       "\n",
       "**Levels**: 1. 'Abrantes'\n",
       "2. 'Acacias'\n",
       "3. 'Adelfas'\n",
       "4. 'Aeropuerto'\n",
       "5. 'Aguilas'\n",
       "6. 'Alameda de Osuna'\n",
       "7. 'Almagro'\n",
       "8. 'Almenara'\n",
       "9. 'Almendrales'\n",
       "10. 'Aluche'\n",
       "11. 'Ambroz'\n",
       "12. 'Amposta'\n",
       "13. 'Apostol Santiago'\n",
       "14. 'Arapiles'\n",
       "15. 'Aravaca'\n",
       "16. 'Arcos'\n",
       "17. 'Argüelles'\n",
       "18. 'Atocha'\n",
       "19. 'Bellas Vistas'\n",
       "20. 'Berruguete'\n",
       "21. 'Buenavista'\n",
       "22. 'Butarque'\n",
       "23. 'Campamento'\n",
       "24. 'Canillas'\n",
       "25. 'Canillejas'\n",
       "26. 'Cármenes'\n",
       "27. 'Casa de Campo'\n",
       "28. 'Casco Histórico de Barajas'\n",
       "29. 'Casco Histórico de Vallecas'\n",
       "30. 'Casco Histórico de Vicálvaro'\n",
       "31. 'Castellana'\n",
       "32. 'Castilla'\n",
       "33. 'Castillejos'\n",
       "34. 'Chopera'\n",
       "35. 'Ciudad Jardín'\n",
       "36. 'Ciudad Universitaria'\n",
       "37. 'Colina'\n",
       "38. 'Comillas'\n",
       "39. 'Concepción'\n",
       "40. 'Corralejos'\n",
       "41. 'Cortes'\n",
       "42. 'Costillares'\n",
       "43. 'Cuatro Caminos'\n",
       "44. 'Cuatro Vientos'\n",
       "45. 'Delicias'\n",
       "46. 'El Goloso'\n",
       "47. 'El Plantío'\n",
       "48. 'El Viso'\n",
       "49. 'Embajadores'\n",
       "50. 'Entrevías'\n",
       "51. 'Estrella'\n",
       "52. 'Fontarrón'\n",
       "53. 'Fuente del Berro'\n",
       "54. 'Fuentelareina'\n",
       "55. 'Gaztambide'\n",
       "56. 'Goya'\n",
       "57. 'Guindalera'\n",
       "58. 'Hellín'\n",
       "59. 'Hispanoamérica'\n",
       "60. 'Ibiza'\n",
       "61. 'Imperial'\n",
       "62. 'Jerónimos'\n",
       "63. 'Justicia'\n",
       "64. 'La Paz'\n",
       "65. 'Legazpi'\n",
       "66. 'Lista'\n",
       "67. 'Los Angeles'\n",
       "68. 'Los Rosales'\n",
       "69. 'Lucero'\n",
       "70. 'Marroquina'\n",
       "71. 'Media Legua'\n",
       "72. 'Mirasierra'\n",
       "73. 'Moscardó'\n",
       "74. 'Niño Jesús'\n",
       "75. 'Nueva España'\n",
       "76. 'Numancia'\n",
       "77. 'Opañel'\n",
       "78. 'Orcasitas'\n",
       "79. 'Orcasur'\n",
       "80. 'Pacífico'\n",
       "81. 'Palacio'\n",
       "82. 'Palomas'\n",
       "83. 'Palomeras Bajas'\n",
       "84. 'Palomeras Sureste'\n",
       "85. 'Palos de Moguer'\n",
       "86. 'Pavones'\n",
       "87. 'Peñagrande'\n",
       "88. 'Pilar'\n",
       "89. 'Pinar del Rey'\n",
       "90. 'Piovera'\n",
       "91. 'Portazgo'\n",
       "92. 'Pradolongo'\n",
       "93. 'Prosperidad'\n",
       "94. 'Pueblo Nuevo'\n",
       "95. 'Puerta Bonita'\n",
       "96. 'Puerta del Angel'\n",
       "97. 'Quintana'\n",
       "98. 'Recoletos'\n",
       "99. 'Rejas'\n",
       "100. 'Rios Rosas'\n",
       "101. 'Rosas'\n",
       "102. 'Salvador'\n",
       "103. 'San Andrés'\n",
       "104. 'San Cristobal'\n",
       "105. 'San Diego'\n",
       "106. 'San Fermín'\n",
       "107. 'San Isidro'\n",
       "108. 'San Juan Bautista'\n",
       "109. 'San Pascual'\n",
       "110. 'Santa Eugenia'\n",
       "111. 'Simancas'\n",
       "112. 'Sol'\n",
       "113. 'Timón'\n",
       "114. 'Trafalgar'\n",
       "115. 'Universidad'\n",
       "116. 'Valdeacederas'\n",
       "117. 'Valdefuentes'\n",
       "118. 'Valdemarín'\n",
       "119. 'Valdezarza'\n",
       "120. 'Vallehermoso'\n",
       "121. 'Valverde'\n",
       "122. 'Ventas'\n",
       "123. 'Vinateros'\n",
       "124. 'Vista Alegre'\n",
       "125. 'Zofío'\n",
       "\n",
       "\n"
      ],
      "text/plain": [
       " [1] Sol             Acacias         Palos de Moguer Embajadores    \n",
       " [5] Cortes          Palacio         Universidad     Delicias       \n",
       " [9] Arapiles        Atocha          Goya           \n",
       "attr(,\"na.action\")\n",
       "[1] 3\n",
       "attr(,\"class\")\n",
       "[1] omit\n",
       "125 Levels: Abrantes Acacias Adelfas Aeropuerto Aguilas ... Zofío"
      ]
     },
     "metadata": {},
     "output_type": "display_data"
    }
   ],
   "source": [
    "# Barrios que hay con el Código Postal \"28012\"\n",
    "na.omit(unique(airbnb$Barrio[airbnb$CodigoPostal == '28012']))"
   ]
  },
  {
   "cell_type": "markdown",
   "metadata": {},
   "source": [
    "¿Cuantas entradas hay en cada uno de esos barrios para el codigo postal 28012?"
   ]
  },
  {
   "cell_type": "code",
   "execution_count": 493,
   "metadata": {},
   "outputs": [
    {
     "data": {
      "text/plain": [
       "\n",
       "                 Embajadores                          Sol \n",
       "                        1449                          301 \n",
       "                      Cortes              Palos de Moguer \n",
       "                         216                           46 \n",
       "                     Palacio                      Acacias \n",
       "                          27                           13 \n",
       "                 Universidad                     Arapiles \n",
       "                           4                            1 \n",
       "                      Atocha                     Delicias \n",
       "                           1                            1 \n",
       "                        Goya                     Abrantes \n",
       "                           1                            0 \n",
       "                     Adelfas                   Aeropuerto \n",
       "                           0                            0 \n",
       "                     Aguilas             Alameda de Osuna \n",
       "                           0                            0 \n",
       "                     Almagro                     Almenara \n",
       "                           0                            0 \n",
       "                 Almendrales                       Aluche \n",
       "                           0                            0 \n",
       "                      Ambroz                      Amposta \n",
       "                           0                            0 \n",
       "            Apostol Santiago                      Aravaca \n",
       "                           0                            0 \n",
       "                       Arcos                    Argüelles \n",
       "                           0                            0 \n",
       "               Bellas Vistas                   Berruguete \n",
       "                           0                            0 \n",
       "                  Buenavista                     Butarque \n",
       "                           0                            0 \n",
       "                  Campamento                     Canillas \n",
       "                           0                            0 \n",
       "                  Canillejas                     Cármenes \n",
       "                           0                            0 \n",
       "               Casa de Campo   Casco Histórico de Barajas \n",
       "                           0                            0 \n",
       " Casco Histórico de Vallecas Casco Histórico de Vicálvaro \n",
       "                           0                            0 \n",
       "                  Castellana                     Castilla \n",
       "                           0                            0 \n",
       "                 Castillejos                      Chopera \n",
       "                           0                            0 \n",
       "               Ciudad Jardín         Ciudad Universitaria \n",
       "                           0                            0 \n",
       "                      Colina                     Comillas \n",
       "                           0                            0 \n",
       "                  Concepción                   Corralejos \n",
       "                           0                            0 \n",
       "                 Costillares               Cuatro Caminos \n",
       "                           0                            0 \n",
       "              Cuatro Vientos                    El Goloso \n",
       "                           0                            0 \n",
       "                  El Plantío                      El Viso \n",
       "                           0                            0 \n",
       "                   Entrevías                     Estrella \n",
       "                           0                            0 \n",
       "                   Fontarrón             Fuente del Berro \n",
       "                           0                            0 \n",
       "               Fuentelareina                   Gaztambide \n",
       "                           0                            0 \n",
       "                  Guindalera                       Hellín \n",
       "                           0                            0 \n",
       "              Hispanoamérica                        Ibiza \n",
       "                           0                            0 \n",
       "                    Imperial                    Jerónimos \n",
       "                           0                            0 \n",
       "                    Justicia                       La Paz \n",
       "                           0                            0 \n",
       "                     Legazpi                        Lista \n",
       "                           0                            0 \n",
       "                 Los Angeles                  Los Rosales \n",
       "                           0                            0 \n",
       "                      Lucero                   Marroquina \n",
       "                           0                            0 \n",
       "                 Media Legua                   Mirasierra \n",
       "                           0                            0 \n",
       "                    Moscardó                   Niño Jesús \n",
       "                           0                            0 \n",
       "                Nueva España                     Numancia \n",
       "                           0                            0 \n",
       "                      Opañel                    Orcasitas \n",
       "                           0                            0 \n",
       "                     Orcasur                     Pacífico \n",
       "                           0                            0 \n",
       "                     Palomas              Palomeras Bajas \n",
       "                           0                            0 \n",
       "           Palomeras Sureste                      Pavones \n",
       "                           0                            0 \n",
       "                  Peñagrande                        Pilar \n",
       "                           0                            0 \n",
       "               Pinar del Rey                      Piovera \n",
       "                           0                            0 \n",
       "                    Portazgo                   Pradolongo \n",
       "                           0                            0 \n",
       "                 Prosperidad                 Pueblo Nuevo \n",
       "                           0                            0 \n",
       "               Puerta Bonita             Puerta del Angel \n",
       "                           0                            0 \n",
       "                    Quintana                    Recoletos \n",
       "                           0                            0 \n",
       "                       Rejas                   Rios Rosas \n",
       "                           0                            0 \n",
       "                       Rosas                     Salvador \n",
       "                           0                            0 \n",
       "                  San Andrés                San Cristobal \n",
       "                           0                            0 \n",
       "                   San Diego                   San Fermín \n",
       "                           0                            0 \n",
       "                  San Isidro            San Juan Bautista \n",
       "                           0                            0 \n",
       "                 San Pascual                Santa Eugenia \n",
       "                           0                            0 \n",
       "                    Simancas                        Timón \n",
       "                           0                            0 \n",
       "                   Trafalgar                Valdeacederas \n",
       "                           0                            0 \n",
       "                Valdefuentes                   Valdemarín \n",
       "                           0                            0 \n",
       "                  Valdezarza                 Vallehermoso \n",
       "                           0                            0 \n",
       "                    Valverde                       Ventas \n",
       "                           0                            0 \n",
       "                   Vinateros                 Vista Alegre \n",
       "                           0                            0 \n",
       "                       Zofío \n",
       "                           0 "
      ]
     },
     "metadata": {},
     "output_type": "display_data"
    }
   ],
   "source": [
    "# Entradas en cada Barrio para el Código Postal \"28012\"\n",
    "sort(table(airbnb$Barrio[airbnb$CodigoPostal == '28012']), decreasing = TRUE)"
   ]
  },
  {
   "cell_type": "markdown",
   "metadata": {},
   "source": [
    "¿Cuantos barrios hay en todo el dataset airbnb? ¿Cuales son?"
   ]
  },
  {
   "cell_type": "code",
   "execution_count": 494,
   "metadata": {},
   "outputs": [
    {
     "data": {
      "text/html": [
       "125"
      ],
      "text/latex": [
       "125"
      ],
      "text/markdown": [
       "125"
      ],
      "text/plain": [
       "[1] 125"
      ]
     },
     "metadata": {},
     "output_type": "display_data"
    },
    {
     "data": {
      "text/html": [
       "<style>\n",
       ".list-inline {list-style: none; margin:0; padding: 0}\n",
       ".list-inline>li {display: inline-block}\n",
       ".list-inline>li:not(:last-child)::after {content: \"\\00b7\"; padding: 0 .5ex}\n",
       "</style>\n",
       "<ol class=list-inline><li>Universidad</li><li>Sol</li><li>Imperial</li><li>Acacias</li><li>Chopera</li><li>Delicias</li><li>Palos de Moguer</li><li>Embajadores</li><li>Cortes</li><li>Atocha</li><li>Pacífico</li><li>Adelfas</li><li>Estrella</li><li>Ibiza</li><li>Jerónimos</li><li>Niño Jesús</li><li>Palacio</li><li>Justicia</li><li>Recoletos</li><li>Goya</li><li>Fuente del Berro</li><li>Arapiles</li><li>Trafalgar</li><li>Almagro</li><li>Guindalera</li><li>Lista</li><li>Castellana</li><li>El Viso</li><li>Prosperidad</li><li>Valverde</li><li>Casa de Campo</li><li>El Goloso</li><li>Numancia</li><li>Cármenes</li><li>Puerta del Angel</li><li>Lucero</li><li>Aluche</li><li>San Isidro</li><li>Campamento</li><li>Comillas</li><li>Opañel</li><li>Vista Alegre</li><li>Ciudad Jardín</li><li>Hispanoamérica</li><li>Nueva España</li><li>Castilla</li><li>Bellas Vistas</li><li>Cuatro Caminos</li><li>Castillejos</li><li>Vallehermoso</li><li>Almenara</li><li>Valdeacederas</li><li>Berruguete</li><li>Gaztambide</li><li>Rios Rosas</li><li>Peñagrande</li><li>Argüelles</li><li>Puerta Bonita</li><li>Buenavista</li><li>Abrantes</li><li>Orcasur</li><li>San Fermín</li><li>Almendrales</li><li>Pradolongo</li><li>Portazgo</li><li>Entrevías</li><li>San Diego</li><li>Palomeras Bajas</li><li>Fontarrón</li><li>Vinateros</li><li>Ventas</li><li>Pueblo Nuevo</li><li>Quintana</li><li>Concepción</li><li>San Juan Bautista</li><li>Costillares</li><li>Piovera</li><li>Canillas</li><li>Pinar del Rey</li><li>Apostol Santiago</li><li>San Andrés</li><li>Valdefuentes</li><li>Butarque</li><li>Los Angeles</li><li>Casco Histórico de Vicálvaro</li><li>Simancas</li><li>Rejas</li><li>Salvador</li><li>Casco Histórico de Barajas</li><li>Pilar</li><li>La Paz</li><li>Mirasierra</li><li>Ciudad Universitaria</li><li>Moscardó</li><li>Palomeras Sureste</li><li>Marroquina</li><li>Media Legua</li><li>Los Rosales</li><li>Casco Histórico de Vallecas</li><li>Timón</li><li>Corralejos</li><li>Cuatro Vientos</li><li>Colina</li><li>San Cristobal</li><li>Alameda de Osuna</li><li>Aeropuerto</li><li>Palomas</li><li>Zofío</li><li>Aguilas</li><li>Legazpi</li><li>Fuentelareina</li><li>Aravaca</li><li>Ambroz</li><li>Canillejas</li><li>Valdezarza</li><li>Amposta</li><li>San Pascual</li><li>Santa Eugenia</li><li>Arcos</li><li>Rosas</li><li>Valdemarín</li><li>El Plantío</li><li>Hellín</li><li>Pavones</li><li>Orcasitas</li></ol>\n",
       "\n",
       "<details>\n",
       "\t<summary style=display:list-item;cursor:pointer>\n",
       "\t\t<strong>Levels</strong>:\n",
       "\t</summary>\n",
       "\t<style>\n",
       "\t.list-inline {list-style: none; margin:0; padding: 0}\n",
       "\t.list-inline>li {display: inline-block}\n",
       "\t.list-inline>li:not(:last-child)::after {content: \"\\00b7\"; padding: 0 .5ex}\n",
       "\t</style>\n",
       "\t<ol class=list-inline><li>'Abrantes'</li><li>'Acacias'</li><li>'Adelfas'</li><li>'Aeropuerto'</li><li>'Aguilas'</li><li>'Alameda de Osuna'</li><li>'Almagro'</li><li>'Almenara'</li><li>'Almendrales'</li><li>'Aluche'</li><li>'Ambroz'</li><li>'Amposta'</li><li>'Apostol Santiago'</li><li>'Arapiles'</li><li>'Aravaca'</li><li>'Arcos'</li><li>'Argüelles'</li><li>'Atocha'</li><li>'Bellas Vistas'</li><li>'Berruguete'</li><li>'Buenavista'</li><li>'Butarque'</li><li>'Campamento'</li><li>'Canillas'</li><li>'Canillejas'</li><li>'Cármenes'</li><li>'Casa de Campo'</li><li>'Casco Histórico de Barajas'</li><li>'Casco Histórico de Vallecas'</li><li>'Casco Histórico de Vicálvaro'</li><li>'Castellana'</li><li>'Castilla'</li><li>'Castillejos'</li><li>'Chopera'</li><li>'Ciudad Jardín'</li><li>'Ciudad Universitaria'</li><li>'Colina'</li><li>'Comillas'</li><li>'Concepción'</li><li>'Corralejos'</li><li>'Cortes'</li><li>'Costillares'</li><li>'Cuatro Caminos'</li><li>'Cuatro Vientos'</li><li>'Delicias'</li><li>'El Goloso'</li><li>'El Plantío'</li><li>'El Viso'</li><li>'Embajadores'</li><li>'Entrevías'</li><li>'Estrella'</li><li>'Fontarrón'</li><li>'Fuente del Berro'</li><li>'Fuentelareina'</li><li>'Gaztambide'</li><li>'Goya'</li><li>'Guindalera'</li><li>'Hellín'</li><li>'Hispanoamérica'</li><li>'Ibiza'</li><li>'Imperial'</li><li>'Jerónimos'</li><li>'Justicia'</li><li>'La Paz'</li><li>'Legazpi'</li><li>'Lista'</li><li>'Los Angeles'</li><li>'Los Rosales'</li><li>'Lucero'</li><li>'Marroquina'</li><li>'Media Legua'</li><li>'Mirasierra'</li><li>'Moscardó'</li><li>'Niño Jesús'</li><li>'Nueva España'</li><li>'Numancia'</li><li>'Opañel'</li><li>'Orcasitas'</li><li>'Orcasur'</li><li>'Pacífico'</li><li>'Palacio'</li><li>'Palomas'</li><li>'Palomeras Bajas'</li><li>'Palomeras Sureste'</li><li>'Palos de Moguer'</li><li>'Pavones'</li><li>'Peñagrande'</li><li>'Pilar'</li><li>'Pinar del Rey'</li><li>'Piovera'</li><li>'Portazgo'</li><li>'Pradolongo'</li><li>'Prosperidad'</li><li>'Pueblo Nuevo'</li><li>'Puerta Bonita'</li><li>'Puerta del Angel'</li><li>'Quintana'</li><li>'Recoletos'</li><li>'Rejas'</li><li>'Rios Rosas'</li><li>'Rosas'</li><li>'Salvador'</li><li>'San Andrés'</li><li>'San Cristobal'</li><li>'San Diego'</li><li>'San Fermín'</li><li>'San Isidro'</li><li>'San Juan Bautista'</li><li>'San Pascual'</li><li>'Santa Eugenia'</li><li>'Simancas'</li><li>'Sol'</li><li>'Timón'</li><li>'Trafalgar'</li><li>'Universidad'</li><li>'Valdeacederas'</li><li>'Valdefuentes'</li><li>'Valdemarín'</li><li>'Valdezarza'</li><li>'Vallehermoso'</li><li>'Valverde'</li><li>'Ventas'</li><li>'Vinateros'</li><li>'Vista Alegre'</li><li>'Zofío'</li></ol>\n",
       "</details>"
      ],
      "text/latex": [
       "\\begin{enumerate*}\n",
       "\\item Universidad\n",
       "\\item Sol\n",
       "\\item Imperial\n",
       "\\item Acacias\n",
       "\\item Chopera\n",
       "\\item Delicias\n",
       "\\item Palos de Moguer\n",
       "\\item Embajadores\n",
       "\\item Cortes\n",
       "\\item Atocha\n",
       "\\item Pacífico\n",
       "\\item Adelfas\n",
       "\\item Estrella\n",
       "\\item Ibiza\n",
       "\\item Jerónimos\n",
       "\\item Niño Jesús\n",
       "\\item Palacio\n",
       "\\item Justicia\n",
       "\\item Recoletos\n",
       "\\item Goya\n",
       "\\item Fuente del Berro\n",
       "\\item Arapiles\n",
       "\\item Trafalgar\n",
       "\\item Almagro\n",
       "\\item Guindalera\n",
       "\\item Lista\n",
       "\\item Castellana\n",
       "\\item El Viso\n",
       "\\item Prosperidad\n",
       "\\item Valverde\n",
       "\\item Casa de Campo\n",
       "\\item El Goloso\n",
       "\\item Numancia\n",
       "\\item Cármenes\n",
       "\\item Puerta del Angel\n",
       "\\item Lucero\n",
       "\\item Aluche\n",
       "\\item San Isidro\n",
       "\\item Campamento\n",
       "\\item Comillas\n",
       "\\item Opañel\n",
       "\\item Vista Alegre\n",
       "\\item Ciudad Jardín\n",
       "\\item Hispanoamérica\n",
       "\\item Nueva España\n",
       "\\item Castilla\n",
       "\\item Bellas Vistas\n",
       "\\item Cuatro Caminos\n",
       "\\item Castillejos\n",
       "\\item Vallehermoso\n",
       "\\item Almenara\n",
       "\\item Valdeacederas\n",
       "\\item Berruguete\n",
       "\\item Gaztambide\n",
       "\\item Rios Rosas\n",
       "\\item Peñagrande\n",
       "\\item Argüelles\n",
       "\\item Puerta Bonita\n",
       "\\item Buenavista\n",
       "\\item Abrantes\n",
       "\\item Orcasur\n",
       "\\item San Fermín\n",
       "\\item Almendrales\n",
       "\\item Pradolongo\n",
       "\\item Portazgo\n",
       "\\item Entrevías\n",
       "\\item San Diego\n",
       "\\item Palomeras Bajas\n",
       "\\item Fontarrón\n",
       "\\item Vinateros\n",
       "\\item Ventas\n",
       "\\item Pueblo Nuevo\n",
       "\\item Quintana\n",
       "\\item Concepción\n",
       "\\item San Juan Bautista\n",
       "\\item Costillares\n",
       "\\item Piovera\n",
       "\\item Canillas\n",
       "\\item Pinar del Rey\n",
       "\\item Apostol Santiago\n",
       "\\item San Andrés\n",
       "\\item Valdefuentes\n",
       "\\item Butarque\n",
       "\\item Los Angeles\n",
       "\\item Casco Histórico de Vicálvaro\n",
       "\\item Simancas\n",
       "\\item Rejas\n",
       "\\item Salvador\n",
       "\\item Casco Histórico de Barajas\n",
       "\\item Pilar\n",
       "\\item La Paz\n",
       "\\item Mirasierra\n",
       "\\item Ciudad Universitaria\n",
       "\\item Moscardó\n",
       "\\item Palomeras Sureste\n",
       "\\item Marroquina\n",
       "\\item Media Legua\n",
       "\\item Los Rosales\n",
       "\\item Casco Histórico de Vallecas\n",
       "\\item Timón\n",
       "\\item Corralejos\n",
       "\\item Cuatro Vientos\n",
       "\\item Colina\n",
       "\\item San Cristobal\n",
       "\\item Alameda de Osuna\n",
       "\\item Aeropuerto\n",
       "\\item Palomas\n",
       "\\item Zofío\n",
       "\\item Aguilas\n",
       "\\item Legazpi\n",
       "\\item Fuentelareina\n",
       "\\item Aravaca\n",
       "\\item Ambroz\n",
       "\\item Canillejas\n",
       "\\item Valdezarza\n",
       "\\item Amposta\n",
       "\\item San Pascual\n",
       "\\item Santa Eugenia\n",
       "\\item Arcos\n",
       "\\item Rosas\n",
       "\\item Valdemarín\n",
       "\\item El Plantío\n",
       "\\item Hellín\n",
       "\\item Pavones\n",
       "\\item Orcasitas\n",
       "\\end{enumerate*}\n",
       "\n",
       "\\emph{Levels}: \\begin{enumerate*}\n",
       "\\item 'Abrantes'\n",
       "\\item 'Acacias'\n",
       "\\item 'Adelfas'\n",
       "\\item 'Aeropuerto'\n",
       "\\item 'Aguilas'\n",
       "\\item 'Alameda de Osuna'\n",
       "\\item 'Almagro'\n",
       "\\item 'Almenara'\n",
       "\\item 'Almendrales'\n",
       "\\item 'Aluche'\n",
       "\\item 'Ambroz'\n",
       "\\item 'Amposta'\n",
       "\\item 'Apostol Santiago'\n",
       "\\item 'Arapiles'\n",
       "\\item 'Aravaca'\n",
       "\\item 'Arcos'\n",
       "\\item 'Argüelles'\n",
       "\\item 'Atocha'\n",
       "\\item 'Bellas Vistas'\n",
       "\\item 'Berruguete'\n",
       "\\item 'Buenavista'\n",
       "\\item 'Butarque'\n",
       "\\item 'Campamento'\n",
       "\\item 'Canillas'\n",
       "\\item 'Canillejas'\n",
       "\\item 'Cármenes'\n",
       "\\item 'Casa de Campo'\n",
       "\\item 'Casco Histórico de Barajas'\n",
       "\\item 'Casco Histórico de Vallecas'\n",
       "\\item 'Casco Histórico de Vicálvaro'\n",
       "\\item 'Castellana'\n",
       "\\item 'Castilla'\n",
       "\\item 'Castillejos'\n",
       "\\item 'Chopera'\n",
       "\\item 'Ciudad Jardín'\n",
       "\\item 'Ciudad Universitaria'\n",
       "\\item 'Colina'\n",
       "\\item 'Comillas'\n",
       "\\item 'Concepción'\n",
       "\\item 'Corralejos'\n",
       "\\item 'Cortes'\n",
       "\\item 'Costillares'\n",
       "\\item 'Cuatro Caminos'\n",
       "\\item 'Cuatro Vientos'\n",
       "\\item 'Delicias'\n",
       "\\item 'El Goloso'\n",
       "\\item 'El Plantío'\n",
       "\\item 'El Viso'\n",
       "\\item 'Embajadores'\n",
       "\\item 'Entrevías'\n",
       "\\item 'Estrella'\n",
       "\\item 'Fontarrón'\n",
       "\\item 'Fuente del Berro'\n",
       "\\item 'Fuentelareina'\n",
       "\\item 'Gaztambide'\n",
       "\\item 'Goya'\n",
       "\\item 'Guindalera'\n",
       "\\item 'Hellín'\n",
       "\\item 'Hispanoamérica'\n",
       "\\item 'Ibiza'\n",
       "\\item 'Imperial'\n",
       "\\item 'Jerónimos'\n",
       "\\item 'Justicia'\n",
       "\\item 'La Paz'\n",
       "\\item 'Legazpi'\n",
       "\\item 'Lista'\n",
       "\\item 'Los Angeles'\n",
       "\\item 'Los Rosales'\n",
       "\\item 'Lucero'\n",
       "\\item 'Marroquina'\n",
       "\\item 'Media Legua'\n",
       "\\item 'Mirasierra'\n",
       "\\item 'Moscardó'\n",
       "\\item 'Niño Jesús'\n",
       "\\item 'Nueva España'\n",
       "\\item 'Numancia'\n",
       "\\item 'Opañel'\n",
       "\\item 'Orcasitas'\n",
       "\\item 'Orcasur'\n",
       "\\item 'Pacífico'\n",
       "\\item 'Palacio'\n",
       "\\item 'Palomas'\n",
       "\\item 'Palomeras Bajas'\n",
       "\\item 'Palomeras Sureste'\n",
       "\\item 'Palos de Moguer'\n",
       "\\item 'Pavones'\n",
       "\\item 'Peñagrande'\n",
       "\\item 'Pilar'\n",
       "\\item 'Pinar del Rey'\n",
       "\\item 'Piovera'\n",
       "\\item 'Portazgo'\n",
       "\\item 'Pradolongo'\n",
       "\\item 'Prosperidad'\n",
       "\\item 'Pueblo Nuevo'\n",
       "\\item 'Puerta Bonita'\n",
       "\\item 'Puerta del Angel'\n",
       "\\item 'Quintana'\n",
       "\\item 'Recoletos'\n",
       "\\item 'Rejas'\n",
       "\\item 'Rios Rosas'\n",
       "\\item 'Rosas'\n",
       "\\item 'Salvador'\n",
       "\\item 'San Andrés'\n",
       "\\item 'San Cristobal'\n",
       "\\item 'San Diego'\n",
       "\\item 'San Fermín'\n",
       "\\item 'San Isidro'\n",
       "\\item 'San Juan Bautista'\n",
       "\\item 'San Pascual'\n",
       "\\item 'Santa Eugenia'\n",
       "\\item 'Simancas'\n",
       "\\item 'Sol'\n",
       "\\item 'Timón'\n",
       "\\item 'Trafalgar'\n",
       "\\item 'Universidad'\n",
       "\\item 'Valdeacederas'\n",
       "\\item 'Valdefuentes'\n",
       "\\item 'Valdemarín'\n",
       "\\item 'Valdezarza'\n",
       "\\item 'Vallehermoso'\n",
       "\\item 'Valverde'\n",
       "\\item 'Ventas'\n",
       "\\item 'Vinateros'\n",
       "\\item 'Vista Alegre'\n",
       "\\item 'Zofío'\n",
       "\\end{enumerate*}\n"
      ],
      "text/markdown": [
       "1. Universidad\n",
       "2. Sol\n",
       "3. Imperial\n",
       "4. Acacias\n",
       "5. Chopera\n",
       "6. Delicias\n",
       "7. Palos de Moguer\n",
       "8. Embajadores\n",
       "9. Cortes\n",
       "10. Atocha\n",
       "11. Pacífico\n",
       "12. Adelfas\n",
       "13. Estrella\n",
       "14. Ibiza\n",
       "15. Jerónimos\n",
       "16. Niño Jesús\n",
       "17. Palacio\n",
       "18. Justicia\n",
       "19. Recoletos\n",
       "20. Goya\n",
       "21. Fuente del Berro\n",
       "22. Arapiles\n",
       "23. Trafalgar\n",
       "24. Almagro\n",
       "25. Guindalera\n",
       "26. Lista\n",
       "27. Castellana\n",
       "28. El Viso\n",
       "29. Prosperidad\n",
       "30. Valverde\n",
       "31. Casa de Campo\n",
       "32. El Goloso\n",
       "33. Numancia\n",
       "34. Cármenes\n",
       "35. Puerta del Angel\n",
       "36. Lucero\n",
       "37. Aluche\n",
       "38. San Isidro\n",
       "39. Campamento\n",
       "40. Comillas\n",
       "41. Opañel\n",
       "42. Vista Alegre\n",
       "43. Ciudad Jardín\n",
       "44. Hispanoamérica\n",
       "45. Nueva España\n",
       "46. Castilla\n",
       "47. Bellas Vistas\n",
       "48. Cuatro Caminos\n",
       "49. Castillejos\n",
       "50. Vallehermoso\n",
       "51. Almenara\n",
       "52. Valdeacederas\n",
       "53. Berruguete\n",
       "54. Gaztambide\n",
       "55. Rios Rosas\n",
       "56. Peñagrande\n",
       "57. Argüelles\n",
       "58. Puerta Bonita\n",
       "59. Buenavista\n",
       "60. Abrantes\n",
       "61. Orcasur\n",
       "62. San Fermín\n",
       "63. Almendrales\n",
       "64. Pradolongo\n",
       "65. Portazgo\n",
       "66. Entrevías\n",
       "67. San Diego\n",
       "68. Palomeras Bajas\n",
       "69. Fontarrón\n",
       "70. Vinateros\n",
       "71. Ventas\n",
       "72. Pueblo Nuevo\n",
       "73. Quintana\n",
       "74. Concepción\n",
       "75. San Juan Bautista\n",
       "76. Costillares\n",
       "77. Piovera\n",
       "78. Canillas\n",
       "79. Pinar del Rey\n",
       "80. Apostol Santiago\n",
       "81. San Andrés\n",
       "82. Valdefuentes\n",
       "83. Butarque\n",
       "84. Los Angeles\n",
       "85. Casco Histórico de Vicálvaro\n",
       "86. Simancas\n",
       "87. Rejas\n",
       "88. Salvador\n",
       "89. Casco Histórico de Barajas\n",
       "90. Pilar\n",
       "91. La Paz\n",
       "92. Mirasierra\n",
       "93. Ciudad Universitaria\n",
       "94. Moscardó\n",
       "95. Palomeras Sureste\n",
       "96. Marroquina\n",
       "97. Media Legua\n",
       "98. Los Rosales\n",
       "99. Casco Histórico de Vallecas\n",
       "100. Timón\n",
       "101. Corralejos\n",
       "102. Cuatro Vientos\n",
       "103. Colina\n",
       "104. San Cristobal\n",
       "105. Alameda de Osuna\n",
       "106. Aeropuerto\n",
       "107. Palomas\n",
       "108. Zofío\n",
       "109. Aguilas\n",
       "110. Legazpi\n",
       "111. Fuentelareina\n",
       "112. Aravaca\n",
       "113. Ambroz\n",
       "114. Canillejas\n",
       "115. Valdezarza\n",
       "116. Amposta\n",
       "117. San Pascual\n",
       "118. Santa Eugenia\n",
       "119. Arcos\n",
       "120. Rosas\n",
       "121. Valdemarín\n",
       "122. El Plantío\n",
       "123. Hellín\n",
       "124. Pavones\n",
       "125. Orcasitas\n",
       "\n",
       "\n",
       "\n",
       "**Levels**: 1. 'Abrantes'\n",
       "2. 'Acacias'\n",
       "3. 'Adelfas'\n",
       "4. 'Aeropuerto'\n",
       "5. 'Aguilas'\n",
       "6. 'Alameda de Osuna'\n",
       "7. 'Almagro'\n",
       "8. 'Almenara'\n",
       "9. 'Almendrales'\n",
       "10. 'Aluche'\n",
       "11. 'Ambroz'\n",
       "12. 'Amposta'\n",
       "13. 'Apostol Santiago'\n",
       "14. 'Arapiles'\n",
       "15. 'Aravaca'\n",
       "16. 'Arcos'\n",
       "17. 'Argüelles'\n",
       "18. 'Atocha'\n",
       "19. 'Bellas Vistas'\n",
       "20. 'Berruguete'\n",
       "21. 'Buenavista'\n",
       "22. 'Butarque'\n",
       "23. 'Campamento'\n",
       "24. 'Canillas'\n",
       "25. 'Canillejas'\n",
       "26. 'Cármenes'\n",
       "27. 'Casa de Campo'\n",
       "28. 'Casco Histórico de Barajas'\n",
       "29. 'Casco Histórico de Vallecas'\n",
       "30. 'Casco Histórico de Vicálvaro'\n",
       "31. 'Castellana'\n",
       "32. 'Castilla'\n",
       "33. 'Castillejos'\n",
       "34. 'Chopera'\n",
       "35. 'Ciudad Jardín'\n",
       "36. 'Ciudad Universitaria'\n",
       "37. 'Colina'\n",
       "38. 'Comillas'\n",
       "39. 'Concepción'\n",
       "40. 'Corralejos'\n",
       "41. 'Cortes'\n",
       "42. 'Costillares'\n",
       "43. 'Cuatro Caminos'\n",
       "44. 'Cuatro Vientos'\n",
       "45. 'Delicias'\n",
       "46. 'El Goloso'\n",
       "47. 'El Plantío'\n",
       "48. 'El Viso'\n",
       "49. 'Embajadores'\n",
       "50. 'Entrevías'\n",
       "51. 'Estrella'\n",
       "52. 'Fontarrón'\n",
       "53. 'Fuente del Berro'\n",
       "54. 'Fuentelareina'\n",
       "55. 'Gaztambide'\n",
       "56. 'Goya'\n",
       "57. 'Guindalera'\n",
       "58. 'Hellín'\n",
       "59. 'Hispanoamérica'\n",
       "60. 'Ibiza'\n",
       "61. 'Imperial'\n",
       "62. 'Jerónimos'\n",
       "63. 'Justicia'\n",
       "64. 'La Paz'\n",
       "65. 'Legazpi'\n",
       "66. 'Lista'\n",
       "67. 'Los Angeles'\n",
       "68. 'Los Rosales'\n",
       "69. 'Lucero'\n",
       "70. 'Marroquina'\n",
       "71. 'Media Legua'\n",
       "72. 'Mirasierra'\n",
       "73. 'Moscardó'\n",
       "74. 'Niño Jesús'\n",
       "75. 'Nueva España'\n",
       "76. 'Numancia'\n",
       "77. 'Opañel'\n",
       "78. 'Orcasitas'\n",
       "79. 'Orcasur'\n",
       "80. 'Pacífico'\n",
       "81. 'Palacio'\n",
       "82. 'Palomas'\n",
       "83. 'Palomeras Bajas'\n",
       "84. 'Palomeras Sureste'\n",
       "85. 'Palos de Moguer'\n",
       "86. 'Pavones'\n",
       "87. 'Peñagrande'\n",
       "88. 'Pilar'\n",
       "89. 'Pinar del Rey'\n",
       "90. 'Piovera'\n",
       "91. 'Portazgo'\n",
       "92. 'Pradolongo'\n",
       "93. 'Prosperidad'\n",
       "94. 'Pueblo Nuevo'\n",
       "95. 'Puerta Bonita'\n",
       "96. 'Puerta del Angel'\n",
       "97. 'Quintana'\n",
       "98. 'Recoletos'\n",
       "99. 'Rejas'\n",
       "100. 'Rios Rosas'\n",
       "101. 'Rosas'\n",
       "102. 'Salvador'\n",
       "103. 'San Andrés'\n",
       "104. 'San Cristobal'\n",
       "105. 'San Diego'\n",
       "106. 'San Fermín'\n",
       "107. 'San Isidro'\n",
       "108. 'San Juan Bautista'\n",
       "109. 'San Pascual'\n",
       "110. 'Santa Eugenia'\n",
       "111. 'Simancas'\n",
       "112. 'Sol'\n",
       "113. 'Timón'\n",
       "114. 'Trafalgar'\n",
       "115. 'Universidad'\n",
       "116. 'Valdeacederas'\n",
       "117. 'Valdefuentes'\n",
       "118. 'Valdemarín'\n",
       "119. 'Valdezarza'\n",
       "120. 'Vallehermoso'\n",
       "121. 'Valverde'\n",
       "122. 'Ventas'\n",
       "123. 'Vinateros'\n",
       "124. 'Vista Alegre'\n",
       "125. 'Zofío'\n",
       "\n",
       "\n"
      ],
      "text/plain": [
       "  [1] Universidad                  Sol                         \n",
       "  [3] Imperial                     Acacias                     \n",
       "  [5] Chopera                      Delicias                    \n",
       "  [7] Palos de Moguer              Embajadores                 \n",
       "  [9] Cortes                       Atocha                      \n",
       " [11] Pacífico                     Adelfas                     \n",
       " [13] Estrella                     Ibiza                       \n",
       " [15] Jerónimos                    Niño Jesús                  \n",
       " [17] Palacio                      Justicia                    \n",
       " [19] Recoletos                    Goya                        \n",
       " [21] Fuente del Berro             Arapiles                    \n",
       " [23] Trafalgar                    Almagro                     \n",
       " [25] Guindalera                   Lista                       \n",
       " [27] Castellana                   El Viso                     \n",
       " [29] Prosperidad                  Valverde                    \n",
       " [31] Casa de Campo                El Goloso                   \n",
       " [33] Numancia                     Cármenes                    \n",
       " [35] Puerta del Angel             Lucero                      \n",
       " [37] Aluche                       San Isidro                  \n",
       " [39] Campamento                   Comillas                    \n",
       " [41] Opañel                       Vista Alegre                \n",
       " [43] Ciudad Jardín                Hispanoamérica              \n",
       " [45] Nueva España                 Castilla                    \n",
       " [47] Bellas Vistas                Cuatro Caminos              \n",
       " [49] Castillejos                  Vallehermoso                \n",
       " [51] Almenara                     Valdeacederas               \n",
       " [53] Berruguete                   Gaztambide                  \n",
       " [55] Rios Rosas                   Peñagrande                  \n",
       " [57] Argüelles                    Puerta Bonita               \n",
       " [59] Buenavista                   Abrantes                    \n",
       " [61] Orcasur                      San Fermín                  \n",
       " [63] Almendrales                  Pradolongo                  \n",
       " [65] Portazgo                     Entrevías                   \n",
       " [67] San Diego                    Palomeras Bajas             \n",
       " [69] Fontarrón                    Vinateros                   \n",
       " [71] Ventas                       Pueblo Nuevo                \n",
       " [73] Quintana                     Concepción                  \n",
       " [75] San Juan Bautista            Costillares                 \n",
       " [77] Piovera                      Canillas                    \n",
       " [79] Pinar del Rey                Apostol Santiago            \n",
       " [81] San Andrés                   Valdefuentes                \n",
       " [83] Butarque                     Los Angeles                 \n",
       " [85] Casco Histórico de Vicálvaro Simancas                    \n",
       " [87] Rejas                        Salvador                    \n",
       " [89] Casco Histórico de Barajas   Pilar                       \n",
       " [91] La Paz                       Mirasierra                  \n",
       " [93] Ciudad Universitaria         Moscardó                    \n",
       " [95] Palomeras Sureste            Marroquina                  \n",
       " [97] Media Legua                  Los Rosales                 \n",
       " [99] Casco Histórico de Vallecas  Timón                       \n",
       "[101] Corralejos                   Cuatro Vientos              \n",
       "[103] Colina                       San Cristobal               \n",
       "[105] Alameda de Osuna             Aeropuerto                  \n",
       "[107] Palomas                      Zofío                       \n",
       "[109] Aguilas                      Legazpi                     \n",
       "[111] Fuentelareina                Aravaca                     \n",
       "[113] Ambroz                       Canillejas                  \n",
       "[115] Valdezarza                   Amposta                     \n",
       "[117] San Pascual                  Santa Eugenia               \n",
       "[119] Arcos                        Rosas                       \n",
       "[121] Valdemarín                   El Plantío                  \n",
       "[123] Hellín                       Pavones                     \n",
       "[125] Orcasitas                   \n",
       "125 Levels: Abrantes Acacias Adelfas Aeropuerto Aguilas ... Zofío"
      ]
     },
     "metadata": {},
     "output_type": "display_data"
    }
   ],
   "source": [
    "# Cuantos barrios hay en todo el Dataset\n",
    "length(unique(airbnb$Barrio))\n",
    "\n",
    "# Cuales barrios que hay en todo el Dataset\n",
    "unique(airbnb$Barrio)"
   ]
  },
  {
   "cell_type": "markdown",
   "metadata": {},
   "source": [
    "¿Cuales son los 5 barrios que tienen mayor número entradas?"
   ]
  },
  {
   "cell_type": "code",
   "execution_count": 495,
   "metadata": {},
   "outputs": [
    {
     "data": {
      "text/plain": [
       "\n",
       "Embajadores Universidad     Palacio         Sol    Justicia \n",
       "       1844        1358        1083         940         785 "
      ]
     },
     "metadata": {},
     "output_type": "display_data"
    }
   ],
   "source": [
    "# 5 barrios con mayor número de entradas\n",
    "head(sort(table(airbnb$Barrio), decreasing = TRUE), 5)"
   ]
  },
  {
   "cell_type": "markdown",
   "metadata": {},
   "source": [
    "¿Cuantos Tipos de Alquiler diferentes hay? ¿Cuales son? ¿Cuantas entradas en el dataframe hay por cada tipo?"
   ]
  },
  {
   "cell_type": "code",
   "execution_count": 496,
   "metadata": {},
   "outputs": [
    {
     "data": {
      "text/html": [
       "3"
      ],
      "text/latex": [
       "3"
      ],
      "text/markdown": [
       "3"
      ],
      "text/plain": [
       "[1] 3"
      ]
     },
     "metadata": {},
     "output_type": "display_data"
    },
    {
     "data": {
      "text/html": [
       "<style>\n",
       ".list-inline {list-style: none; margin:0; padding: 0}\n",
       ".list-inline>li {display: inline-block}\n",
       ".list-inline>li:not(:last-child)::after {content: \"\\00b7\"; padding: 0 .5ex}\n",
       "</style>\n",
       "<ol class=list-inline><li>Private room</li><li>Entire home/apt</li><li>Shared room</li></ol>\n",
       "\n",
       "<details>\n",
       "\t<summary style=display:list-item;cursor:pointer>\n",
       "\t\t<strong>Levels</strong>:\n",
       "\t</summary>\n",
       "\t<style>\n",
       "\t.list-inline {list-style: none; margin:0; padding: 0}\n",
       "\t.list-inline>li {display: inline-block}\n",
       "\t.list-inline>li:not(:last-child)::after {content: \"\\00b7\"; padding: 0 .5ex}\n",
       "\t</style>\n",
       "\t<ol class=list-inline><li>'Entire home/apt'</li><li>'Private room'</li><li>'Shared room'</li></ol>\n",
       "</details>"
      ],
      "text/latex": [
       "\\begin{enumerate*}\n",
       "\\item Private room\n",
       "\\item Entire home/apt\n",
       "\\item Shared room\n",
       "\\end{enumerate*}\n",
       "\n",
       "\\emph{Levels}: \\begin{enumerate*}\n",
       "\\item 'Entire home/apt'\n",
       "\\item 'Private room'\n",
       "\\item 'Shared room'\n",
       "\\end{enumerate*}\n"
      ],
      "text/markdown": [
       "1. Private room\n",
       "2. Entire home/apt\n",
       "3. Shared room\n",
       "\n",
       "\n",
       "\n",
       "**Levels**: 1. 'Entire home/apt'\n",
       "2. 'Private room'\n",
       "3. 'Shared room'\n",
       "\n",
       "\n"
      ],
      "text/plain": [
       "[1] Private room    Entire home/apt Shared room    \n",
       "Levels: Entire home/apt Private room Shared room"
      ]
     },
     "metadata": {},
     "output_type": "display_data"
    },
    {
     "data": {
      "text/plain": [
       "\n",
       "Entire home/apt    Private room     Shared room \n",
       "           7903            5113             191 "
      ]
     },
     "metadata": {},
     "output_type": "display_data"
    }
   ],
   "source": [
    "# Cuantos tipos de alquiler hay\n",
    "length(unique(airbnb$TipoAlquiler))\n",
    "\n",
    "# Cuales tipos de alquiler que hay\n",
    "unique(airbnb$TipoAlquiler)\n",
    "\n",
    "# Cuantas entradas en el DataFrame hay por cada tipo\n",
    "table(airbnb$TipoAlquiler)"
   ]
  },
  {
   "cell_type": "markdown",
   "metadata": {},
   "source": [
    "Muestra el diagrama de cajas del precio para cada uno de los diferentes Tipos de Alquiler"
   ]
  },
  {
   "cell_type": "code",
   "execution_count": 497,
   "metadata": {},
   "outputs": [
    {
     "name": "stderr",
     "output_type": "stream",
     "text": [
      "Warning message:\n",
      "“Removed 9 rows containing non-finite values (stat_boxplot).”\n"
     ]
    },
    {
     "data": {
      "image/png": "[encoded data removed]",
      "text/plain": [
       "plot without title"
      ]
     },
     "metadata": {
      "image/png": {
       "height": 240,
       "width": 360
      }
     },
     "output_type": "display_data"
    }
   ],
   "source": [
    "# Diagrama de caja del precio en función del tipo de alquiler\n",
    "ggplot(airbnb, aes(x=TipoAlquiler, y=Precio)) + # Dibujo del lienzo de trabajo\n",
    "geom_boxplot() # Dibujo del boxplot"
   ]
  },
  {
   "cell_type": "markdown",
   "metadata": {},
   "source": [
    "Cual es el precio medio de alquiler de cada uno, la diferencia que hay ¿es estadísticamente significativa?\n",
    "¿Con que test lo comprobarías?"
   ]
  },
  {
   "cell_type": "code",
   "execution_count": 498,
   "metadata": {},
   "outputs": [
    {
     "data": {
      "text/plain": [
       "airbnb$TipoAlquiler: Entire home/apt\n",
       "[1] 87.29661\n",
       "------------------------------------------------------------ \n",
       "airbnb$TipoAlquiler: Private room\n",
       "[1] 34.25514\n",
       "------------------------------------------------------------ \n",
       "airbnb$TipoAlquiler: Shared room\n",
       "[1] 29.8534"
      ]
     },
     "metadata": {},
     "output_type": "display_data"
    },
    {
     "data": {
      "text/plain": [
       "\n",
       "\tKruskal-Wallis rank sum test\n",
       "\n",
       "data:  Precio by TipoAlquiler\n",
       "Kruskal-Wallis chi-squared = 7235.6, df = 2, p-value < 2.2e-16\n"
      ]
     },
     "metadata": {},
     "output_type": "display_data"
    },
    {
     "name": "stdout",
     "output_type": "stream",
     "text": [
      "[1] \"La diferencia de media de los precios de alquiler es estadísticamente significativa, pues p-value < 0.05\"\n",
      "[1] \"El test utilizado es el test de Kruskal-Wallis\"\n"
     ]
    }
   ],
   "source": [
    "# Precio medio por tipo de alquiler\n",
    "by(airbnb$Precio, airbnb$TipoAlquiler, mean, na.rm = TRUE)\n",
    "\n",
    "# La diferencia que hay es estadísticamente significativa?\n",
    "kruskal.test(Precio ~ TipoAlquiler, data = airbnb)\n",
    "print('La diferencia de media de los precios de alquiler es estadísticamente significativa, pues p-value < 0.05')\n",
    "\n",
    "# Que test se podría utilizar para comprobarlo?\n",
    "print('El test utilizado es el test de Kruskal-Wallis')"
   ]
  },
  {
   "cell_type": "markdown",
   "metadata": {},
   "source": [
    "Filtra el dataframe cuyos tipo de alquiler sea  'Entire home/apt' y guardalo en un dataframe llamado \n",
    "*airbnb_entire*.\n",
    "Estas serán las entradas que tienen un alquiler del piso completo."
   ]
  },
  {
   "cell_type": "code",
   "execution_count": 499,
   "metadata": {},
   "outputs": [
    {
     "data": {
      "text/html": [
       "<table class=\"dataframe\">\n",
       "<caption>A data.frame: 6 × 14</caption>\n",
       "<thead>\n",
       "\t<tr><th></th><th scope=col>CodigoPostal</th><th scope=col>Barrio</th><th scope=col>TipoPropiedad</th><th scope=col>TipoAlquiler</th><th scope=col>MaxOcupantes</th><th scope=col>NumBanyos</th><th scope=col>NumDormitorios</th><th scope=col>NumCamas</th><th scope=col>TipoCama</th><th scope=col>Comodidades</th><th scope=col>PiesCuadrados</th><th scope=col>Precio</th><th scope=col>Puntuacion</th><th scope=col>MetrosCuadrados</th></tr>\n",
       "\t<tr><th></th><th scope=col>&lt;fct&gt;</th><th scope=col>&lt;fct&gt;</th><th scope=col>&lt;fct&gt;</th><th scope=col>&lt;fct&gt;</th><th scope=col>&lt;int&gt;</th><th scope=col>&lt;dbl&gt;</th><th scope=col>&lt;int&gt;</th><th scope=col>&lt;int&gt;</th><th scope=col>&lt;fct&gt;</th><th scope=col>&lt;fct&gt;</th><th scope=col>&lt;int&gt;</th><th scope=col>&lt;int&gt;</th><th scope=col>&lt;int&gt;</th><th scope=col>&lt;dbl&gt;</th></tr>\n",
       "</thead>\n",
       "<tbody>\n",
       "\t<tr><th scope=row>1</th><td>28004</td><td>Universidad</td><td>Apartment</td><td>Entire home/apt</td><td>6</td><td>1</td><td>3</td><td> 5</td><td>Real Bed</td><td>TV,Internet,Wireless Internet,Air conditioning,Kitchen,Indoor fireplace,Heating,Family/kid friendly,Washer,Dryer,Smoke detector,Carbon monoxide detector,Essentials,Shampoo                                                                                                                                                                                     </td><td> NA</td><td>92</td><td> 96</td><td>      NA</td></tr>\n",
       "\t<tr><th scope=row>2</th><td>28004</td><td>Universidad</td><td>Apartment</td><td>Entire home/apt</td><td>3</td><td>1</td><td>2</td><td> 2</td><td>Real Bed</td><td>TV,Internet,Wireless Internet,Air conditioning,Kitchen,Doorman,Heating,Family/kid friendly,Washer,Essentials,Shampoo,Hangers,Hair dryer,Iron,Laptop friendly workspace                                                                                                                                                                                          </td><td> NA</td><td>55</td><td> 91</td><td>      NA</td></tr>\n",
       "\t<tr><th scope=row>3</th><td>28004</td><td>Universidad</td><td>Loft     </td><td>Entire home/apt</td><td>3</td><td>2</td><td>1</td><td> 1</td><td>Real Bed</td><td>TV,Internet,Wireless Internet,Air conditioning,Kitchen,Pets allowed,Breakfast,Elevator in building,Indoor fireplace,Buzzer/wireless intercom,Heating,Washer,Essentials,Shampoo,Hangers,Hair dryer,Iron,Laptop friendly workspace,translation missing: en.hosting_amenity_49,translation missing: en.hosting_amenity_50                                          </td><td> NA</td><td>60</td><td>100</td><td>      NA</td></tr>\n",
       "\t<tr><th scope=row>4</th><td>28015</td><td>Universidad</td><td>Apartment</td><td>Entire home/apt</td><td>5</td><td>1</td><td>1</td><td> 1</td><td>Real Bed</td><td>TV,Wireless Internet,Air conditioning,Kitchen,Smoking allowed,Pets allowed,Elevator in building,Heating,Family/kid friendly,Washer,Essentials,Iron                                                                                                                                                                                                              </td><td>538</td><td>75</td><td> 90</td><td>49.98181</td></tr>\n",
       "\t<tr><th scope=row>5</th><td>28004</td><td>Universidad</td><td>Apartment</td><td>Entire home/apt</td><td>2</td><td>1</td><td>0</td><td> 1</td><td>Real Bed</td><td>TV,Cable TV,Internet,Wireless Internet,Air conditioning,Wheelchair accessible,Kitchen,Doorman,Elevator in building,Buzzer/wireless intercom,Heating,Washer,Smoke detector,Carbon monoxide detector,First aid kit,Safety card,Fire extinguisher,Essentials,Shampoo,24-hour check-in,Hangers,Hair dryer,Iron,Laptop friendly workspace,Self Check-In,Doorman Entry</td><td> NA</td><td>55</td><td> 95</td><td>      NA</td></tr>\n",
       "\t<tr><th scope=row>6</th><td>28004</td><td>Universidad</td><td>Apartment</td><td>Entire home/apt</td><td>3</td><td>1</td><td>1</td><td>NA</td><td>Real Bed</td><td>TV,Wireless Internet,Air conditioning,Kitchen,Elevator in building,Buzzer/wireless intercom,Heating,Washer                                                                                                                                                                                                                                                      </td><td> NA</td><td>70</td><td> 84</td><td>      NA</td></tr>\n",
       "</tbody>\n",
       "</table>\n"
      ],
      "text/latex": [
       "A data.frame: 6 × 14\n",
       "\\begin{tabular}{r|llllllllllllll}\n",
       "  & CodigoPostal & Barrio & TipoPropiedad & TipoAlquiler & MaxOcupantes & NumBanyos & NumDormitorios & NumCamas & TipoCama & Comodidades & PiesCuadrados & Precio & Puntuacion & MetrosCuadrados\\\\\n",
       "  & <fct> & <fct> & <fct> & <fct> & <int> & <dbl> & <int> & <int> & <fct> & <fct> & <int> & <int> & <int> & <dbl>\\\\\n",
       "\\hline\n",
       "\t1 & 28004 & Universidad & Apartment & Entire home/apt & 6 & 1 & 3 &  5 & Real Bed & TV,Internet,Wireless Internet,Air conditioning,Kitchen,Indoor fireplace,Heating,Family/kid friendly,Washer,Dryer,Smoke detector,Carbon monoxide detector,Essentials,Shampoo                                                                                                                                                                                      &  NA & 92 &  96 &       NA\\\\\n",
       "\t2 & 28004 & Universidad & Apartment & Entire home/apt & 3 & 1 & 2 &  2 & Real Bed & TV,Internet,Wireless Internet,Air conditioning,Kitchen,Doorman,Heating,Family/kid friendly,Washer,Essentials,Shampoo,Hangers,Hair dryer,Iron,Laptop friendly workspace                                                                                                                                                                                           &  NA & 55 &  91 &       NA\\\\\n",
       "\t3 & 28004 & Universidad & Loft      & Entire home/apt & 3 & 2 & 1 &  1 & Real Bed & TV,Internet,Wireless Internet,Air conditioning,Kitchen,Pets allowed,Breakfast,Elevator in building,Indoor fireplace,Buzzer/wireless intercom,Heating,Washer,Essentials,Shampoo,Hangers,Hair dryer,Iron,Laptop friendly workspace,translation missing: en.hosting\\_amenity\\_49,translation missing: en.hosting\\_amenity\\_50                                           &  NA & 60 & 100 &       NA\\\\\n",
       "\t4 & 28015 & Universidad & Apartment & Entire home/apt & 5 & 1 & 1 &  1 & Real Bed & TV,Wireless Internet,Air conditioning,Kitchen,Smoking allowed,Pets allowed,Elevator in building,Heating,Family/kid friendly,Washer,Essentials,Iron                                                                                                                                                                                                               & 538 & 75 &  90 & 49.98181\\\\\n",
       "\t5 & 28004 & Universidad & Apartment & Entire home/apt & 2 & 1 & 0 &  1 & Real Bed & TV,Cable TV,Internet,Wireless Internet,Air conditioning,Wheelchair accessible,Kitchen,Doorman,Elevator in building,Buzzer/wireless intercom,Heating,Washer,Smoke detector,Carbon monoxide detector,First aid kit,Safety card,Fire extinguisher,Essentials,Shampoo,24-hour check-in,Hangers,Hair dryer,Iron,Laptop friendly workspace,Self Check-In,Doorman Entry &  NA & 55 &  95 &       NA\\\\\n",
       "\t6 & 28004 & Universidad & Apartment & Entire home/apt & 3 & 1 & 1 & NA & Real Bed & TV,Wireless Internet,Air conditioning,Kitchen,Elevator in building,Buzzer/wireless intercom,Heating,Washer                                                                                                                                                                                                                                                       &  NA & 70 &  84 &       NA\\\\\n",
       "\\end{tabular}\n"
      ],
      "text/markdown": [
       "\n",
       "A data.frame: 6 × 14\n",
       "\n",
       "| <!--/--> | CodigoPostal &lt;fct&gt; | Barrio &lt;fct&gt; | TipoPropiedad &lt;fct&gt; | TipoAlquiler &lt;fct&gt; | MaxOcupantes &lt;int&gt; | NumBanyos &lt;dbl&gt; | NumDormitorios &lt;int&gt; | NumCamas &lt;int&gt; | TipoCama &lt;fct&gt; | Comodidades &lt;fct&gt; | PiesCuadrados &lt;int&gt; | Precio &lt;int&gt; | Puntuacion &lt;int&gt; | MetrosCuadrados &lt;dbl&gt; |\n",
       "|---|---|---|---|---|---|---|---|---|---|---|---|---|---|---|\n",
       "| 1 | 28004 | Universidad | Apartment | Entire home/apt | 6 | 1 | 3 |  5 | Real Bed | TV,Internet,Wireless Internet,Air conditioning,Kitchen,Indoor fireplace,Heating,Family/kid friendly,Washer,Dryer,Smoke detector,Carbon monoxide detector,Essentials,Shampoo                                                                                                                                                                                      |  NA | 92 |  96 |       NA |\n",
       "| 2 | 28004 | Universidad | Apartment | Entire home/apt | 3 | 1 | 2 |  2 | Real Bed | TV,Internet,Wireless Internet,Air conditioning,Kitchen,Doorman,Heating,Family/kid friendly,Washer,Essentials,Shampoo,Hangers,Hair dryer,Iron,Laptop friendly workspace                                                                                                                                                                                           |  NA | 55 |  91 |       NA |\n",
       "| 3 | 28004 | Universidad | Loft      | Entire home/apt | 3 | 2 | 1 |  1 | Real Bed | TV,Internet,Wireless Internet,Air conditioning,Kitchen,Pets allowed,Breakfast,Elevator in building,Indoor fireplace,Buzzer/wireless intercom,Heating,Washer,Essentials,Shampoo,Hangers,Hair dryer,Iron,Laptop friendly workspace,translation missing: en.hosting_amenity_49,translation missing: en.hosting_amenity_50                                           |  NA | 60 | 100 |       NA |\n",
       "| 4 | 28015 | Universidad | Apartment | Entire home/apt | 5 | 1 | 1 |  1 | Real Bed | TV,Wireless Internet,Air conditioning,Kitchen,Smoking allowed,Pets allowed,Elevator in building,Heating,Family/kid friendly,Washer,Essentials,Iron                                                                                                                                                                                                               | 538 | 75 |  90 | 49.98181 |\n",
       "| 5 | 28004 | Universidad | Apartment | Entire home/apt | 2 | 1 | 0 |  1 | Real Bed | TV,Cable TV,Internet,Wireless Internet,Air conditioning,Wheelchair accessible,Kitchen,Doorman,Elevator in building,Buzzer/wireless intercom,Heating,Washer,Smoke detector,Carbon monoxide detector,First aid kit,Safety card,Fire extinguisher,Essentials,Shampoo,24-hour check-in,Hangers,Hair dryer,Iron,Laptop friendly workspace,Self Check-In,Doorman Entry |  NA | 55 |  95 |       NA |\n",
       "| 6 | 28004 | Universidad | Apartment | Entire home/apt | 3 | 1 | 1 | NA | Real Bed | TV,Wireless Internet,Air conditioning,Kitchen,Elevator in building,Buzzer/wireless intercom,Heating,Washer                                                                                                                                                                                                                                                       |  NA | 70 |  84 |       NA |\n",
       "\n"
      ],
      "text/plain": [
       "  CodigoPostal Barrio      TipoPropiedad TipoAlquiler    MaxOcupantes NumBanyos\n",
       "1 28004        Universidad Apartment     Entire home/apt 6            1        \n",
       "2 28004        Universidad Apartment     Entire home/apt 3            1        \n",
       "3 28004        Universidad Loft          Entire home/apt 3            2        \n",
       "4 28015        Universidad Apartment     Entire home/apt 5            1        \n",
       "5 28004        Universidad Apartment     Entire home/apt 2            1        \n",
       "6 28004        Universidad Apartment     Entire home/apt 3            1        \n",
       "  NumDormitorios NumCamas TipoCama\n",
       "1 3               5       Real Bed\n",
       "2 2               2       Real Bed\n",
       "3 1               1       Real Bed\n",
       "4 1               1       Real Bed\n",
       "5 0               1       Real Bed\n",
       "6 1              NA       Real Bed\n",
       "  Comodidades                                                                                                                                                                                                                                                                                                                                                     \n",
       "1 TV,Internet,Wireless Internet,Air conditioning,Kitchen,Indoor fireplace,Heating,Family/kid friendly,Washer,Dryer,Smoke detector,Carbon monoxide detector,Essentials,Shampoo                                                                                                                                                                                     \n",
       "2 TV,Internet,Wireless Internet,Air conditioning,Kitchen,Doorman,Heating,Family/kid friendly,Washer,Essentials,Shampoo,Hangers,Hair dryer,Iron,Laptop friendly workspace                                                                                                                                                                                          \n",
       "3 TV,Internet,Wireless Internet,Air conditioning,Kitchen,Pets allowed,Breakfast,Elevator in building,Indoor fireplace,Buzzer/wireless intercom,Heating,Washer,Essentials,Shampoo,Hangers,Hair dryer,Iron,Laptop friendly workspace,translation missing: en.hosting_amenity_49,translation missing: en.hosting_amenity_50                                          \n",
       "4 TV,Wireless Internet,Air conditioning,Kitchen,Smoking allowed,Pets allowed,Elevator in building,Heating,Family/kid friendly,Washer,Essentials,Iron                                                                                                                                                                                                              \n",
       "5 TV,Cable TV,Internet,Wireless Internet,Air conditioning,Wheelchair accessible,Kitchen,Doorman,Elevator in building,Buzzer/wireless intercom,Heating,Washer,Smoke detector,Carbon monoxide detector,First aid kit,Safety card,Fire extinguisher,Essentials,Shampoo,24-hour check-in,Hangers,Hair dryer,Iron,Laptop friendly workspace,Self Check-In,Doorman Entry\n",
       "6 TV,Wireless Internet,Air conditioning,Kitchen,Elevator in building,Buzzer/wireless intercom,Heating,Washer                                                                                                                                                                                                                                                      \n",
       "  PiesCuadrados Precio Puntuacion MetrosCuadrados\n",
       "1  NA           92      96              NA       \n",
       "2  NA           55      91              NA       \n",
       "3  NA           60     100              NA       \n",
       "4 538           75      90        49.98181       \n",
       "5  NA           55      95              NA       \n",
       "6  NA           70      84              NA       "
      ]
     },
     "metadata": {},
     "output_type": "display_data"
    }
   ],
   "source": [
    "# Filtrado del DataFrame airbnb por el tipo de alquiler \"Entire home/apt\"\n",
    "airbnb_entire <- filter(airbnb, TipoAlquiler == 'Entire home/apt')\n",
    "\n",
    "# Primeros registros del DataFrame (Primeros 6)\n",
    "head(airbnb_entire)"
   ]
  },
  {
   "cell_type": "markdown",
   "metadata": {},
   "source": [
    "¿Cuales son los 5 barrios que tienen un mayor número de apartamentos enteros en alquiler?\n",
    "Nota: Mirar solo en airbnb_entire. A partir de este punto y hasta que se diga lo contrario partiremos de airbnb_entire."
   ]
  },
  {
   "cell_type": "code",
   "execution_count": 500,
   "metadata": {},
   "outputs": [
    {
     "data": {
      "text/plain": [
       "\n",
       "Embajadores Universidad     Palacio         Sol      Cortes \n",
       "       1099         897         684         648         528 "
      ]
     },
     "metadata": {},
     "output_type": "display_data"
    }
   ],
   "source": [
    "# 5 barrios con mayor número de apartamentos en alquiler\n",
    "# (Probablemente hubiese sido mejor usar el \"%>%\" de dplyr)\n",
    "head(sort(table(airbnb_entire$Barrio[airbnb_entire$TipoPropiedad == 'Apartment']), decreasing = TRUE), 5)"
   ]
  },
  {
   "cell_type": "markdown",
   "metadata": {},
   "source": [
    "¿Cuales son los 5 barrios que tienen un mayor precio medio de alquiler para apartamentos enteros (es decir, del dataframe airbnb_entire)?\n",
    "\n",
    "¿Cual es su precio medio?\n",
    "\n",
    "Ayuda: Usa la función aggregate `aggregate(.~colname,df,mean,na.rm=TRUE)`"
   ]
  },
  {
   "cell_type": "code",
   "execution_count": 501,
   "metadata": {},
   "outputs": [
    {
     "data": {
      "text/html": [
       "<style>\n",
       ".dl-inline {width: auto; margin:0; padding: 0}\n",
       ".dl-inline>dt, .dl-inline>dd {float: none; width: auto; display: inline-block}\n",
       ".dl-inline>dt::after {content: \":\\0020\"; padding-right: .5ex}\n",
       ".dl-inline>dt:not(:first-of-type) {padding-left: .5ex}\n",
       "</style><dl class=dl-inline><dt>Palomas</dt><dd>309.75</dd><dt>Fuentelareina</dt><dd>180</dd><dt>Recoletos</dt><dd>161.925373134328</dd><dt>El Plantío</dt><dd>150</dd><dt>Castellana</dt><dd>141.388888888889</dd></dl>\n"
      ],
      "text/latex": [
       "\\begin{description*}\n",
       "\\item[Palomas] 309.75\n",
       "\\item[Fuentelareina] 180\n",
       "\\item[Recoletos] 161.925373134328\n",
       "\\item[El Plantío] 150\n",
       "\\item[Castellana] 141.388888888889\n",
       "\\end{description*}\n"
      ],
      "text/markdown": [
       "Palomas\n",
       ":   309.75Fuentelareina\n",
       ":   180Recoletos\n",
       ":   161.925373134328El Plantío\n",
       ":   150Castellana\n",
       ":   141.388888888889\n",
       "\n"
      ],
      "text/plain": [
       "airbnb_entire$Barrio\n",
       "      Palomas Fuentelareina     Recoletos    El Plantío    Castellana \n",
       "     309.7500      180.0000      161.9254      150.0000      141.3889 "
      ]
     },
     "metadata": {},
     "output_type": "display_data"
    }
   ],
   "source": [
    "# Los 5 barrios que tienen mayor precio medio de alquiler junto con su precio.\n",
    "head(sort(by(airbnb_entire$Precio, airbnb_entire$Barrio, mean, na.rm=TRUE), decreasing=TRUE), 5)\n",
    "\n",
    "# Con aggregate\n",
    "#barrio_precioMedio <- aggregate(airbnb_entire$Precio, list(airbnb_entire$Barrio), mean, na.rm=TRUE)\n",
    "#colnames(barrio_precioMedio) <- c('Barrio', 'PrecioMedio')\n",
    "#barrio_precioMedio"
   ]
  },
  {
   "cell_type": "markdown",
   "metadata": {},
   "source": [
    "¿Cuantos apartamentos hay en cada uno de esos barrios?\n",
    "\n",
    "Mostrar una dataframe con el nombre del barrio, el precio y el número de entradas.\n",
    "\n",
    "Ayuda: Podeis crear un nuevo dataframe con las columnas \"Barrio\" y \"Freq\" que contenga el número de entradas en cada barrio y hacer un merge con el dataframe del punto anterior."
   ]
  },
  {
   "cell_type": "code",
   "execution_count": 502,
   "metadata": {},
   "outputs": [
    {
     "name": "stdout",
     "output_type": "stream",
     "text": [
      "[1] \"Apartamentos por Barrio\"\n"
     ]
    },
    {
     "data": {
      "text/html": [
       "<table class=\"dataframe\">\n",
       "<caption>A data.frame: 125 × 2</caption>\n",
       "<thead>\n",
       "\t<tr><th scope=col>Barrio</th><th scope=col>Freq</th></tr>\n",
       "\t<tr><th scope=col>&lt;fct&gt;</th><th scope=col>&lt;int&gt;</th></tr>\n",
       "</thead>\n",
       "<tbody>\n",
       "\t<tr><td>Abrantes                    </td><td>  3</td></tr>\n",
       "\t<tr><td>Acacias                     </td><td> 56</td></tr>\n",
       "\t<tr><td>Adelfas                     </td><td> 27</td></tr>\n",
       "\t<tr><td>Aeropuerto                  </td><td>  2</td></tr>\n",
       "\t<tr><td>Aguilas                     </td><td>  2</td></tr>\n",
       "\t<tr><td>Alameda de Osuna            </td><td>  2</td></tr>\n",
       "\t<tr><td>Almagro                     </td><td> 87</td></tr>\n",
       "\t<tr><td>Almenara                    </td><td> 22</td></tr>\n",
       "\t<tr><td>Almendrales                 </td><td> 12</td></tr>\n",
       "\t<tr><td>Aluche                      </td><td>  9</td></tr>\n",
       "\t<tr><td>Ambroz                      </td><td>  2</td></tr>\n",
       "\t<tr><td>Amposta                     </td><td>  0</td></tr>\n",
       "\t<tr><td>Apostol Santiago            </td><td>  4</td></tr>\n",
       "\t<tr><td>Arapiles                    </td><td> 92</td></tr>\n",
       "\t<tr><td>Aravaca                     </td><td>  6</td></tr>\n",
       "\t<tr><td>Arcos                       </td><td>  2</td></tr>\n",
       "\t<tr><td>Argüelles                   </td><td>128</td></tr>\n",
       "\t<tr><td>Atocha                      </td><td>  7</td></tr>\n",
       "\t<tr><td>Bellas Vistas               </td><td> 37</td></tr>\n",
       "\t<tr><td>Berruguete                  </td><td> 27</td></tr>\n",
       "\t<tr><td>Buenavista                  </td><td>  9</td></tr>\n",
       "\t<tr><td>Butarque                    </td><td>  1</td></tr>\n",
       "\t<tr><td>Campamento                  </td><td>  8</td></tr>\n",
       "\t<tr><td>Canillas                    </td><td> 10</td></tr>\n",
       "\t<tr><td>Canillejas                  </td><td>  0</td></tr>\n",
       "\t<tr><td>Cármenes                    </td><td>  5</td></tr>\n",
       "\t<tr><td>Casa de Campo               </td><td> 36</td></tr>\n",
       "\t<tr><td>Casco Histórico de Barajas  </td><td>  6</td></tr>\n",
       "\t<tr><td>Casco Histórico de Vallecas </td><td> 12</td></tr>\n",
       "\t<tr><td>Casco Histórico de Vicálvaro</td><td>  6</td></tr>\n",
       "\t<tr><td>⋮</td><td>⋮</td></tr>\n",
       "\t<tr><td>Puerta del Angel </td><td> 65</td></tr>\n",
       "\t<tr><td>Quintana         </td><td> 12</td></tr>\n",
       "\t<tr><td>Recoletos        </td><td>122</td></tr>\n",
       "\t<tr><td>Rejas            </td><td>  9</td></tr>\n",
       "\t<tr><td>Rios Rosas       </td><td> 52</td></tr>\n",
       "\t<tr><td>Rosas            </td><td>  0</td></tr>\n",
       "\t<tr><td>Salvador         </td><td>  4</td></tr>\n",
       "\t<tr><td>San Andrés       </td><td>  9</td></tr>\n",
       "\t<tr><td>San Cristobal    </td><td>  2</td></tr>\n",
       "\t<tr><td>San Diego        </td><td> 24</td></tr>\n",
       "\t<tr><td>San Fermín       </td><td>  6</td></tr>\n",
       "\t<tr><td>San Isidro       </td><td> 27</td></tr>\n",
       "\t<tr><td>San Juan Bautista</td><td> 11</td></tr>\n",
       "\t<tr><td>San Pascual      </td><td>  5</td></tr>\n",
       "\t<tr><td>Santa Eugenia    </td><td>  2</td></tr>\n",
       "\t<tr><td>Simancas         </td><td> 10</td></tr>\n",
       "\t<tr><td>Sol              </td><td>648</td></tr>\n",
       "\t<tr><td>Timón            </td><td>  5</td></tr>\n",
       "\t<tr><td>Trafalgar        </td><td>203</td></tr>\n",
       "\t<tr><td>Universidad      </td><td>897</td></tr>\n",
       "\t<tr><td>Valdeacederas    </td><td> 19</td></tr>\n",
       "\t<tr><td>Valdefuentes     </td><td> 16</td></tr>\n",
       "\t<tr><td>Valdemarín       </td><td>  2</td></tr>\n",
       "\t<tr><td>Valdezarza       </td><td>  3</td></tr>\n",
       "\t<tr><td>Vallehermoso     </td><td> 33</td></tr>\n",
       "\t<tr><td>Valverde         </td><td> 12</td></tr>\n",
       "\t<tr><td>Ventas           </td><td> 24</td></tr>\n",
       "\t<tr><td>Vinateros        </td><td>  2</td></tr>\n",
       "\t<tr><td>Vista Alegre     </td><td> 20</td></tr>\n",
       "\t<tr><td>Zofío            </td><td>  3</td></tr>\n",
       "</tbody>\n",
       "</table>\n"
      ],
      "text/latex": [
       "A data.frame: 125 × 2\n",
       "\\begin{tabular}{ll}\n",
       " Barrio & Freq\\\\\n",
       " <fct> & <int>\\\\\n",
       "\\hline\n",
       "\t Abrantes                     &   3\\\\\n",
       "\t Acacias                      &  56\\\\\n",
       "\t Adelfas                      &  27\\\\\n",
       "\t Aeropuerto                   &   2\\\\\n",
       "\t Aguilas                      &   2\\\\\n",
       "\t Alameda de Osuna             &   2\\\\\n",
       "\t Almagro                      &  87\\\\\n",
       "\t Almenara                     &  22\\\\\n",
       "\t Almendrales                  &  12\\\\\n",
       "\t Aluche                       &   9\\\\\n",
       "\t Ambroz                       &   2\\\\\n",
       "\t Amposta                      &   0\\\\\n",
       "\t Apostol Santiago             &   4\\\\\n",
       "\t Arapiles                     &  92\\\\\n",
       "\t Aravaca                      &   6\\\\\n",
       "\t Arcos                        &   2\\\\\n",
       "\t Argüelles                    & 128\\\\\n",
       "\t Atocha                       &   7\\\\\n",
       "\t Bellas Vistas                &  37\\\\\n",
       "\t Berruguete                   &  27\\\\\n",
       "\t Buenavista                   &   9\\\\\n",
       "\t Butarque                     &   1\\\\\n",
       "\t Campamento                   &   8\\\\\n",
       "\t Canillas                     &  10\\\\\n",
       "\t Canillejas                   &   0\\\\\n",
       "\t Cármenes                     &   5\\\\\n",
       "\t Casa de Campo                &  36\\\\\n",
       "\t Casco Histórico de Barajas   &   6\\\\\n",
       "\t Casco Histórico de Vallecas  &  12\\\\\n",
       "\t Casco Histórico de Vicálvaro &   6\\\\\n",
       "\t ⋮ & ⋮\\\\\n",
       "\t Puerta del Angel  &  65\\\\\n",
       "\t Quintana          &  12\\\\\n",
       "\t Recoletos         & 122\\\\\n",
       "\t Rejas             &   9\\\\\n",
       "\t Rios Rosas        &  52\\\\\n",
       "\t Rosas             &   0\\\\\n",
       "\t Salvador          &   4\\\\\n",
       "\t San Andrés        &   9\\\\\n",
       "\t San Cristobal     &   2\\\\\n",
       "\t San Diego         &  24\\\\\n",
       "\t San Fermín        &   6\\\\\n",
       "\t San Isidro        &  27\\\\\n",
       "\t San Juan Bautista &  11\\\\\n",
       "\t San Pascual       &   5\\\\\n",
       "\t Santa Eugenia     &   2\\\\\n",
       "\t Simancas          &  10\\\\\n",
       "\t Sol               & 648\\\\\n",
       "\t Timón             &   5\\\\\n",
       "\t Trafalgar         & 203\\\\\n",
       "\t Universidad       & 897\\\\\n",
       "\t Valdeacederas     &  19\\\\\n",
       "\t Valdefuentes      &  16\\\\\n",
       "\t Valdemarín        &   2\\\\\n",
       "\t Valdezarza        &   3\\\\\n",
       "\t Vallehermoso      &  33\\\\\n",
       "\t Valverde          &  12\\\\\n",
       "\t Ventas            &  24\\\\\n",
       "\t Vinateros         &   2\\\\\n",
       "\t Vista Alegre      &  20\\\\\n",
       "\t Zofío             &   3\\\\\n",
       "\\end{tabular}\n"
      ],
      "text/markdown": [
       "\n",
       "A data.frame: 125 × 2\n",
       "\n",
       "| Barrio &lt;fct&gt; | Freq &lt;int&gt; |\n",
       "|---|---|\n",
       "| Abrantes                     |   3 |\n",
       "| Acacias                      |  56 |\n",
       "| Adelfas                      |  27 |\n",
       "| Aeropuerto                   |   2 |\n",
       "| Aguilas                      |   2 |\n",
       "| Alameda de Osuna             |   2 |\n",
       "| Almagro                      |  87 |\n",
       "| Almenara                     |  22 |\n",
       "| Almendrales                  |  12 |\n",
       "| Aluche                       |   9 |\n",
       "| Ambroz                       |   2 |\n",
       "| Amposta                      |   0 |\n",
       "| Apostol Santiago             |   4 |\n",
       "| Arapiles                     |  92 |\n",
       "| Aravaca                      |   6 |\n",
       "| Arcos                        |   2 |\n",
       "| Argüelles                    | 128 |\n",
       "| Atocha                       |   7 |\n",
       "| Bellas Vistas                |  37 |\n",
       "| Berruguete                   |  27 |\n",
       "| Buenavista                   |   9 |\n",
       "| Butarque                     |   1 |\n",
       "| Campamento                   |   8 |\n",
       "| Canillas                     |  10 |\n",
       "| Canillejas                   |   0 |\n",
       "| Cármenes                     |   5 |\n",
       "| Casa de Campo                |  36 |\n",
       "| Casco Histórico de Barajas   |   6 |\n",
       "| Casco Histórico de Vallecas  |  12 |\n",
       "| Casco Histórico de Vicálvaro |   6 |\n",
       "| ⋮ | ⋮ |\n",
       "| Puerta del Angel  |  65 |\n",
       "| Quintana          |  12 |\n",
       "| Recoletos         | 122 |\n",
       "| Rejas             |   9 |\n",
       "| Rios Rosas        |  52 |\n",
       "| Rosas             |   0 |\n",
       "| Salvador          |   4 |\n",
       "| San Andrés        |   9 |\n",
       "| San Cristobal     |   2 |\n",
       "| San Diego         |  24 |\n",
       "| San Fermín        |   6 |\n",
       "| San Isidro        |  27 |\n",
       "| San Juan Bautista |  11 |\n",
       "| San Pascual       |   5 |\n",
       "| Santa Eugenia     |   2 |\n",
       "| Simancas          |  10 |\n",
       "| Sol               | 648 |\n",
       "| Timón             |   5 |\n",
       "| Trafalgar         | 203 |\n",
       "| Universidad       | 897 |\n",
       "| Valdeacederas     |  19 |\n",
       "| Valdefuentes      |  16 |\n",
       "| Valdemarín        |   2 |\n",
       "| Valdezarza        |   3 |\n",
       "| Vallehermoso      |  33 |\n",
       "| Valverde          |  12 |\n",
       "| Ventas            |  24 |\n",
       "| Vinateros         |   2 |\n",
       "| Vista Alegre      |  20 |\n",
       "| Zofío             |   3 |\n",
       "\n"
      ],
      "text/plain": [
       "    Barrio                       Freq\n",
       "1   Abrantes                       3 \n",
       "2   Acacias                       56 \n",
       "3   Adelfas                       27 \n",
       "4   Aeropuerto                     2 \n",
       "5   Aguilas                        2 \n",
       "6   Alameda de Osuna               2 \n",
       "7   Almagro                       87 \n",
       "8   Almenara                      22 \n",
       "9   Almendrales                   12 \n",
       "10  Aluche                         9 \n",
       "11  Ambroz                         2 \n",
       "12  Amposta                        0 \n",
       "13  Apostol Santiago               4 \n",
       "14  Arapiles                      92 \n",
       "15  Aravaca                        6 \n",
       "16  Arcos                          2 \n",
       "17  Argüelles                    128 \n",
       "18  Atocha                         7 \n",
       "19  Bellas Vistas                 37 \n",
       "20  Berruguete                    27 \n",
       "21  Buenavista                     9 \n",
       "22  Butarque                       1 \n",
       "23  Campamento                     8 \n",
       "24  Canillas                      10 \n",
       "25  Canillejas                     0 \n",
       "26  Cármenes                       5 \n",
       "27  Casa de Campo                 36 \n",
       "28  Casco Histórico de Barajas     6 \n",
       "29  Casco Histórico de Vallecas   12 \n",
       "30  Casco Histórico de Vicálvaro   6 \n",
       "⋮   ⋮                            ⋮   \n",
       "96  Puerta del Angel              65 \n",
       "97  Quintana                      12 \n",
       "98  Recoletos                    122 \n",
       "99  Rejas                          9 \n",
       "100 Rios Rosas                    52 \n",
       "101 Rosas                          0 \n",
       "102 Salvador                       4 \n",
       "103 San Andrés                     9 \n",
       "104 San Cristobal                  2 \n",
       "105 San Diego                     24 \n",
       "106 San Fermín                     6 \n",
       "107 San Isidro                    27 \n",
       "108 San Juan Bautista             11 \n",
       "109 San Pascual                    5 \n",
       "110 Santa Eugenia                  2 \n",
       "111 Simancas                      10 \n",
       "112 Sol                          648 \n",
       "113 Timón                          5 \n",
       "114 Trafalgar                    203 \n",
       "115 Universidad                  897 \n",
       "116 Valdeacederas                 19 \n",
       "117 Valdefuentes                  16 \n",
       "118 Valdemarín                     2 \n",
       "119 Valdezarza                     3 \n",
       "120 Vallehermoso                  33 \n",
       "121 Valverde                      12 \n",
       "122 Ventas                        24 \n",
       "123 Vinateros                      2 \n",
       "124 Vista Alegre                  20 \n",
       "125 Zofío                          3 "
      ]
     },
     "metadata": {},
     "output_type": "display_data"
    },
    {
     "name": "stdout",
     "output_type": "stream",
     "text": [
      "[1] \"Barrio, precio y número de entradas\"\n"
     ]
    },
    {
     "data": {
      "text/html": [
       "<table class=\"dataframe\">\n",
       "<caption>A data.frame: 119 × 3</caption>\n",
       "<thead>\n",
       "\t<tr><th scope=col>Barrio</th><th scope=col>PrecioMedio</th><th scope=col>Freq</th></tr>\n",
       "\t<tr><th scope=col>&lt;fct&gt;</th><th scope=col>&lt;dbl&gt;</th><th scope=col>&lt;int&gt;</th></tr>\n",
       "</thead>\n",
       "<tbody>\n",
       "\t<tr><td>Abrantes                    </td><td> 46.00000</td><td>  3</td></tr>\n",
       "\t<tr><td>Acacias                     </td><td> 68.16393</td><td> 56</td></tr>\n",
       "\t<tr><td>Adelfas                     </td><td> 68.72727</td><td> 27</td></tr>\n",
       "\t<tr><td>Aeropuerto                  </td><td> 38.00000</td><td>  2</td></tr>\n",
       "\t<tr><td>Aguilas                     </td><td> 54.50000</td><td>  2</td></tr>\n",
       "\t<tr><td>Alameda de Osuna            </td><td>138.75000</td><td>  2</td></tr>\n",
       "\t<tr><td>Almagro                     </td><td>109.18557</td><td> 87</td></tr>\n",
       "\t<tr><td>Almenara                    </td><td> 65.68000</td><td> 22</td></tr>\n",
       "\t<tr><td>Almendrales                 </td><td> 77.50000</td><td> 12</td></tr>\n",
       "\t<tr><td>Aluche                      </td><td> 55.88889</td><td>  9</td></tr>\n",
       "\t<tr><td>Ambroz                      </td><td> 34.50000</td><td>  2</td></tr>\n",
       "\t<tr><td>Apostol Santiago            </td><td> 96.60000</td><td>  4</td></tr>\n",
       "\t<tr><td>Arapiles                    </td><td> 69.62245</td><td> 92</td></tr>\n",
       "\t<tr><td>Aravaca                     </td><td> 66.33333</td><td>  6</td></tr>\n",
       "\t<tr><td>Arcos                       </td><td>100.50000</td><td>  2</td></tr>\n",
       "\t<tr><td>Argüelles                   </td><td> 89.57343</td><td>128</td></tr>\n",
       "\t<tr><td>Atocha                      </td><td> 71.44444</td><td>  7</td></tr>\n",
       "\t<tr><td>Bellas Vistas               </td><td> 51.77778</td><td> 37</td></tr>\n",
       "\t<tr><td>Berruguete                  </td><td> 53.85714</td><td> 27</td></tr>\n",
       "\t<tr><td>Buenavista                  </td><td> 57.91667</td><td>  9</td></tr>\n",
       "\t<tr><td>Butarque                    </td><td> 42.00000</td><td>  1</td></tr>\n",
       "\t<tr><td>Campamento                  </td><td> 45.55556</td><td>  8</td></tr>\n",
       "\t<tr><td>Canillas                    </td><td>105.80000</td><td> 10</td></tr>\n",
       "\t<tr><td>Canillejas                  </td><td> 91.66667</td><td>  0</td></tr>\n",
       "\t<tr><td>Cármenes                    </td><td> 78.00000</td><td>  5</td></tr>\n",
       "\t<tr><td>Casa de Campo               </td><td> 98.85366</td><td> 36</td></tr>\n",
       "\t<tr><td>Casco Histórico de Barajas  </td><td>141.25000</td><td>  6</td></tr>\n",
       "\t<tr><td>Casco Histórico de Vallecas </td><td> 61.11111</td><td> 12</td></tr>\n",
       "\t<tr><td>Casco Histórico de Vicálvaro</td><td> 73.87500</td><td>  6</td></tr>\n",
       "\t<tr><td>Castellana                  </td><td>141.38889</td><td> 66</td></tr>\n",
       "\t<tr><td>⋮</td><td>⋮</td><td>⋮</td></tr>\n",
       "\t<tr><td>Puerta Bonita    </td><td> 88.00000</td><td> 11</td></tr>\n",
       "\t<tr><td>Puerta del Angel </td><td> 59.67532</td><td> 65</td></tr>\n",
       "\t<tr><td>Quintana         </td><td> 65.00000</td><td> 12</td></tr>\n",
       "\t<tr><td>Recoletos        </td><td>161.92537</td><td>122</td></tr>\n",
       "\t<tr><td>Rejas            </td><td> 64.18182</td><td>  9</td></tr>\n",
       "\t<tr><td>Rios Rosas       </td><td> 83.00000</td><td> 52</td></tr>\n",
       "\t<tr><td>Salvador         </td><td> 66.40000</td><td>  4</td></tr>\n",
       "\t<tr><td>San Andrés       </td><td> 50.91667</td><td>  9</td></tr>\n",
       "\t<tr><td>San Cristobal    </td><td> 56.50000</td><td>  2</td></tr>\n",
       "\t<tr><td>San Diego        </td><td> 44.34375</td><td> 24</td></tr>\n",
       "\t<tr><td>San Fermín       </td><td> 63.50000</td><td>  6</td></tr>\n",
       "\t<tr><td>San Isidro       </td><td> 76.10256</td><td> 27</td></tr>\n",
       "\t<tr><td>San Juan Bautista</td><td> 75.53846</td><td> 11</td></tr>\n",
       "\t<tr><td>San Pascual      </td><td> 72.42857</td><td>  5</td></tr>\n",
       "\t<tr><td>Santa Eugenia    </td><td> 47.00000</td><td>  2</td></tr>\n",
       "\t<tr><td>Simancas         </td><td> 57.14286</td><td> 10</td></tr>\n",
       "\t<tr><td>Sol              </td><td>100.75036</td><td>648</td></tr>\n",
       "\t<tr><td>Timón            </td><td> 72.20000</td><td>  5</td></tr>\n",
       "\t<tr><td>Trafalgar        </td><td> 98.57848</td><td>203</td></tr>\n",
       "\t<tr><td>Universidad      </td><td> 79.39674</td><td>897</td></tr>\n",
       "\t<tr><td>Valdeacederas    </td><td> 67.36000</td><td> 19</td></tr>\n",
       "\t<tr><td>Valdefuentes     </td><td> 84.25000</td><td> 16</td></tr>\n",
       "\t<tr><td>Valdemarín       </td><td> 70.50000</td><td>  2</td></tr>\n",
       "\t<tr><td>Valdezarza       </td><td> 53.33333</td><td>  3</td></tr>\n",
       "\t<tr><td>Vallehermoso     </td><td> 92.39394</td><td> 33</td></tr>\n",
       "\t<tr><td>Valverde         </td><td> 71.57895</td><td> 12</td></tr>\n",
       "\t<tr><td>Ventas           </td><td> 50.03846</td><td> 24</td></tr>\n",
       "\t<tr><td>Vinateros        </td><td>102.50000</td><td>  2</td></tr>\n",
       "\t<tr><td>Vista Alegre     </td><td> 59.45455</td><td> 20</td></tr>\n",
       "\t<tr><td>Zofío            </td><td> 48.00000</td><td>  3</td></tr>\n",
       "</tbody>\n",
       "</table>\n"
      ],
      "text/latex": [
       "A data.frame: 119 × 3\n",
       "\\begin{tabular}{lll}\n",
       " Barrio & PrecioMedio & Freq\\\\\n",
       " <fct> & <dbl> & <int>\\\\\n",
       "\\hline\n",
       "\t Abrantes                     &  46.00000 &   3\\\\\n",
       "\t Acacias                      &  68.16393 &  56\\\\\n",
       "\t Adelfas                      &  68.72727 &  27\\\\\n",
       "\t Aeropuerto                   &  38.00000 &   2\\\\\n",
       "\t Aguilas                      &  54.50000 &   2\\\\\n",
       "\t Alameda de Osuna             & 138.75000 &   2\\\\\n",
       "\t Almagro                      & 109.18557 &  87\\\\\n",
       "\t Almenara                     &  65.68000 &  22\\\\\n",
       "\t Almendrales                  &  77.50000 &  12\\\\\n",
       "\t Aluche                       &  55.88889 &   9\\\\\n",
       "\t Ambroz                       &  34.50000 &   2\\\\\n",
       "\t Apostol Santiago             &  96.60000 &   4\\\\\n",
       "\t Arapiles                     &  69.62245 &  92\\\\\n",
       "\t Aravaca                      &  66.33333 &   6\\\\\n",
       "\t Arcos                        & 100.50000 &   2\\\\\n",
       "\t Argüelles                    &  89.57343 & 128\\\\\n",
       "\t Atocha                       &  71.44444 &   7\\\\\n",
       "\t Bellas Vistas                &  51.77778 &  37\\\\\n",
       "\t Berruguete                   &  53.85714 &  27\\\\\n",
       "\t Buenavista                   &  57.91667 &   9\\\\\n",
       "\t Butarque                     &  42.00000 &   1\\\\\n",
       "\t Campamento                   &  45.55556 &   8\\\\\n",
       "\t Canillas                     & 105.80000 &  10\\\\\n",
       "\t Canillejas                   &  91.66667 &   0\\\\\n",
       "\t Cármenes                     &  78.00000 &   5\\\\\n",
       "\t Casa de Campo                &  98.85366 &  36\\\\\n",
       "\t Casco Histórico de Barajas   & 141.25000 &   6\\\\\n",
       "\t Casco Histórico de Vallecas  &  61.11111 &  12\\\\\n",
       "\t Casco Histórico de Vicálvaro &  73.87500 &   6\\\\\n",
       "\t Castellana                   & 141.38889 &  66\\\\\n",
       "\t ⋮ & ⋮ & ⋮\\\\\n",
       "\t Puerta Bonita     &  88.00000 &  11\\\\\n",
       "\t Puerta del Angel  &  59.67532 &  65\\\\\n",
       "\t Quintana          &  65.00000 &  12\\\\\n",
       "\t Recoletos         & 161.92537 & 122\\\\\n",
       "\t Rejas             &  64.18182 &   9\\\\\n",
       "\t Rios Rosas        &  83.00000 &  52\\\\\n",
       "\t Salvador          &  66.40000 &   4\\\\\n",
       "\t San Andrés        &  50.91667 &   9\\\\\n",
       "\t San Cristobal     &  56.50000 &   2\\\\\n",
       "\t San Diego         &  44.34375 &  24\\\\\n",
       "\t San Fermín        &  63.50000 &   6\\\\\n",
       "\t San Isidro        &  76.10256 &  27\\\\\n",
       "\t San Juan Bautista &  75.53846 &  11\\\\\n",
       "\t San Pascual       &  72.42857 &   5\\\\\n",
       "\t Santa Eugenia     &  47.00000 &   2\\\\\n",
       "\t Simancas          &  57.14286 &  10\\\\\n",
       "\t Sol               & 100.75036 & 648\\\\\n",
       "\t Timón             &  72.20000 &   5\\\\\n",
       "\t Trafalgar         &  98.57848 & 203\\\\\n",
       "\t Universidad       &  79.39674 & 897\\\\\n",
       "\t Valdeacederas     &  67.36000 &  19\\\\\n",
       "\t Valdefuentes      &  84.25000 &  16\\\\\n",
       "\t Valdemarín        &  70.50000 &   2\\\\\n",
       "\t Valdezarza        &  53.33333 &   3\\\\\n",
       "\t Vallehermoso      &  92.39394 &  33\\\\\n",
       "\t Valverde          &  71.57895 &  12\\\\\n",
       "\t Ventas            &  50.03846 &  24\\\\\n",
       "\t Vinateros         & 102.50000 &   2\\\\\n",
       "\t Vista Alegre      &  59.45455 &  20\\\\\n",
       "\t Zofío             &  48.00000 &   3\\\\\n",
       "\\end{tabular}\n"
      ],
      "text/markdown": [
       "\n",
       "A data.frame: 119 × 3\n",
       "\n",
       "| Barrio &lt;fct&gt; | PrecioMedio &lt;dbl&gt; | Freq &lt;int&gt; |\n",
       "|---|---|---|\n",
       "| Abrantes                     |  46.00000 |   3 |\n",
       "| Acacias                      |  68.16393 |  56 |\n",
       "| Adelfas                      |  68.72727 |  27 |\n",
       "| Aeropuerto                   |  38.00000 |   2 |\n",
       "| Aguilas                      |  54.50000 |   2 |\n",
       "| Alameda de Osuna             | 138.75000 |   2 |\n",
       "| Almagro                      | 109.18557 |  87 |\n",
       "| Almenara                     |  65.68000 |  22 |\n",
       "| Almendrales                  |  77.50000 |  12 |\n",
       "| Aluche                       |  55.88889 |   9 |\n",
       "| Ambroz                       |  34.50000 |   2 |\n",
       "| Apostol Santiago             |  96.60000 |   4 |\n",
       "| Arapiles                     |  69.62245 |  92 |\n",
       "| Aravaca                      |  66.33333 |   6 |\n",
       "| Arcos                        | 100.50000 |   2 |\n",
       "| Argüelles                    |  89.57343 | 128 |\n",
       "| Atocha                       |  71.44444 |   7 |\n",
       "| Bellas Vistas                |  51.77778 |  37 |\n",
       "| Berruguete                   |  53.85714 |  27 |\n",
       "| Buenavista                   |  57.91667 |   9 |\n",
       "| Butarque                     |  42.00000 |   1 |\n",
       "| Campamento                   |  45.55556 |   8 |\n",
       "| Canillas                     | 105.80000 |  10 |\n",
       "| Canillejas                   |  91.66667 |   0 |\n",
       "| Cármenes                     |  78.00000 |   5 |\n",
       "| Casa de Campo                |  98.85366 |  36 |\n",
       "| Casco Histórico de Barajas   | 141.25000 |   6 |\n",
       "| Casco Histórico de Vallecas  |  61.11111 |  12 |\n",
       "| Casco Histórico de Vicálvaro |  73.87500 |   6 |\n",
       "| Castellana                   | 141.38889 |  66 |\n",
       "| ⋮ | ⋮ | ⋮ |\n",
       "| Puerta Bonita     |  88.00000 |  11 |\n",
       "| Puerta del Angel  |  59.67532 |  65 |\n",
       "| Quintana          |  65.00000 |  12 |\n",
       "| Recoletos         | 161.92537 | 122 |\n",
       "| Rejas             |  64.18182 |   9 |\n",
       "| Rios Rosas        |  83.00000 |  52 |\n",
       "| Salvador          |  66.40000 |   4 |\n",
       "| San Andrés        |  50.91667 |   9 |\n",
       "| San Cristobal     |  56.50000 |   2 |\n",
       "| San Diego         |  44.34375 |  24 |\n",
       "| San Fermín        |  63.50000 |   6 |\n",
       "| San Isidro        |  76.10256 |  27 |\n",
       "| San Juan Bautista |  75.53846 |  11 |\n",
       "| San Pascual       |  72.42857 |   5 |\n",
       "| Santa Eugenia     |  47.00000 |   2 |\n",
       "| Simancas          |  57.14286 |  10 |\n",
       "| Sol               | 100.75036 | 648 |\n",
       "| Timón             |  72.20000 |   5 |\n",
       "| Trafalgar         |  98.57848 | 203 |\n",
       "| Universidad       |  79.39674 | 897 |\n",
       "| Valdeacederas     |  67.36000 |  19 |\n",
       "| Valdefuentes      |  84.25000 |  16 |\n",
       "| Valdemarín        |  70.50000 |   2 |\n",
       "| Valdezarza        |  53.33333 |   3 |\n",
       "| Vallehermoso      |  92.39394 |  33 |\n",
       "| Valverde          |  71.57895 |  12 |\n",
       "| Ventas            |  50.03846 |  24 |\n",
       "| Vinateros         | 102.50000 |   2 |\n",
       "| Vista Alegre      |  59.45455 |  20 |\n",
       "| Zofío             |  48.00000 |   3 |\n",
       "\n"
      ],
      "text/plain": [
       "    Barrio                       PrecioMedio Freq\n",
       "1   Abrantes                      46.00000     3 \n",
       "2   Acacias                       68.16393    56 \n",
       "3   Adelfas                       68.72727    27 \n",
       "4   Aeropuerto                    38.00000     2 \n",
       "5   Aguilas                       54.50000     2 \n",
       "6   Alameda de Osuna             138.75000     2 \n",
       "7   Almagro                      109.18557    87 \n",
       "8   Almenara                      65.68000    22 \n",
       "9   Almendrales                   77.50000    12 \n",
       "10  Aluche                        55.88889     9 \n",
       "11  Ambroz                        34.50000     2 \n",
       "12  Apostol Santiago              96.60000     4 \n",
       "13  Arapiles                      69.62245    92 \n",
       "14  Aravaca                       66.33333     6 \n",
       "15  Arcos                        100.50000     2 \n",
       "16  Argüelles                     89.57343   128 \n",
       "17  Atocha                        71.44444     7 \n",
       "18  Bellas Vistas                 51.77778    37 \n",
       "19  Berruguete                    53.85714    27 \n",
       "20  Buenavista                    57.91667     9 \n",
       "21  Butarque                      42.00000     1 \n",
       "22  Campamento                    45.55556     8 \n",
       "23  Canillas                     105.80000    10 \n",
       "24  Canillejas                    91.66667     0 \n",
       "25  Cármenes                      78.00000     5 \n",
       "26  Casa de Campo                 98.85366    36 \n",
       "27  Casco Histórico de Barajas   141.25000     6 \n",
       "28  Casco Histórico de Vallecas   61.11111    12 \n",
       "29  Casco Histórico de Vicálvaro  73.87500     6 \n",
       "30  Castellana                   141.38889    66 \n",
       "⋮   ⋮                            ⋮           ⋮   \n",
       "90  Puerta Bonita                 88.00000    11 \n",
       "91  Puerta del Angel              59.67532    65 \n",
       "92  Quintana                      65.00000    12 \n",
       "93  Recoletos                    161.92537   122 \n",
       "94  Rejas                         64.18182     9 \n",
       "95  Rios Rosas                    83.00000    52 \n",
       "96  Salvador                      66.40000     4 \n",
       "97  San Andrés                    50.91667     9 \n",
       "98  San Cristobal                 56.50000     2 \n",
       "99  San Diego                     44.34375    24 \n",
       "100 San Fermín                    63.50000     6 \n",
       "101 San Isidro                    76.10256    27 \n",
       "102 San Juan Bautista             75.53846    11 \n",
       "103 San Pascual                   72.42857     5 \n",
       "104 Santa Eugenia                 47.00000     2 \n",
       "105 Simancas                      57.14286    10 \n",
       "106 Sol                          100.75036   648 \n",
       "107 Timón                         72.20000     5 \n",
       "108 Trafalgar                     98.57848   203 \n",
       "109 Universidad                   79.39674   897 \n",
       "110 Valdeacederas                 67.36000    19 \n",
       "111 Valdefuentes                  84.25000    16 \n",
       "112 Valdemarín                    70.50000     2 \n",
       "113 Valdezarza                    53.33333     3 \n",
       "114 Vallehermoso                  92.39394    33 \n",
       "115 Valverde                      71.57895    12 \n",
       "116 Ventas                        50.03846    24 \n",
       "117 Vinateros                    102.50000     2 \n",
       "118 Vista Alegre                  59.45455    20 \n",
       "119 Zofío                         48.00000     3 "
      ]
     },
     "metadata": {},
     "output_type": "display_data"
    }
   ],
   "source": [
    "# Definición de un nuevo DataFrame con solo las entradas de \"apartamentos\" en \"airbnb_entire\"\n",
    "airbnb_entire_apt <- filter(airbnb_entire, TipoPropiedad == 'Apartment')\n",
    "\n",
    "# Cantidad de apartamentos por barrio\n",
    "apt_by_barrio <- as.data.frame(table(airbnb_entire_apt$Barrio))\n",
    "colnames(apt_by_barrio)[1] <- 'Barrio'\n",
    "print('Apartamentos por Barrio')\n",
    "apt_by_barrio\n",
    "\n",
    "# Alternativa para conseguir los apartamentos por barrio\n",
    "#by(airbnb_entire_apt$TipoPropiedad, airbnb_entire_apt$Barrio, length)\n",
    "\n",
    "# Dataframe con el nombre del barrio, el precio y el número de entradas\n",
    "barrio_precio_entrada <- merge(barrio_precioMedio, apt_by_barrio, by='Barrio')\n",
    "print('Barrio, precio y número de entradas')\n",
    "barrio_precio_entrada\n",
    "\n"
   ]
  },
  {
   "cell_type": "markdown",
   "metadata": {},
   "source": [
    "Partiendo del dataframe anterior, muestra los 5 barrios con mayor precio, pero que tengan más de 100 entradas de alquiler."
   ]
  },
  {
   "cell_type": "code",
   "execution_count": 503,
   "metadata": {},
   "outputs": [
    {
     "data": {
      "text/html": [
       "<table class=\"dataframe\">\n",
       "<caption>A data.frame: 5 × 3</caption>\n",
       "<thead>\n",
       "\t<tr><th></th><th scope=col>Barrio</th><th scope=col>PrecioMedio</th><th scope=col>Freq</th></tr>\n",
       "\t<tr><th></th><th scope=col>&lt;fct&gt;</th><th scope=col>&lt;dbl&gt;</th><th scope=col>&lt;int&gt;</th></tr>\n",
       "</thead>\n",
       "<tbody>\n",
       "\t<tr><th scope=row>1</th><td>Recoletos</td><td>161.92537</td><td>122</td></tr>\n",
       "\t<tr><th scope=row>2</th><td>Goya     </td><td>111.33803</td><td>122</td></tr>\n",
       "\t<tr><th scope=row>3</th><td>Sol      </td><td>100.75036</td><td>648</td></tr>\n",
       "\t<tr><th scope=row>4</th><td>Trafalgar</td><td> 98.57848</td><td>203</td></tr>\n",
       "\t<tr><th scope=row>5</th><td>Justicia </td><td> 98.25468</td><td>486</td></tr>\n",
       "</tbody>\n",
       "</table>\n"
      ],
      "text/latex": [
       "A data.frame: 5 × 3\n",
       "\\begin{tabular}{r|lll}\n",
       "  & Barrio & PrecioMedio & Freq\\\\\n",
       "  & <fct> & <dbl> & <int>\\\\\n",
       "\\hline\n",
       "\t1 & Recoletos & 161.92537 & 122\\\\\n",
       "\t2 & Goya      & 111.33803 & 122\\\\\n",
       "\t3 & Sol       & 100.75036 & 648\\\\\n",
       "\t4 & Trafalgar &  98.57848 & 203\\\\\n",
       "\t5 & Justicia  &  98.25468 & 486\\\\\n",
       "\\end{tabular}\n"
      ],
      "text/markdown": [
       "\n",
       "A data.frame: 5 × 3\n",
       "\n",
       "| <!--/--> | Barrio &lt;fct&gt; | PrecioMedio &lt;dbl&gt; | Freq &lt;int&gt; |\n",
       "|---|---|---|---|\n",
       "| 1 | Recoletos | 161.92537 | 122 |\n",
       "| 2 | Goya      | 111.33803 | 122 |\n",
       "| 3 | Sol       | 100.75036 | 648 |\n",
       "| 4 | Trafalgar |  98.57848 | 203 |\n",
       "| 5 | Justicia  |  98.25468 | 486 |\n",
       "\n"
      ],
      "text/plain": [
       "  Barrio    PrecioMedio Freq\n",
       "1 Recoletos 161.92537   122 \n",
       "2 Goya      111.33803   122 \n",
       "3 Sol       100.75036   648 \n",
       "4 Trafalgar  98.57848   203 \n",
       "5 Justicia   98.25468   486 "
      ]
     },
     "metadata": {},
     "output_type": "display_data"
    }
   ],
   "source": [
    "# 5 barrios con mayor precio y más de 100 entradas\n",
    "freq100 <- filter(barrio_precio_entrada, Freq>100)\n",
    "top5_freq100 <- head(arrange(freq100, desc(PrecioMedio)), 5)\n",
    "top5_freq100"
   ]
  },
  {
   "cell_type": "markdown",
   "metadata": {},
   "source": [
    "Dibuja el diagrama de densidad de distribución de los diferentes precios. Serían 5 gráficas, una por cada barrio."
   ]
  },
  {
   "cell_type": "code",
   "execution_count": 504,
   "metadata": {},
   "outputs": [
    {
     "name": "stderr",
     "output_type": "stream",
     "text": [
      "Warning message in `==.default`(airbnb_entire$Barrio, top5_freq100$Barrio):\n",
      "“longer object length is not a multiple of shorter object length”\n",
      "Warning message in is.na(e1) | is.na(e2):\n",
      "“longer object length is not a multiple of shorter object length”\n",
      "Warning message:\n",
      "“Removed 1 rows containing non-finite values (stat_density).”\n"
     ]
    },
    {
     "data": {
      "image/png": "[encoded data removed]",
      "text/plain": [
       "plot without title"
      ]
     },
     "metadata": {
      "image/png": {
       "height": 240,
       "width": 360
      }
     },
     "output_type": "display_data"
    }
   ],
   "source": [
    "# Dibujo del lienzo de trabajo\n",
    "ggplot(airbnb_entire[airbnb_entire$Barrio == top5_freq100$Barrio,], aes(x=Precio, color=Barrio)) +\n",
    "# Dibujo del diagrama de densidad\n",
    "geom_density()"
   ]
  },
  {
   "cell_type": "markdown",
   "metadata": {},
   "source": [
    "Calcula el tamaño medio, en metros cuadrados, para los 5 barrios anteriores y muestralo en el mismo dataframe junto con el precio y número de entradas"
   ]
  },
  {
   "cell_type": "code",
   "execution_count": 505,
   "metadata": {},
   "outputs": [
    {
     "data": {
      "text/html": [
       "<table class=\"dataframe\">\n",
       "<caption>A data.frame: 5 × 4</caption>\n",
       "<thead>\n",
       "\t<tr><th scope=col>Barrio</th><th scope=col>PrecioMedio</th><th scope=col>Freq</th><th scope=col>Media_MetrosCuadrados</th></tr>\n",
       "\t<tr><th scope=col>&lt;fct&gt;</th><th scope=col>&lt;dbl&gt;</th><th scope=col>&lt;int&gt;</th><th scope=col>&lt;dbl&gt;</th></tr>\n",
       "</thead>\n",
       "<tbody>\n",
       "\t<tr><td>Goya     </td><td>111.33803</td><td>122</td><td>51.68504</td></tr>\n",
       "\t<tr><td>Justicia </td><td> 98.25468</td><td>486</td><td>28.52669</td></tr>\n",
       "\t<tr><td>Recoletos</td><td>161.92537</td><td>122</td><td>26.66316</td></tr>\n",
       "\t<tr><td>Sol      </td><td>100.75036</td><td>648</td><td>45.61692</td></tr>\n",
       "\t<tr><td>Trafalgar</td><td> 98.57848</td><td>203</td><td>29.30426</td></tr>\n",
       "</tbody>\n",
       "</table>\n"
      ],
      "text/latex": [
       "A data.frame: 5 × 4\n",
       "\\begin{tabular}{llll}\n",
       " Barrio & PrecioMedio & Freq & Media\\_MetrosCuadrados\\\\\n",
       " <fct> & <dbl> & <int> & <dbl>\\\\\n",
       "\\hline\n",
       "\t Goya      & 111.33803 & 122 & 51.68504\\\\\n",
       "\t Justicia  &  98.25468 & 486 & 28.52669\\\\\n",
       "\t Recoletos & 161.92537 & 122 & 26.66316\\\\\n",
       "\t Sol       & 100.75036 & 648 & 45.61692\\\\\n",
       "\t Trafalgar &  98.57848 & 203 & 29.30426\\\\\n",
       "\\end{tabular}\n"
      ],
      "text/markdown": [
       "\n",
       "A data.frame: 5 × 4\n",
       "\n",
       "| Barrio &lt;fct&gt; | PrecioMedio &lt;dbl&gt; | Freq &lt;int&gt; | Media_MetrosCuadrados &lt;dbl&gt; |\n",
       "|---|---|---|---|\n",
       "| Goya      | 111.33803 | 122 | 51.68504 |\n",
       "| Justicia  |  98.25468 | 486 | 28.52669 |\n",
       "| Recoletos | 161.92537 | 122 | 26.66316 |\n",
       "| Sol       | 100.75036 | 648 | 45.61692 |\n",
       "| Trafalgar |  98.57848 | 203 | 29.30426 |\n",
       "\n"
      ],
      "text/plain": [
       "  Barrio    PrecioMedio Freq Media_MetrosCuadrados\n",
       "1 Goya      111.33803   122  51.68504             \n",
       "2 Justicia   98.25468   486  28.52669             \n",
       "3 Recoletos 161.92537   122  26.66316             \n",
       "4 Sol       100.75036   648  45.61692             \n",
       "5 Trafalgar  98.57848   203  29.30426             "
      ]
     },
     "metadata": {},
     "output_type": "display_data"
    }
   ],
   "source": [
    "# Definición top barrios de airbnb_entire\n",
    "top <- airbnb_entire[airbnb_entire$Barrio %in% top5_freq100$Barrio,]\n",
    "\n",
    "# Agrupación del promedio de metros cuadrados del top 5 barrios\n",
    "prom_MetrosCuadrados <- aggregate(top$MetrosCuadrados, list(top$Barrio), mean, na.rm=TRUE)\n",
    "\n",
    "# Cambio de nombre a columnas para posterior join\n",
    "colnames(prom_MetrosCuadrados) <- c('Barrio','Media_MetrosCuadrados')\n",
    "\n",
    "# Join\n",
    "top5_freq100_m2 <- merge(top5_freq100, prom_MetrosCuadrados, by='Barrio')\n",
    "top5_freq100_m2"
   ]
  },
  {
   "cell_type": "markdown",
   "metadata": {},
   "source": [
    "Dibuja el diagrama de densidad de distribución de los diferentes tamaños de apartamentos. Serían 5 gráficas, una por cada barrio."
   ]
  },
  {
   "cell_type": "code",
   "execution_count": 506,
   "metadata": {},
   "outputs": [
    {
     "name": "stderr",
     "output_type": "stream",
     "text": [
      "Warning message in `==.default`(airbnb_entire$Barrio, top5_freq100_m2$Barrio):\n",
      "“longer object length is not a multiple of shorter object length”\n",
      "Warning message in is.na(e1) | is.na(e2):\n",
      "“longer object length is not a multiple of shorter object length”\n",
      "Warning message:\n",
      "“Removed 332 rows containing non-finite values (stat_density).”\n"
     ]
    },
    {
     "data": {
      "image/png": "[encoded data removed]",
      "text/plain": [
       "plot without title"
      ]
     },
     "metadata": {
      "image/png": {
       "height": 240,
       "width": 360
      }
     },
     "output_type": "display_data"
    }
   ],
   "source": [
    "# Dibujo del lienzo de trabajo\n",
    "ggplot(airbnb_entire[airbnb_entire$Barrio == top5_freq100_m2$Barrio,], aes(x=MetrosCuadrados, color=Barrio)) +\n",
    "#Dibujo del diagrama de densidad\n",
    "geom_density()"
   ]
  },
  {
   "cell_type": "markdown",
   "metadata": {},
   "source": [
    "Esta claro que las medias de metros cuadrados de cada uno de estos 5 barrios parecen ser diferentes, pero ¿son estadísticamente diferentes?\n",
    "¿Que test habría que usar para comprobarlo?"
   ]
  },
  {
   "cell_type": "code",
   "execution_count": 507,
   "metadata": {},
   "outputs": [
    {
     "data": {
      "text/plain": [
       "\n",
       "\tKruskal-Wallis rank sum test\n",
       "\n",
       "data:  Media_MetrosCuadrados by Barrio\n",
       "Kruskal-Wallis chi-squared = 4, df = 4, p-value = 0.406\n"
      ]
     },
     "metadata": {},
     "output_type": "display_data"
    },
    {
     "name": "stdout",
     "output_type": "stream",
     "text": [
      "[1] \"Como el p-value > 0.05, no se tiene evidencia estadística suficiente para afirmar que son diferentes\"\n",
      "[1] \"Test utilizado: Kruskal-Wallis\"\n"
     ]
    }
   ],
   "source": [
    "# Comprobación de que las medias de los metros cuadrados son diferentes\n",
    "kruskal.test(Media_MetrosCuadrados~Barrio, data=top5_freq100_m2)\n",
    "\n",
    "# Conclusión del ejercicio\n",
    "print('Como el p-value > 0.05, no se tiene evidencia estadística suficiente para afirmar que son diferentes')\n",
    "print('Test utilizado: Kruskal-Wallis')"
   ]
  },
  {
   "cell_type": "markdown",
   "metadata": {},
   "source": [
    "Para únicamente los pisos de alquiler en el barrio de Sol:\n",
    "\n",
    "``barrio_sol<-subset(airbnb_entire,Barrio==\"Sol\")``\n",
    "\n",
    "Calcular un modelo lineal que combine alguna de estas variables:\n",
    "* NumBanyos\n",
    "* NumDormitorios\n",
    "* MaxOcupantes\n",
    "* MetrosCuadrados"
   ]
  },
  {
   "cell_type": "code",
   "execution_count": 508,
   "metadata": {},
   "outputs": [
    {
     "name": "stderr",
     "output_type": "stream",
     "text": [
      "`geom_smooth()` using formula 'y ~ x'\n",
      "\n"
     ]
    },
    {
     "data": {
      "image/png": "[encoded data removed]",
      "text/plain": [
       "plot without title"
      ]
     },
     "metadata": {
      "image/png": {
       "height": 240,
       "width": 360
      }
     },
     "output_type": "display_data"
    }
   ],
   "source": [
    "# Filtrado del DataFrame por barrio \"Sol\"\n",
    "barrio_sol <- subset(airbnb_entire, Barrio == 'Sol')\n",
    "\n",
    "# Dibujo lienzo de trabajo\n",
    "ggplot(barrio_sol, aes(x=NumDormitorios, y=NumBanyos)) +\n",
    "# Dibujo scatter plot\n",
    "geom_point() +\n",
    "# Dibujo modelo lineal\n",
    "geom_smooth(method=lm)"
   ]
  },
  {
   "cell_type": "markdown",
   "metadata": {},
   "source": [
    "Primero calculamos la correlación para ver como se relacionan estas variables entre sí."
   ]
  },
  {
   "cell_type": "code",
   "execution_count": 509,
   "metadata": {},
   "outputs": [
    {
     "data": {
      "text/html": [
       "<table class=\"dataframe\">\n",
       "<caption>A matrix: 4 × 4 of type dbl</caption>\n",
       "<thead>\n",
       "\t<tr><th></th><th scope=col>NumBanyos</th><th scope=col>NumDormitorios</th><th scope=col>MaxOcupantes</th><th scope=col>MetrosCuadrados</th></tr>\n",
       "</thead>\n",
       "<tbody>\n",
       "\t<tr><th scope=row>NumBanyos</th><td>1.0000000</td><td>0.6761906</td><td>0.6578162</td><td>0.4820549</td></tr>\n",
       "\t<tr><th scope=row>NumDormitorios</th><td>0.6761906</td><td>1.0000000</td><td>0.7594598</td><td>0.5684521</td></tr>\n",
       "\t<tr><th scope=row>MaxOcupantes</th><td>0.6578162</td><td>0.7594598</td><td>1.0000000</td><td>0.4286233</td></tr>\n",
       "\t<tr><th scope=row>MetrosCuadrados</th><td>0.4820549</td><td>0.5684521</td><td>0.4286233</td><td>1.0000000</td></tr>\n",
       "</tbody>\n",
       "</table>\n"
      ],
      "text/latex": [
       "A matrix: 4 × 4 of type dbl\n",
       "\\begin{tabular}{r|llll}\n",
       "  & NumBanyos & NumDormitorios & MaxOcupantes & MetrosCuadrados\\\\\n",
       "\\hline\n",
       "\tNumBanyos & 1.0000000 & 0.6761906 & 0.6578162 & 0.4820549\\\\\n",
       "\tNumDormitorios & 0.6761906 & 1.0000000 & 0.7594598 & 0.5684521\\\\\n",
       "\tMaxOcupantes & 0.6578162 & 0.7594598 & 1.0000000 & 0.4286233\\\\\n",
       "\tMetrosCuadrados & 0.4820549 & 0.5684521 & 0.4286233 & 1.0000000\\\\\n",
       "\\end{tabular}\n"
      ],
      "text/markdown": [
       "\n",
       "A matrix: 4 × 4 of type dbl\n",
       "\n",
       "| <!--/--> | NumBanyos | NumDormitorios | MaxOcupantes | MetrosCuadrados |\n",
       "|---|---|---|---|---|\n",
       "| NumBanyos | 1.0000000 | 0.6761906 | 0.6578162 | 0.4820549 |\n",
       "| NumDormitorios | 0.6761906 | 1.0000000 | 0.7594598 | 0.5684521 |\n",
       "| MaxOcupantes | 0.6578162 | 0.7594598 | 1.0000000 | 0.4286233 |\n",
       "| MetrosCuadrados | 0.4820549 | 0.5684521 | 0.4286233 | 1.0000000 |\n",
       "\n"
      ],
      "text/plain": [
       "                NumBanyos NumDormitorios MaxOcupantes MetrosCuadrados\n",
       "NumBanyos       1.0000000 0.6761906      0.6578162    0.4820549      \n",
       "NumDormitorios  0.6761906 1.0000000      0.7594598    0.5684521      \n",
       "MaxOcupantes    0.6578162 0.7594598      1.0000000    0.4286233      \n",
       "MetrosCuadrados 0.4820549 0.5684521      0.4286233    1.0000000      "
      ]
     },
     "metadata": {},
     "output_type": "display_data"
    }
   ],
   "source": [
    "# Matriz de correlación de las cuatro variables seleccionadas\n",
    "cor(barrio_sol[c('NumBanyos','NumDormitorios','MaxOcupantes','MetrosCuadrados')],use='pairwise.complete.obs')"
   ]
  },
  {
   "cell_type": "markdown",
   "metadata": {},
   "source": [
    "Se observa que la correlación entre el número de dormitorios y los metros cuadrados es sorprendentemente baja.\n",
    "¿Son de fiar esos números?\n",
    "\n",
    "Mediante un histograma o curvas de densidad podemos descartar números que no tienen sentido en el dataframe barrio_sol,\n",
    "para tener una matriz de correlación que tenga mayor sentido.\n"
   ]
  },
  {
   "cell_type": "code",
   "execution_count": 510,
   "metadata": {},
   "outputs": [
    {
     "name": "stdout",
     "output_type": "stream",
     "text": [
      "[1] \"Como la correlación es baja no se puede confiar en que haya relación entre el números de dormitorios y los metros cuadrados\"\n"
     ]
    },
    {
     "name": "stderr",
     "output_type": "stream",
     "text": [
      "`stat_bin()` using `bins = 30`. Pick better value with `binwidth`.\n",
      "\n",
      "`stat_bin()` using `bins = 30`. Pick better value with `binwidth`.\n",
      "\n"
     ]
    },
    {
     "data": {
      "image/png": "[encoded data removed]",
      "text/plain": [
       "plot without title"
      ]
     },
     "metadata": {
      "image/png": {
       "height": 240,
       "width": 360
      }
     },
     "output_type": "display_data"
    },
    {
     "name": "stderr",
     "output_type": "stream",
     "text": [
      "`stat_bin()` using `bins = 30`. Pick better value with `binwidth`.\n",
      "\n"
     ]
    },
    {
     "data": {
      "image/png": "[encoded data removed]",
      "text/plain": [
       "plot without title"
      ]
     },
     "metadata": {
      "image/png": {
       "height": 240,
       "width": 360
      }
     },
     "output_type": "display_data"
    },
    {
     "name": "stderr",
     "output_type": "stream",
     "text": [
      "`stat_bin()` using `bins = 30`. Pick better value with `binwidth`.\n",
      "\n",
      "Warning message:\n",
      "“Removed 641 rows containing non-finite values (stat_bin).”\n"
     ]
    },
    {
     "data": {
      "image/png": "[encoded data removed]",
      "text/plain": [
       "plot without title"
      ]
     },
     "metadata": {
      "image/png": {
       "height": 240,
       "width": 360
      }
     },
     "output_type": "display_data"
    },
    {
     "data": {
      "image/png": "[encoded data removed]",
      "text/plain": [
       "plot without title"
      ]
     },
     "metadata": {
      "image/png": {
       "height": 240,
       "width": 360
      }
     },
     "output_type": "display_data"
    }
   ],
   "source": [
    "# Son de fiar estos números?\n",
    "print(paste('Como la correlación es baja', \n",
    "            'no se puede confiar en que haya relación',\n",
    "            'entre el números de dormitorios y', 'los metros cuadrados'))\n",
    "\n",
    "# Histograma NumBanyos\n",
    "ggplot(barrio_sol, aes(x=NumBanyos)) + geom_histogram()\n",
    "\n",
    "# Histograma NumDormitorios\n",
    "ggplot(barrio_sol, aes(x=NumDormitorios)) + geom_histogram()\n",
    "\n",
    "# Histograma MaxOcupantes\n",
    "ggplot(barrio_sol, aes(x=MaxOcupantes)) + geom_histogram()\n",
    "\n",
    "# Histograma MetrosCuadrados\n",
    "ggplot(barrio_sol, aes(x=MetrosCuadrados)) + geom_histogram()"
   ]
  },
  {
   "cell_type": "code",
   "execution_count": 511,
   "metadata": {},
   "outputs": [],
   "source": [
    "# Filtro de outliers\n",
    "barrio_sol <- barrio_sol[barrio_sol$NumDormitorios < 5.5,]\n",
    "barrio_sol <- barrio_sol[barrio_sol$MaxOcupantes < 14,]\n",
    "barrio_sol <- barrio_sol[barrio_sol$MetrosCuadrados > 5 & barrio_sol$MetrosCuadrados < 160,]"
   ]
  },
  {
   "cell_type": "markdown",
   "metadata": {},
   "source": [
    "Una vez que hayamos filtrado los datos correspondientes calcular el valor o la combinación de valores que mejor nos permite obtener el precio de un inmueble."
   ]
  },
  {
   "cell_type": "code",
   "execution_count": 512,
   "metadata": {},
   "outputs": [
    {
     "data": {
      "text/html": [
       "<table class=\"dataframe\">\n",
       "<caption>A matrix: 4 × 4 of type dbl</caption>\n",
       "<thead>\n",
       "\t<tr><th></th><th scope=col>NumBanyos</th><th scope=col>NumDormitorios</th><th scope=col>MaxOcupantes</th><th scope=col>MetrosCuadrados</th></tr>\n",
       "</thead>\n",
       "<tbody>\n",
       "\t<tr><th scope=row>NumBanyos</th><td>1.0000000</td><td>0.7546596</td><td>0.8511014</td><td>0.5702399</td></tr>\n",
       "\t<tr><th scope=row>NumDormitorios</th><td>0.7546596</td><td>1.0000000</td><td>0.8360971</td><td>0.7139575</td></tr>\n",
       "\t<tr><th scope=row>MaxOcupantes</th><td>0.8511014</td><td>0.8360971</td><td>1.0000000</td><td>0.8013169</td></tr>\n",
       "\t<tr><th scope=row>MetrosCuadrados</th><td>0.5702399</td><td>0.7139575</td><td>0.8013169</td><td>1.0000000</td></tr>\n",
       "</tbody>\n",
       "</table>\n"
      ],
      "text/latex": [
       "A matrix: 4 × 4 of type dbl\n",
       "\\begin{tabular}{r|llll}\n",
       "  & NumBanyos & NumDormitorios & MaxOcupantes & MetrosCuadrados\\\\\n",
       "\\hline\n",
       "\tNumBanyos & 1.0000000 & 0.7546596 & 0.8511014 & 0.5702399\\\\\n",
       "\tNumDormitorios & 0.7546596 & 1.0000000 & 0.8360971 & 0.7139575\\\\\n",
       "\tMaxOcupantes & 0.8511014 & 0.8360971 & 1.0000000 & 0.8013169\\\\\n",
       "\tMetrosCuadrados & 0.5702399 & 0.7139575 & 0.8013169 & 1.0000000\\\\\n",
       "\\end{tabular}\n"
      ],
      "text/markdown": [
       "\n",
       "A matrix: 4 × 4 of type dbl\n",
       "\n",
       "| <!--/--> | NumBanyos | NumDormitorios | MaxOcupantes | MetrosCuadrados |\n",
       "|---|---|---|---|---|\n",
       "| NumBanyos | 1.0000000 | 0.7546596 | 0.8511014 | 0.5702399 |\n",
       "| NumDormitorios | 0.7546596 | 1.0000000 | 0.8360971 | 0.7139575 |\n",
       "| MaxOcupantes | 0.8511014 | 0.8360971 | 1.0000000 | 0.8013169 |\n",
       "| MetrosCuadrados | 0.5702399 | 0.7139575 | 0.8013169 | 1.0000000 |\n",
       "\n"
      ],
      "text/plain": [
       "                NumBanyos NumDormitorios MaxOcupantes MetrosCuadrados\n",
       "NumBanyos       1.0000000 0.7546596      0.8511014    0.5702399      \n",
       "NumDormitorios  0.7546596 1.0000000      0.8360971    0.7139575      \n",
       "MaxOcupantes    0.8511014 0.8360971      1.0000000    0.8013169      \n",
       "MetrosCuadrados 0.5702399 0.7139575      0.8013169    1.0000000      "
      ]
     },
     "metadata": {},
     "output_type": "display_data"
    },
    {
     "data": {
      "text/plain": [
       "\n",
       "Call:\n",
       "lm(formula = Precio ~ NumBanyos + NumDormitorios + MaxOcupantes + \n",
       "    MetrosCuadrados, data = barrio_sol)\n",
       "\n",
       "Residuals:\n",
       "    Min      1Q  Median      3Q     Max \n",
       "-64.344 -16.513  -4.569  19.137  49.057 \n",
       "\n",
       "Coefficients:\n",
       "                Estimate Std. Error t value Pr(>|t|)    \n",
       "(Intercept)      33.9015    10.8259   3.132  0.00395 ** \n",
       "NumBanyos        -3.8512    12.9377  -0.298  0.76808    \n",
       "NumDormitorios   40.4786     7.9437   5.096 1.94e-05 ***\n",
       "MaxOcupantes      0.7399     4.8614   0.152  0.88009    \n",
       "MetrosCuadrados   0.1013     0.2355   0.430  0.67015    \n",
       "---\n",
       "Signif. codes:  0 ‘***’ 0.001 ‘**’ 0.01 ‘*’ 0.05 ‘.’ 0.1 ‘ ’ 1\n",
       "\n",
       "Residual standard error: 26.14 on 29 degrees of freedom\n",
       "  (637 observations deleted due to missingness)\n",
       "Multiple R-squared:  0.7782,\tAdjusted R-squared:  0.7476 \n",
       "F-statistic: 25.43 on 4 and 29 DF,  p-value: 4.046e-09\n"
      ]
     },
     "metadata": {},
     "output_type": "display_data"
    },
    {
     "data": {
      "text/html": [
       "<table class=\"dataframe\">\n",
       "<caption>A matrix: 5 × 2 of type dbl</caption>\n",
       "<thead>\n",
       "\t<tr><th></th><th scope=col>2.5 %</th><th scope=col>97.5 %</th></tr>\n",
       "</thead>\n",
       "<tbody>\n",
       "\t<tr><th scope=row>(Intercept)</th><td> 11.7601360</td><td>56.0428636</td></tr>\n",
       "\t<tr><th scope=row>NumBanyos</th><td>-30.3117434</td><td>22.6094300</td></tr>\n",
       "\t<tr><th scope=row>NumDormitorios</th><td> 24.2318242</td><td>56.7253986</td></tr>\n",
       "\t<tr><th scope=row>MaxOcupantes</th><td> -9.2028674</td><td>10.6825865</td></tr>\n",
       "\t<tr><th scope=row>MetrosCuadrados</th><td> -0.3802572</td><td> 0.5829034</td></tr>\n",
       "</tbody>\n",
       "</table>\n"
      ],
      "text/latex": [
       "A matrix: 5 × 2 of type dbl\n",
       "\\begin{tabular}{r|ll}\n",
       "  & 2.5 \\% & 97.5 \\%\\\\\n",
       "\\hline\n",
       "\t(Intercept) &  11.7601360 & 56.0428636\\\\\n",
       "\tNumBanyos & -30.3117434 & 22.6094300\\\\\n",
       "\tNumDormitorios &  24.2318242 & 56.7253986\\\\\n",
       "\tMaxOcupantes &  -9.2028674 & 10.6825865\\\\\n",
       "\tMetrosCuadrados &  -0.3802572 &  0.5829034\\\\\n",
       "\\end{tabular}\n"
      ],
      "text/markdown": [
       "\n",
       "A matrix: 5 × 2 of type dbl\n",
       "\n",
       "| <!--/--> | 2.5 % | 97.5 % |\n",
       "|---|---|---|\n",
       "| (Intercept) |  11.7601360 | 56.0428636 |\n",
       "| NumBanyos | -30.3117434 | 22.6094300 |\n",
       "| NumDormitorios |  24.2318242 | 56.7253986 |\n",
       "| MaxOcupantes |  -9.2028674 | 10.6825865 |\n",
       "| MetrosCuadrados |  -0.3802572 |  0.5829034 |\n",
       "\n"
      ],
      "text/plain": [
       "                2.5 %       97.5 %    \n",
       "(Intercept)      11.7601360 56.0428636\n",
       "NumBanyos       -30.3117434 22.6094300\n",
       "NumDormitorios   24.2318242 56.7253986\n",
       "MaxOcupantes     -9.2028674 10.6825865\n",
       "MetrosCuadrados  -0.3802572  0.5829034"
      ]
     },
     "metadata": {},
     "output_type": "display_data"
    }
   ],
   "source": [
    "# Matriz de correlación de las cuatro variables seleccionadas, habiendo eliminando los outliers\n",
    "cor(barrio_sol[c('NumBanyos','NumDormitorios','MaxOcupantes','MetrosCuadrados')],use='pairwise.complete.obs')\n",
    "\n",
    "# Modelo que permita calcular de mejor manera el precio del inmueble\n",
    "modelo <- lm(data=barrio_sol, formula=Precio~NumBanyos+NumDormitorios+MaxOcupantes+MetrosCuadrados)\n",
    "# Resumen estadístico del modelo\n",
    "summary(modelo)\n",
    "# Intervalo de confianza\n",
    "confint(modelo)"
   ]
  },
  {
   "cell_type": "markdown",
   "metadata": {},
   "source": [
    "¿Que variable es más fiable para conocer el precio de un inmueble, el número de habitaciones o los metros cuadrados?"
   ]
  },
  {
   "cell_type": "code",
   "execution_count": 513,
   "metadata": {},
   "outputs": [
    {
     "name": "stdout",
     "output_type": "stream",
     "text": [
      "[1] \"La variable más fiable para conocer el precio del inmueble es el número de habitaciones porque es la variable que tiene el p-value más pequeño\"\n"
     ]
    }
   ],
   "source": [
    "# Respuesta a la pregunta\n",
    "print(paste('La variable más fiable para conocer el precio del inmueble es el número de habitaciones',\n",
    "           'porque es la variable que tiene el p-value más pequeño'))"
   ]
  },
  {
   "cell_type": "markdown",
   "metadata": {},
   "source": [
    "Responde con su correspondiente margen de error del 95%, ¿cuantos euros incrementa el precio del alquiler por cada metro cuadrado extra del piso?"
   ]
  },
  {
   "cell_type": "code",
   "execution_count": 514,
   "metadata": {},
   "outputs": [
    {
     "data": {
      "text/plain": [
       "\n",
       "Call:\n",
       "lm(formula = Precio ~ MetrosCuadrados, data = barrio_sol)\n",
       "\n",
       "Residuals:\n",
       "    Min      1Q  Median      3Q     Max \n",
       "-69.524 -18.687  -3.552   6.679 117.654 \n",
       "\n",
       "Coefficients:\n",
       "                Estimate Std. Error t value Pr(>|t|)    \n",
       "(Intercept)      34.5801    14.0346   2.464   0.0193 *  \n",
       "MetrosCuadrados   0.9849     0.1939   5.080 1.57e-05 ***\n",
       "---\n",
       "Signif. codes:  0 ‘***’ 0.001 ‘**’ 0.01 ‘*’ 0.05 ‘.’ 0.1 ‘ ’ 1\n",
       "\n",
       "Residual standard error: 39.31 on 32 degrees of freedom\n",
       "  (637 observations deleted due to missingness)\n",
       "Multiple R-squared:  0.4465,\tAdjusted R-squared:  0.4292 \n",
       "F-statistic: 25.81 on 1 and 32 DF,  p-value: 1.573e-05\n"
      ]
     },
     "metadata": {},
     "output_type": "display_data"
    },
    {
     "data": {
      "text/html": [
       "<table class=\"dataframe\">\n",
       "<caption>A matrix: 2 × 2 of type dbl</caption>\n",
       "<thead>\n",
       "\t<tr><th></th><th scope=col>2.5 %</th><th scope=col>97.5 %</th></tr>\n",
       "</thead>\n",
       "<tbody>\n",
       "\t<tr><th scope=row>(Intercept)</th><td>5.9924951</td><td>63.167629</td></tr>\n",
       "\t<tr><th scope=row>MetrosCuadrados</th><td>0.5899918</td><td> 1.379721</td></tr>\n",
       "</tbody>\n",
       "</table>\n"
      ],
      "text/latex": [
       "A matrix: 2 × 2 of type dbl\n",
       "\\begin{tabular}{r|ll}\n",
       "  & 2.5 \\% & 97.5 \\%\\\\\n",
       "\\hline\n",
       "\t(Intercept) & 5.9924951 & 63.167629\\\\\n",
       "\tMetrosCuadrados & 0.5899918 &  1.379721\\\\\n",
       "\\end{tabular}\n"
      ],
      "text/markdown": [
       "\n",
       "A matrix: 2 × 2 of type dbl\n",
       "\n",
       "| <!--/--> | 2.5 % | 97.5 % |\n",
       "|---|---|---|\n",
       "| (Intercept) | 5.9924951 | 63.167629 |\n",
       "| MetrosCuadrados | 0.5899918 |  1.379721 |\n",
       "\n"
      ],
      "text/plain": [
       "                2.5 %     97.5 %   \n",
       "(Intercept)     5.9924951 63.167629\n",
       "MetrosCuadrados 0.5899918  1.379721"
      ]
     },
     "metadata": {},
     "output_type": "display_data"
    },
    {
     "name": "stdout",
     "output_type": "stream",
     "text": [
      "[1] \"El precio de alquiler aumenta en 0.9849 euros por cada metro cuadrado adicional del piso\"\n",
      "[1] \"Con una confianza del 95%, el intervalo donde se encuentra el incremento real es: [0.5899918 , 1.379721]\"\n"
     ]
    }
   ],
   "source": [
    "# Modelo de regresión lineal del precio en función de los metros cuadrados\n",
    "modelo_p_mc <- lm(data=barrio_sol, formula=Precio~MetrosCuadrados)\n",
    "# Resumen estadístico del modelo\n",
    "summary(modelo_p_mc)\n",
    "# Intervalo de confianza al 95%\n",
    "confint(modelo_p_mc)\n",
    "\n",
    "# Cuántos euros incrementa el precio del alquiler por cada metro cuadrado extra del piso?\n",
    "print('El precio de alquiler aumenta en 0.9849 euros por cada metro cuadrado adicional del piso')\n",
    "print('Con una confianza del 95%, el intervalo donde se encuentra el incremento real es: [0.5899918 , 1.379721]')"
   ]
  },
  {
   "cell_type": "markdown",
   "metadata": {},
   "source": [
    "Responde con su correspondiente margen de error del 95%, ¿cuantos euros incrementa el precio del alquiler por cada habitación?"
   ]
  },
  {
   "cell_type": "code",
   "execution_count": 515,
   "metadata": {},
   "outputs": [
    {
     "data": {
      "text/plain": [
       "\n",
       "Call:\n",
       "lm(formula = Precio ~ NumDormitorios, data = barrio_sol)\n",
       "\n",
       "Residuals:\n",
       "    Min      1Q  Median      3Q     Max \n",
       "-64.286 -17.476  -3.391  20.997  51.819 \n",
       "\n",
       "Coefficients:\n",
       "               Estimate Std. Error t value Pr(>|t|)    \n",
       "(Intercept)      35.943      7.256   4.953 2.28e-05 ***\n",
       "NumDormitorios   42.448      4.053  10.474 7.21e-12 ***\n",
       "---\n",
       "Signif. codes:  0 ‘***’ 0.001 ‘**’ 0.01 ‘*’ 0.05 ‘.’ 0.1 ‘ ’ 1\n",
       "\n",
       "Residual standard error: 25.11 on 32 degrees of freedom\n",
       "  (637 observations deleted due to missingness)\n",
       "Multiple R-squared:  0.7742,\tAdjusted R-squared:  0.7671 \n",
       "F-statistic: 109.7 on 1 and 32 DF,  p-value: 7.214e-12\n"
      ]
     },
     "metadata": {},
     "output_type": "display_data"
    },
    {
     "data": {
      "text/html": [
       "<table class=\"dataframe\">\n",
       "<caption>A matrix: 2 × 2 of type dbl</caption>\n",
       "<thead>\n",
       "\t<tr><th></th><th scope=col>2.5 %</th><th scope=col>97.5 %</th></tr>\n",
       "</thead>\n",
       "<tbody>\n",
       "\t<tr><th scope=row>(Intercept)</th><td>21.16276</td><td>50.72383</td></tr>\n",
       "\t<tr><th scope=row>NumDormitorios</th><td>34.19252</td><td>50.70250</td></tr>\n",
       "</tbody>\n",
       "</table>\n"
      ],
      "text/latex": [
       "A matrix: 2 × 2 of type dbl\n",
       "\\begin{tabular}{r|ll}\n",
       "  & 2.5 \\% & 97.5 \\%\\\\\n",
       "\\hline\n",
       "\t(Intercept) & 21.16276 & 50.72383\\\\\n",
       "\tNumDormitorios & 34.19252 & 50.70250\\\\\n",
       "\\end{tabular}\n"
      ],
      "text/markdown": [
       "\n",
       "A matrix: 2 × 2 of type dbl\n",
       "\n",
       "| <!--/--> | 2.5 % | 97.5 % |\n",
       "|---|---|---|\n",
       "| (Intercept) | 21.16276 | 50.72383 |\n",
       "| NumDormitorios | 34.19252 | 50.70250 |\n",
       "\n"
      ],
      "text/plain": [
       "               2.5 %    97.5 %  \n",
       "(Intercept)    21.16276 50.72383\n",
       "NumDormitorios 34.19252 50.70250"
      ]
     },
     "metadata": {},
     "output_type": "display_data"
    },
    {
     "name": "stdout",
     "output_type": "stream",
     "text": [
      "[1] \"El precio de alquiler aumenta en 42.448 euros por cada habitación adicional\"\n",
      "[1] \"Con una confianza del 95%, el intervalo donde se encuentra el incremento real es: [34.19252 , 50.70250]\"\n"
     ]
    }
   ],
   "source": [
    "# Modelo de regresión lineal del precio en función de los metros cuadrados\n",
    "modelo_p_nd <- lm(data=barrio_sol, formula=Precio~NumDormitorios)\n",
    "# Resumen estadístico del modelo\n",
    "summary(modelo_p_nd)\n",
    "# Intervalo de confianza al 95%\n",
    "confint(modelo_p_nd)\n",
    "\n",
    "# Cuántos euros incrementa el precio del alquiler por cada habitación?\n",
    "print('El precio de alquiler aumenta en 42.448 euros por cada habitación adicional')\n",
    "print('Con una confianza del 95%, el intervalo donde se encuentra el incremento real es: [34.19252 , 50.70250]')"
   ]
  },
  {
   "cell_type": "markdown",
   "metadata": {},
   "source": [
    "¿Cual es la probabilidad de encontrar, en el barrio de Sol, un apartamento en alquiler con 3 dormitorios?\n",
    "¿Cual es el intervalo de confianza de esa probabilidad?"
   ]
  },
  {
   "cell_type": "code",
   "execution_count": 516,
   "metadata": {},
   "outputs": [
    {
     "data": {
      "text/html": [
       "'La probabilidad de encontrar un apartamento en alquiler con 3 dormitorios es de un 5.88 %'"
      ],
      "text/latex": [
       "'La probabilidad de encontrar un apartamento en alquiler con 3 dormitorios es de un 5.88 \\%'"
      ],
      "text/markdown": [
       "'La probabilidad de encontrar un apartamento en alquiler con 3 dormitorios es de un 5.88 %'"
      ],
      "text/plain": [
       "[1] \"La probabilidad de encontrar un apartamento en alquiler con 3 dormitorios es de un 5.88 %\""
      ]
     },
     "metadata": {},
     "output_type": "display_data"
    }
   ],
   "source": [
    "# Probabilidad de encontrar un apartamento en alquiler con 3 dormitorios\n",
    "probabilidad <- length(na.omit(barrio_sol$NumDormitorios[barrio_sol$NumDormitorios == 3])) / length(na.omit(barrio_sol$NumDormitorios))\n",
    "# Respuesta a la pregunta\n",
    "paste('La probabilidad de encontrar un apartamento en alquiler con 3 dormitorios es de un', \n",
    "      round(probabilidad*100,2), '%')"
   ]
  },
  {
   "cell_type": "code",
   "execution_count": 517,
   "metadata": {},
   "outputs": [
    {
     "data": {
      "text/plain": [
       "\n",
       "\tExact binomial test\n",
       "\n",
       "data:  length(na.omit(barrio_sol$NumDormitorios[barrio_sol$NumDormitorios == 3])) and length(na.omit(barrio_sol$NumDormitorios))\n",
       "number of successes = 2, number of trials = 34, p-value = 6.938e-08\n",
       "alternative hypothesis: true probability of success is not equal to 0.5\n",
       "95 percent confidence interval:\n",
       " 0.007204917 0.196773209\n",
       "sample estimates:\n",
       "probability of success \n",
       "            0.05882353 \n"
      ]
     },
     "metadata": {},
     "output_type": "display_data"
    },
    {
     "data": {
      "text/html": [
       "'Con un 95% de confianza, el intervalo donde se encuentra la verdadera probabilidad de encontrar un apartamento en alquiler con 3 habitaciones es de [0.72% , 19.68%]'"
      ],
      "text/latex": [
       "'Con un 95\\% de confianza, el intervalo donde se encuentra la verdadera probabilidad de encontrar un apartamento en alquiler con 3 habitaciones es de {[}0.72\\% , 19.68\\%{]}'"
      ],
      "text/markdown": [
       "'Con un 95% de confianza, el intervalo donde se encuentra la verdadera probabilidad de encontrar un apartamento en alquiler con 3 habitaciones es de [0.72% , 19.68%]'"
      ],
      "text/plain": [
       "[1] \"Con un 95% de confianza, el intervalo donde se encuentra la verdadera probabilidad de encontrar un apartamento en alquiler con 3 habitaciones es de [0.72% , 19.68%]\""
      ]
     },
     "metadata": {},
     "output_type": "display_data"
    }
   ],
   "source": [
    "# Intervalo de confianza para la probabilidad de encontrar un apartamento en alquiler con 3 dormitorios\n",
    "binom.test(length(na.omit(barrio_sol$NumDormitorios[barrio_sol$NumDormitorios == 3])), length(na.omit(barrio_sol$NumDormitorios)))\n",
    "# Respuesta a la pregunta\n",
    "paste('Con un 95% de confianza, el intervalo donde se encuentra la verdadera probabilidad de encontrar un',\n",
    "    'apartamento en alquiler con 3 habitaciones es de [0.72% , 19.68%]')"
   ]
  }
 ],
 "metadata": {
  "kernelspec": {
   "display_name": "R",
   "language": "R",
   "name": "ir"
  },
  "language_info": {
   "codemirror_mode": "r",
   "file_extension": ".r",
   "mimetype": "text/x-r-source",
   "name": "R",
   "pygments_lexer": "r",
   "version": "4.1.0"
  }
 },
 "nbformat": 4,
 "nbformat_minor": 2
}
